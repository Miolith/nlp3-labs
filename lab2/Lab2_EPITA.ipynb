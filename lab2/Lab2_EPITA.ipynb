{
  "nbformat": 4,
  "nbformat_minor": 0,
  "metadata": {
    "colab": {
      "name": "Lab2_EPITA.ipynb",
      "provenance": [],
      "include_colab_link": true
    },
    "kernelspec": {
      "name": "python3",
      "display_name": "Python 3"
    },
    "language_info": {
      "name": "python"
    }
  },
  "cells": [
    {
      "cell_type": "markdown",
      "metadata": {
        "id": "view-in-github",
        "colab_type": "text"
      },
      "source": [
        "<a href=\"https://colab.research.google.com/github/Miolith/nlp3-labs/blob/master/lab2/Lab2_EPITA.ipynb\" target=\"_parent\"><img src=\"https://colab.research.google.com/assets/colab-badge.svg\" alt=\"Open In Colab\"/></a>"
      ]
    },
    {
      "cell_type": "code",
      "metadata": {
        "id": "444rw1H7Tc5X"
      },
      "source": [
        "import os \n",
        "import pandas as pd \n",
        "\n",
        "from IPython.display import HTML"
      ],
      "execution_count": 1,
      "outputs": []
    },
    {
      "cell_type": "code",
      "metadata": {
        "id": "DZZ-lQ6ZCSkw"
      },
      "source": [
        "%%capture\n",
        "! pip install fasttext"
      ],
      "execution_count": 2,
      "outputs": []
    },
    {
      "cell_type": "markdown",
      "metadata": {
        "id": "OdJi0t01bK4w"
      },
      "source": [
        "# I. Language detection (24 points)"
      ]
    },
    {
      "cell_type": "markdown",
      "metadata": {
        "id": "KLTloWrXUPjX"
      },
      "source": [
        "## Setup "
      ]
    },
    {
      "cell_type": "code",
      "metadata": {
        "colab": {
          "base_uri": "https://localhost:8080/"
        },
        "id": "pvSPXjija_s3",
        "outputId": "a590c475-6082-4c4c-fc25-f652b06adef3"
      },
      "source": [
        "! git clone https://github.com/MastafaF/LanguageDetection.git"
      ],
      "execution_count": 3,
      "outputs": [
        {
          "output_type": "stream",
          "name": "stdout",
          "text": [
            "Cloning into 'LanguageDetection'...\n",
            "remote: Enumerating objects: 11, done.\u001b[K\n",
            "remote: Counting objects: 100% (11/11), done.\u001b[K\n",
            "remote: Compressing objects: 100% (8/8), done.\u001b[K\n",
            "remote: Total 11 (delta 2), reused 4 (delta 1), pack-reused 0\u001b[K\n",
            "Unpacking objects: 100% (11/11), done.\n"
          ]
        }
      ]
    },
    {
      "cell_type": "code",
      "metadata": {
        "colab": {
          "base_uri": "https://localhost:8080/"
        },
        "id": "i1FzKr_KTn--",
        "outputId": "33f9620d-3bb4-40f2-d419-d8a4fa59dc02"
      },
      "source": [
        "os.listdir(\"./LanguageDetection\")"
      ],
      "execution_count": 4,
      "outputs": [
        {
          "output_type": "execute_result",
          "data": {
            "text/plain": [
              "['.git', 'dataset.csv.zip', '.gitignore', 'LICENSE', 'README.md']"
            ]
          },
          "metadata": {},
          "execution_count": 4
        }
      ]
    },
    {
      "cell_type": "code",
      "metadata": {
        "id": "vUX_IVaqTrGY"
      },
      "source": [
        "# CD the LanguageDetection folder - we are working in the below folder now\n",
        "os.chdir(\"./LanguageDetection\")"
      ],
      "execution_count": 5,
      "outputs": []
    },
    {
      "cell_type": "code",
      "metadata": {
        "colab": {
          "base_uri": "https://localhost:8080/"
        },
        "id": "kCV5bn74UAPv",
        "outputId": "3f07b2e0-086b-42bb-9738-7b22033febd7"
      },
      "source": [
        "! unzip dataset.csv.zip"
      ],
      "execution_count": 6,
      "outputs": [
        {
          "output_type": "stream",
          "name": "stdout",
          "text": [
            "Archive:  dataset.csv.zip\n",
            "  inflating: dataset.csv             \n"
          ]
        }
      ]
    },
    {
      "cell_type": "markdown",
      "metadata": {
        "id": "vIBh8insUSc-"
      },
      "source": [
        "## Data Exploration Analysis"
      ]
    },
    {
      "cell_type": "code",
      "metadata": {
        "id": "xDfv7hhSUN6i"
      },
      "source": [
        "data = pd.read_csv(\"./dataset.csv\")"
      ],
      "execution_count": 7,
      "outputs": []
    },
    {
      "cell_type": "code",
      "metadata": {
        "colab": {
          "base_uri": "https://localhost:8080/",
          "height": 150
        },
        "id": "JAXFNxudyfTr",
        "outputId": "e2743310-17cf-4733-9c52-d7baaa2613f1"
      },
      "source": [
        "# Sample of the data\n",
        "HTML(data[data.language == \"Chinese\"].sample().to_html())"
      ],
      "execution_count": 8,
      "outputs": [
        {
          "output_type": "execute_result",
          "data": {
            "text/plain": [
              "<IPython.core.display.HTML object>"
            ],
            "text/html": [
              "<table border=\"1\" class=\"dataframe\">\n",
              "  <thead>\n",
              "    <tr style=\"text-align: right;\">\n",
              "      <th></th>\n",
              "      <th>Text</th>\n",
              "      <th>language</th>\n",
              "    </tr>\n",
              "  </thead>\n",
              "  <tbody>\n",
              "    <tr>\n",
              "      <th>7913</th>\n",
              "      <td>台灣作家張瑞芬表示自己如果習慣現代都市生活，會害怕凶猛華麗的戰鬥場面。並且認為賽片難在影展得獎，因為「當前世界是非紛擾，談和平還來不及，你在那兒表彰以眼還眼的殺戮邏輯、暴力美學，挑釁西方基督教文明與人道的普世價值嘛！」張也將魏德聖明知賽片不受歡迎仍然投資拍攝的態度與劇中莫那·魯道以及活得像真正的人的主題相比較。張並以佛洛伊德「文明及其不滿」概念解釋，認為莫那·魯道的反抗是出於傳統的人民被文明社會「異化」而產生的恐慌與憤怒。張又認為在上集戰鬥舞一幕顯示賽片所說真正的人是獵人，並認為不該以深山環境以外的觀點來理解霧社事件，並且回顧幾部相關台灣文學作品的觀點。張文中並且將片中賽德克人的忍耐與現代上班族生活比較，以及將獵人的態度與現代原住民的抗議比較，並且表達認同。</td>\n",
              "      <td>Chinese</td>\n",
              "    </tr>\n",
              "  </tbody>\n",
              "</table>"
            ]
          },
          "metadata": {},
          "execution_count": 8
        }
      ]
    },
    {
      "cell_type": "markdown",
      "metadata": {
        "id": "FN0ADAdPVejT"
      },
      "source": [
        "### Question 1. Describe the distribution of languages and give at least two comments about the dataset. (1 point)"
      ]
    },
    {
      "cell_type": "code",
      "metadata": {
        "id": "Fd1UdWiiVcoJ",
        "colab": {
          "base_uri": "https://localhost:8080/",
          "height": 372
        },
        "outputId": "7b20fd23-e9d9-493f-84ee-6b84a04da45c"
      },
      "source": [
        "################################################\n",
        "# your implementation goes here\n",
        "import matplotlib.pyplot as plt\n",
        "import seaborn as sns\n",
        "\n",
        "plt.figure(figsize=(20, 5))\n",
        "sns.countplot(data.language)\n",
        "plt.show()\n",
        "##################################################"
      ],
      "execution_count": 9,
      "outputs": [
        {
          "output_type": "stream",
          "name": "stderr",
          "text": [
            "/usr/local/lib/python3.8/dist-packages/seaborn/_decorators.py:36: FutureWarning: Pass the following variable as a keyword arg: x. From version 0.12, the only valid positional argument will be `data`, and passing other arguments without an explicit keyword will result in an error or misinterpretation.\n",
            "  warnings.warn(\n"
          ]
        },
        {
          "output_type": "display_data",
          "data": {
            "text/plain": [
              "<Figure size 1440x360 with 1 Axes>"
            ],
            "image/png": "[encoded data removed]"
          },
          "metadata": {
            "needs_background": "light"
          }
        }
      ]
    },
    {
      "cell_type": "markdown",
      "metadata": {
        "id": "czrUUAqJyoyW"
      },
      "source": [
        "### Question 2-5. Explore the data with your own preprocessing and train your model"
      ]
    },
    {
      "cell_type": "code",
      "metadata": {
        "id": "nNoW0UnlW4Bk",
        "colab": {
          "base_uri": "https://localhost:8080/"
        },
        "outputId": "b8925236-e644-4278-928d-afa2e67410aa"
      },
      "source": [
        "\n",
        "import numpy as np\n",
        "from sklearn.model_selection import train_test_split\n",
        "\n",
        "X=data['Text']\n",
        "y=data['language']\n",
        "\n",
        "\n",
        "################################################\n",
        "# your implementation goes here\n",
        "import string\n",
        "\n",
        "def preprocess_text(X, y):\n",
        "    X = X.str.lower()\n",
        "    X = X.str.replace('[{}]'.format(string.punctuation + \"，。！？【】（）％＃＠＆《》\"), ' ', regex=True)\n",
        "    \n",
        "    # Add space between chinese characters\n",
        "    X = X.str.replace(r'([\\u4e00-\\u9fff])', r' \\1 ', regex=True)\n",
        "    # Add space between thai characters\n",
        "    X = X.str.replace(r'([\\u0e00-\\u0e7f])', r' \\1 ', regex=True)\n",
        "    return X\n",
        "\n",
        "X = preprocess_text(X, y)\n",
        "\n",
        "from sklearn.naive_bayes import MultinomialNB\n",
        "from sklearn.feature_extraction.text import CountVectorizer\n",
        "from sklearn.pipeline import Pipeline\n",
        "from sklearn.metrics import accuracy_score, classification_report\n",
        "\n",
        "X_train, X_test, y_train, y_test = train_test_split(X, y, test_size=0.2, random_state=42, stratify=y)\n",
        "\n",
        "nb = Pipeline([('vect', CountVectorizer(max_features=15000, token_pattern=r'(?u)\\b[^ ]+\\b')),\n",
        "                ('clf', MultinomialNB()),\n",
        "                ])\n",
        "\n",
        "nb.fit(X_train, y_train)\n",
        "\n",
        "y_pred = nb.predict(X_test)\n",
        "\n",
        "print(classification_report(y_pred, y_test))\n",
        "\n",
        "################################################"
      ],
      "execution_count": 59,
      "outputs": [
        {
          "output_type": "stream",
          "name": "stdout",
          "text": [
            "              precision    recall  f1-score   support\n",
            "\n",
            "      Arabic       0.99      0.99      0.99       202\n",
            "     Chinese       0.99      0.98      0.99       204\n",
            "       Dutch       0.98      0.99      0.98       198\n",
            "     English       1.00      0.78      0.88       257\n",
            "    Estonian       0.96      1.00      0.98       192\n",
            "      French       0.99      0.96      0.98       208\n",
            "       Hindi       0.96      1.00      0.98       193\n",
            "  Indonesian       0.97      1.00      0.98       194\n",
            "    Japanese       0.99      1.00      0.99       198\n",
            "      Korean       0.97      1.00      0.98       194\n",
            "       Latin       0.93      0.99      0.96       188\n",
            "     Persian       0.99      1.00      0.99       198\n",
            "   Portugese       0.96      0.99      0.98       195\n",
            "      Pushto       0.96      0.99      0.98       193\n",
            "    Romanian       0.98      0.99      0.99       197\n",
            "     Russian       0.99      0.99      0.99       200\n",
            "     Spanish       0.99      0.99      0.99       199\n",
            "     Swedish       1.00      1.00      1.00       201\n",
            "       Tamil       0.98      1.00      0.99       196\n",
            "        Thai       0.99      1.00      1.00       199\n",
            "     Turkish       0.99      1.00      0.99       198\n",
            "        Urdu       0.98      1.00      0.99       196\n",
            "\n",
            "    accuracy                           0.98      4400\n",
            "   macro avg       0.98      0.98      0.98      4400\n",
            "weighted avg       0.98      0.98      0.98      4400\n",
            "\n"
          ]
        }
      ]
    },
    {
      "cell_type": "markdown",
      "metadata": {
        "id": "C0614tVO--6G"
      },
      "source": [
        "## FastText for language detection"
      ]
    },
    {
      "cell_type": "markdown",
      "metadata": {
        "id": "lhGvhp6kf8E5"
      },
      "source": [
        "## FastText training setup "
      ]
    },
    {
      "cell_type": "code",
      "metadata": {
        "colab": {
          "base_uri": "https://localhost:8080/"
        },
        "id": "9ZtDxw9D9aPh",
        "outputId": "874fe129-9617-4e46-9eac-48c88cc36934"
      },
      "source": [
        "! wget http://downloads.tatoeba.org/exports/sentences.tar.bz2"
      ],
      "execution_count": 38,
      "outputs": [
        {
          "output_type": "stream",
          "name": "stdout",
          "text": [
            "--2023-01-04 16:19:40--  http://downloads.tatoeba.org/exports/sentences.tar.bz2\n",
            "Resolving downloads.tatoeba.org (downloads.tatoeba.org)... 94.130.77.194\n",
            "Connecting to downloads.tatoeba.org (downloads.tatoeba.org)|94.130.77.194|:80... connected.\n",
            "HTTP request sent, awaiting response... 301 Moved Permanently\n",
            "Location: https://downloads.tatoeba.org/exports/sentences.tar.bz2 [following]\n",
            "--2023-01-04 16:19:40--  https://downloads.tatoeba.org/exports/sentences.tar.bz2\n",
            "Connecting to downloads.tatoeba.org (downloads.tatoeba.org)|94.130.77.194|:443... connected.\n",
            "HTTP request sent, awaiting response... 200 OK\n",
            "Length: 172433658 (164M) [application/octet-stream]\n",
            "Saving to: ‘sentences.tar.bz2’\n",
            "\n",
            "sentences.tar.bz2   100%[===================>] 164.45M   216MB/s    in 0.8s    \n",
            "\n",
            "2023-01-04 16:19:41 (216 MB/s) - ‘sentences.tar.bz2’ saved [172433658/172433658]\n",
            "\n"
          ]
        }
      ]
    },
    {
      "cell_type": "code",
      "metadata": {
        "id": "t9ETznJA9cLw"
      },
      "source": [
        "! bunzip2 sentences.tar.bz2"
      ],
      "execution_count": 39,
      "outputs": []
    },
    {
      "cell_type": "code",
      "metadata": {
        "colab": {
          "base_uri": "https://localhost:8080/"
        },
        "id": "cihDm5c99oZh",
        "outputId": "ac1a0c34-7683-45db-a375-04ed7fd32e85"
      },
      "source": [
        "! ls"
      ],
      "execution_count": 40,
      "outputs": [
        {
          "output_type": "stream",
          "name": "stdout",
          "text": [
            "dataset.csv  dataset.csv.zip  LICENSE  README.md  sentences.tar\n"
          ]
        }
      ]
    },
    {
      "cell_type": "code",
      "metadata": {
        "colab": {
          "base_uri": "https://localhost:8080/"
        },
        "id": "yPZSloMN-cM0",
        "outputId": "0bc24128-b72d-4054-8f2f-07cf6841bfde"
      },
      "source": [
        "! tar xvf sentences.tar"
      ],
      "execution_count": 41,
      "outputs": [
        {
          "output_type": "stream",
          "name": "stdout",
          "text": [
            "sentences.csv\n"
          ]
        }
      ]
    },
    {
      "cell_type": "code",
      "metadata": {
        "colab": {
          "base_uri": "https://localhost:8080/"
        },
        "id": "Si8T701N-h5p",
        "outputId": "2c115a45-fc39-4a74-d65e-5e6926264b1b"
      },
      "source": [
        "! ls"
      ],
      "execution_count": 42,
      "outputs": [
        {
          "output_type": "stream",
          "name": "stdout",
          "text": [
            "dataset.csv  dataset.csv.zip  LICENSE  README.md  sentences.csv  sentences.tar\n"
          ]
        }
      ]
    },
    {
      "cell_type": "code",
      "metadata": {
        "colab": {
          "base_uri": "https://localhost:8080/"
        },
        "id": "rtjL8hYg-nZJ",
        "outputId": "73063b64-3bf7-4d62-a450-61b87dc43cc9"
      },
      "source": [
        "! head -10 sentences.csv"
      ],
      "execution_count": 43,
      "outputs": [
        {
          "output_type": "stream",
          "name": "stdout",
          "text": [
            "1\tcmn\t我們試試看！\n",
            "2\tcmn\t我该去睡觉了。\n",
            "3\tcmn\t你在干什麼啊？\n",
            "4\tcmn\t這是什麼啊？\n",
            "5\tcmn\t今天是６月１８号，也是Muiriel的生日！\n",
            "6\tcmn\t生日快乐，Muiriel！\n",
            "7\tcmn\tMuiriel现在20岁了。\n",
            "8\tcmn\t密码是\"Muiriel\"。\n",
            "9\tcmn\t我很快就會回來。\n",
            "10\tcmn\t我不知道。\n"
          ]
        }
      ]
    },
    {
      "cell_type": "code",
      "metadata": {
        "id": "KTtbtb5E-tFP"
      },
      "source": [
        "! awk -F\"\\t\" '{print\"__label__\"$2\" \"$3}' < sentences.csv | shuf > all.txt"
      ],
      "execution_count": 44,
      "outputs": []
    },
    {
      "cell_type": "code",
      "metadata": {
        "colab": {
          "base_uri": "https://localhost:8080/"
        },
        "id": "E5CwoZkl_JS2",
        "outputId": "bbe288fd-3d74-4def-b1cd-287fe6a7b360"
      },
      "source": [
        "! ls"
      ],
      "execution_count": 45,
      "outputs": [
        {
          "output_type": "stream",
          "name": "stdout",
          "text": [
            "all.txt      dataset.csv.zip  README.md      sentences.tar\n",
            "dataset.csv  LICENSE\t      sentences.csv\n"
          ]
        }
      ]
    },
    {
      "cell_type": "code",
      "metadata": {
        "colab": {
          "base_uri": "https://localhost:8080/"
        },
        "id": "Uj17b-zF_V65",
        "outputId": "7814730c-19f1-4da0-8c80-b45ba7ecddf3"
      },
      "source": [
        "! head -5 all.txt"
      ],
      "execution_count": 46,
      "outputs": [
        {
          "output_type": "stream",
          "name": "stdout",
          "text": [
            "__label__deu Ich erblickte in der Menschenmenge einen alten Freund.\n",
            "__label__eng He tried to convince them of his innocence.\n",
            "__label__slk Mária je moja teta.\n",
            "__label__dan Leonardo da Vinci begyndte på at male Mona Lisa i 1503.\n",
            "__label__epo Kion ra­kontus al ni la ŝtonoj de tiu malnova domo, se ili povus paroli?\n"
          ]
        }
      ]
    },
    {
      "cell_type": "code",
      "metadata": {
        "id": "eJFTaHZ8_D6V"
      },
      "source": [
        "! head -n 10000 all.txt > valid.txt"
      ],
      "execution_count": 47,
      "outputs": []
    },
    {
      "cell_type": "code",
      "metadata": {
        "id": "FJeo9_MD_qq8"
      },
      "source": [
        "! tail -n +10001 all.txt > train.txt"
      ],
      "execution_count": 48,
      "outputs": []
    },
    {
      "cell_type": "code",
      "metadata": {
        "colab": {
          "base_uri": "https://localhost:8080/"
        },
        "id": "2ZSiMBU7Aabp",
        "outputId": "2ce07e5d-cdfc-4bfe-cc87-4cda040a2178"
      },
      "source": [
        "! head -5 train.txt"
      ],
      "execution_count": 49,
      "outputs": [
        {
          "output_type": "stream",
          "name": "stdout",
          "text": [
            "__label__rus Мы не дадим ей умереть.\n",
            "__label__kab Ur iyi-darriḥ ara!\n",
            "__label__kab Ttɣab ɣer Tubiret.\n",
            "__label__ber Tura-as tabrat, ur as-d-terri ara.\n",
            "__label__ber Ternamt-d ɣur-neɣ, naɣ?\n"
          ]
        }
      ]
    },
    {
      "cell_type": "markdown",
      "metadata": {
        "id": "4YN516w-3Mea"
      },
      "source": [
        "### Question 6.1. Train fasttext model on Tatoeba (2 points)"
      ]
    },
    {
      "cell_type": "code",
      "metadata": {
        "colab": {
          "base_uri": "https://localhost:8080/"
        },
        "id": "lpaHpA9QCLur",
        "outputId": "d7a79535-f2bb-4207-f38a-e2d5579cbc95"
      },
      "source": [
        "%%time\n",
        "import fasttext\n",
        "\n",
        "# Check the fasttext library and implement the training\n",
        "###########################################\n",
        "\n",
        "# your implementation goes here\n",
        "\n",
        "model = fasttext.train_supervised(input=\"train.txt\")\n",
        "\n",
        "################################################\n",
        "\n",
        "# @TODO: Save your model when trained \n",
        "model.save_model(\"langdetect.bin\")"
      ],
      "execution_count": 50,
      "outputs": [
        {
          "output_type": "stream",
          "name": "stdout",
          "text": [
            "CPU times: user 1h 57min 54s, sys: 19.4 s, total: 1h 58min 13s\n",
            "Wall time: 1h 58min 12s\n"
          ]
        }
      ]
    },
    {
      "cell_type": "code",
      "metadata": {
        "colab": {
          "base_uri": "https://localhost:8080/"
        },
        "id": "iFQcolkmIXZr",
        "outputId": "c0f4fe2f-5e11-45b6-d1e6-b4638438a918"
      },
      "source": [
        "# Sanity check \n",
        "model.predict(\"I am French and I love English\")"
      ],
      "execution_count": 51,
      "outputs": [
        {
          "output_type": "execute_result",
          "data": {
            "text/plain": [
              "(('__label__eng',), array([1.0000087]))"
            ]
          },
          "metadata": {},
          "execution_count": 51
        }
      ]
    },
    {
      "cell_type": "markdown",
      "metadata": {
        "id": "PZYQz3zh3VK5"
      },
      "source": [
        "### Question 6.2. Evaluate performance of fasttext model on valid.txt (1 point)"
      ]
    },
    {
      "cell_type": "code",
      "metadata": {
        "id": "SWNZ5TSdKGgT",
        "outputId": "b648cd79-3ee5-470a-813b-07b9da2c760f",
        "colab": {
          "base_uri": "https://localhost:8080/"
        }
      },
      "source": [
        "# Hint: Create dataframe from valid.txt and evaluate performance \n",
        "\n",
        "###########################################\n",
        "\n",
        "# your implementation goes here\n",
        "from sklearn.metrics import accuracy_score, recall_score, precision_score\n",
        "\n",
        "df = pd.read_csv(\"valid.txt\", engine=\"python\", sep=\"^([a-z_]+) \", header=None, usecols=[1,2])\n",
        "df.columns = [\"label\", \"text\"]\n",
        "df[\"label\"] = df[\"label\"].str.replace(\"__label__\", \"\")\n",
        "\n",
        "y_pred = [model.predict(x)[0][0].replace(\"__label__\", \"\") for x in df.text]\n",
        "\n",
        "print(\"The accuracy of fasttext is\", accuracy_score(y_pred, df.label))\n",
        "\n",
        "################################################"
      ],
      "execution_count": 63,
      "outputs": [
        {
          "output_type": "stream",
          "name": "stdout",
          "text": [
            "The accuracy of fasttext is 0.958\n"
          ]
        }
      ]
    },
    {
      "cell_type": "markdown",
      "metadata": {
        "id": "KssPimX_lbNS"
      },
      "source": [
        "### Question 7 & 8. Test your FastText model on the same dataset as question 5."
      ]
    },
    {
      "cell_type": "code",
      "metadata": {
        "id": "oJYVrn8FhcQf",
        "outputId": "8e386e36-fc8c-4fe2-e8c1-b26680b795fb",
        "colab": {
          "base_uri": "https://localhost:8080/"
        }
      },
      "source": [
        "###########################################\n",
        "\n",
        "X = data[\"Text\"]\n",
        "y = data[\"language\"]\n",
        "\n",
        "y_pred = [model.predict(x)[0][0].replace(\"__label__\", \"\") for x in X]\n",
        "\n",
        "abrv = {\n",
        "    'Arabic' : \"ara\",\n",
        "    'Chinese' : \"cmn\",\n",
        "    'Dutch' : \"nld\",\n",
        "    'English' : \"eng\",\n",
        "    'Estonian' : \"est\",\n",
        "    'French' : \"fra\",\n",
        "    'Hindi' : \"hin\",\n",
        "    'Indonesian' : \"ind\",\n",
        "    'Japanese' : \"jpn\",\n",
        "    'Korean' : \"kor\",\n",
        "    'Latin' : \"lat\",\n",
        "    'Persian' : \"pes\",\n",
        "    'Portugese' : \"por\",\n",
        "    'Pushto' : \"pus\",\n",
        "    'Romanian' : \"ron\",\n",
        "    'Russian' : \"rus\",\n",
        "    'Spanish' : \"spa\",\n",
        "    'Swedish' : \"swe\",\n",
        "    'Tamil' : \"tam\",\n",
        "    'Thai' : \"tha\",\n",
        "    'Turkish' : \"tur\",\n",
        "    'Urdu' : \"urd\" \n",
        "}\n",
        "\n",
        "y = np.array([abrv[e] for e in y])\n",
        "\n",
        "print(accuracy_score(y_pred, y))\n",
        "\n",
        "################################################"
      ],
      "execution_count": 68,
      "outputs": [
        {
          "output_type": "stream",
          "name": "stdout",
          "text": [
            "0.8009090909090909\n"
          ]
        }
      ]
    },
    {
      "cell_type": "code",
      "metadata": {
        "id": "7sgOYS7uhcB5",
        "outputId": "cb05ba0a-89c9-4272-99e0-8894edc63b4b",
        "colab": {
          "base_uri": "https://localhost:8080/"
        }
      },
      "source": [
        "###########################################\n",
        "\n",
        "from sklearn.metrics import accuracy_score, recall_score, precision_score\n",
        "\n",
        "# your implementation goes here\n",
        "\n",
        "def accuracy(y_pred, y_true):\n",
        "    return sum(y_pred == y_true) / len(y_true)\n",
        "\n",
        "\n",
        "# compare with the sklearn metrics\n",
        "print(\"Accuracy: \", accuracy(y_pred, y))\n",
        "\n",
        "# sklearn\n",
        "print(\"Accuracy: \", accuracy_score(y_pred, y))\n",
        "################################################"
      ],
      "execution_count": 71,
      "outputs": [
        {
          "output_type": "stream",
          "name": "stdout",
          "text": [
            "Accuracy:  0.8009090909090909\n",
            "Accuracy:  0.8009090909090909\n"
          ]
        }
      ]
    },
    {
      "cell_type": "code",
      "source": [],
      "metadata": {
        "id": "W_fYuR8VrIft"
      },
      "execution_count": null,
      "outputs": []
    }
  ]
}