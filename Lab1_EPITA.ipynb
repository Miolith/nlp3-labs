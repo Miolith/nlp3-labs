{
  "cells": [
    {
      "cell_type": "markdown",
      "metadata": {
        "id": "view-in-github",
        "colab_type": "text"
      },
      "source": [
        "<a href=\"https://colab.research.google.com/github/Miolith/nlp3-labs/blob/master/Lab1_EPITA.ipynb\" target=\"_parent\"><img src=\"https://colab.research.google.com/assets/colab-badge.svg\" alt=\"Open In Colab\"/></a>"
      ]
    },
    {
      "cell_type": "markdown",
      "metadata": {
        "id": "qMwkByBnaE49"
      },
      "source": [
        "<p style=\"text-align:center;\"><img src=\"data:image/jpeg;base64,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\" alt=\"EPITA Lab 1\">\n",
        "</p>\n"
      ]
    },
    {
      "cell_type": "markdown",
      "metadata": {
        "id": "rKtcL0CYn2n_"
      },
      "source": [
        "# Part 1. Keywords Extraction (14 points)"
      ]
    },
    {
      "cell_type": "markdown",
      "metadata": {
        "id": "eXcmrzodG1pt"
      },
      "source": [
        "## What is Keyword Extraction?"
      ]
    },
    {
      "cell_type": "markdown",
      "metadata": {
        "id": "gZWKLXCYG9NJ"
      },
      "source": [
        "Keyword extraction is defined as the task that automatically identifies a set of the terms that best describe the subject of document. This is an important method in information retrieval (IR) systems: keywords simplify and speed up the search. Keyword extraction can be used to reduce the dimensionality of text for further text analysis (text classification or topic modeling). S.Art et al., for example, extracted keywords to measure patent similarity. Using keyword extraction, you can automatically index data, summarize a text, or generate tag clouds with the most representative keywords."
      ]
    },
    {
      "cell_type": "markdown",
      "metadata": {
        "id": "1O3FI910HETW"
      },
      "source": [
        "## How to extract the keywords?\n",
        "All keyword extraction algorithms include the following steps:\n",
        "\n",
        "* Candidate generation. Detection of possible candidate keywords from the text.\n",
        "* Property calculation. Computation of properties and statistics required for ranking.\n",
        "* Ranking. Computation of a score for each candidate keyword and sorting in descending order of all candidates. The top n candidates are finally selected as the n keywords representing the text."
      ]
    },
    {
      "cell_type": "code",
      "execution_count": 1,
      "metadata": {
        "id": "wD64EYyAHE5k"
      },
      "outputs": [],
      "source": [
        "# all the imports \n",
        "\n",
        "import matplotlib.pyplot as plt\n",
        "\n",
        "import numpy as np \n",
        "import pandas as pd \n",
        "import os\n",
        "\n",
        "from IPython.core.display import HTML\n",
        "\n",
        "\n",
        "from collections import Counter"
      ]
    },
    {
      "cell_type": "markdown",
      "metadata": {
        "id": "jr3WHRR0C9Il"
      },
      "source": [
        "## Goal.\n",
        "\n",
        "In the following, given a paper, we will extract the keywords associated to this paper. Each individual can have their own qualitative assessment of what is \"key\" word. However, we will try as much as possible to objectify the approach and quantify to what extent a keyword is indeed key to the paper in question. "
      ]
    },
    {
      "cell_type": "markdown",
      "metadata": {
        "id": "XoUQe5Df4Bpr"
      },
      "source": [
        "## Loading data"
      ]
    },
    {
      "cell_type": "code",
      "execution_count": 2,
      "metadata": {
        "id": "xT3cUUST9QX6"
      },
      "outputs": [],
      "source": [
        "%%capture\n",
        "! git clone https://github.com/MastafaF/ExtractKeywords.git"
      ]
    },
    {
      "cell_type": "code",
      "execution_count": 3,
      "metadata": {
        "colab": {
          "base_uri": "https://localhost:8080/"
        },
        "id": "duJTpCLQ9XJ5",
        "outputId": "789a259d-7d7b-4483-b493-255de79282c8"
      },
      "outputs": [
        {
          "output_type": "execute_result",
          "data": {
            "text/plain": [
              "['.git', 'README.md', 'data.tar.gz', 'LICENSE']"
            ]
          },
          "metadata": {},
          "execution_count": 3
        }
      ],
      "source": [
        "import os \n",
        "\n",
        "os.listdir(\"./ExtractKeywords\")"
      ]
    },
    {
      "cell_type": "code",
      "execution_count": 4,
      "metadata": {
        "colab": {
          "base_uri": "https://localhost:8080/"
        },
        "id": "hfVjwTfE9dyP",
        "outputId": "86bf5106-d06f-4c25-b8fe-a2c637b49d47"
      },
      "outputs": [
        {
          "output_type": "stream",
          "name": "stdout",
          "text": [
            "data/\n",
            "data/papers.csv\n"
          ]
        }
      ],
      "source": [
        "# Extract data file \n",
        "\n",
        "! cd ExtractKeywords && tar -zxvf data.tar.gz data"
      ]
    },
    {
      "cell_type": "code",
      "execution_count": 5,
      "metadata": {
        "colab": {
          "base_uri": "https://localhost:8080/",
          "height": 337
        },
        "id": "CdRVtKw44C9p",
        "outputId": "f12c0bce-e39e-4f75-8292-1cdffcdb5628"
      },
      "outputs": [
        {
          "output_type": "execute_result",
          "data": {
            "text/plain": [
              "     id  year                                              title event_type  \\\n",
              "0     1  1987  Self-Organization of Associative Database and ...        NaN   \n",
              "1    10  1987  A Mean Field Theory of Layer IV of Visual Cort...        NaN   \n",
              "2   100  1988  Storing Covariance by the Associative Long-Ter...        NaN   \n",
              "3  1000  1994  Bayesian Query Construction for Neural Network...        NaN   \n",
              "4  1001  1994  Neural Network Ensembles, Cross Validation, an...        NaN   \n",
              "\n",
              "                                            pdf_name          abstract  \\\n",
              "0  1-self-organization-of-associative-database-an...  Abstract Missing   \n",
              "1  10-a-mean-field-theory-of-layer-iv-of-visual-c...  Abstract Missing   \n",
              "2  100-storing-covariance-by-the-associative-long...  Abstract Missing   \n",
              "3  1000-bayesian-query-construction-for-neural-ne...  Abstract Missing   \n",
              "4  1001-neural-network-ensembles-cross-validation...  Abstract Missing   \n",
              "\n",
              "                                          paper_text  \n",
              "0  767\\n\\nSELF-ORGANIZATION OF ASSOCIATIVE DATABA...  \n",
              "1  683\\n\\nA MEAN FIELD THEORY OF LAYER IV OF VISU...  \n",
              "2  394\\n\\nSTORING COVARIANCE BY THE ASSOCIATIVE\\n...  \n",
              "3  Bayesian Query Construction for Neural\\nNetwor...  \n",
              "4  Neural Network Ensembles, Cross\\nValidation, a...  "
            ],
            "text/html": [
              "\n",
              "  <div id=\"df-89994590-ae83-445a-8136-d3e913a2298d\">\n",
              "    <div class=\"colab-df-container\">\n",
              "      <div>\n",
              "<style scoped>\n",
              "    .dataframe tbody tr th:only-of-type {\n",
              "        vertical-align: middle;\n",
              "    }\n",
              "\n",
              "    .dataframe tbody tr th {\n",
              "        vertical-align: top;\n",
              "    }\n",
              "\n",
              "    .dataframe thead th {\n",
              "        text-align: right;\n",
              "    }\n",
              "</style>\n",
              "<table border=\"1\" class=\"dataframe\">\n",
              "  <thead>\n",
              "    <tr style=\"text-align: right;\">\n",
              "      <th></th>\n",
              "      <th>id</th>\n",
              "      <th>year</th>\n",
              "      <th>title</th>\n",
              "      <th>event_type</th>\n",
              "      <th>pdf_name</th>\n",
              "      <th>abstract</th>\n",
              "      <th>paper_text</th>\n",
              "    </tr>\n",
              "  </thead>\n",
              "  <tbody>\n",
              "    <tr>\n",
              "      <th>0</th>\n",
              "      <td>1</td>\n",
              "      <td>1987</td>\n",
              "      <td>Self-Organization of Associative Database and ...</td>\n",
              "      <td>NaN</td>\n",
              "      <td>1-self-organization-of-associative-database-an...</td>\n",
              "      <td>Abstract Missing</td>\n",
              "      <td>767\\n\\nSELF-ORGANIZATION OF ASSOCIATIVE DATABA...</td>\n",
              "    </tr>\n",
              "    <tr>\n",
              "      <th>1</th>\n",
              "      <td>10</td>\n",
              "      <td>1987</td>\n",
              "      <td>A Mean Field Theory of Layer IV of Visual Cort...</td>\n",
              "      <td>NaN</td>\n",
              "      <td>10-a-mean-field-theory-of-layer-iv-of-visual-c...</td>\n",
              "      <td>Abstract Missing</td>\n",
              "      <td>683\\n\\nA MEAN FIELD THEORY OF LAYER IV OF VISU...</td>\n",
              "    </tr>\n",
              "    <tr>\n",
              "      <th>2</th>\n",
              "      <td>100</td>\n",
              "      <td>1988</td>\n",
              "      <td>Storing Covariance by the Associative Long-Ter...</td>\n",
              "      <td>NaN</td>\n",
              "      <td>100-storing-covariance-by-the-associative-long...</td>\n",
              "      <td>Abstract Missing</td>\n",
              "      <td>394\\n\\nSTORING COVARIANCE BY THE ASSOCIATIVE\\n...</td>\n",
              "    </tr>\n",
              "    <tr>\n",
              "      <th>3</th>\n",
              "      <td>1000</td>\n",
              "      <td>1994</td>\n",
              "      <td>Bayesian Query Construction for Neural Network...</td>\n",
              "      <td>NaN</td>\n",
              "      <td>1000-bayesian-query-construction-for-neural-ne...</td>\n",
              "      <td>Abstract Missing</td>\n",
              "      <td>Bayesian Query Construction for Neural\\nNetwor...</td>\n",
              "    </tr>\n",
              "    <tr>\n",
              "      <th>4</th>\n",
              "      <td>1001</td>\n",
              "      <td>1994</td>\n",
              "      <td>Neural Network Ensembles, Cross Validation, an...</td>\n",
              "      <td>NaN</td>\n",
              "      <td>1001-neural-network-ensembles-cross-validation...</td>\n",
              "      <td>Abstract Missing</td>\n",
              "      <td>Neural Network Ensembles, Cross\\nValidation, a...</td>\n",
              "    </tr>\n",
              "  </tbody>\n",
              "</table>\n",
              "</div>\n",
              "      <button class=\"colab-df-convert\" onclick=\"convertToInteractive('df-89994590-ae83-445a-8136-d3e913a2298d')\"\n",
              "              title=\"Convert this dataframe to an interactive table.\"\n",
              "              style=\"display:none;\">\n",
              "        \n",
              "  <svg xmlns=\"http://www.w3.org/2000/svg\" height=\"24px\"viewBox=\"0 0 24 24\"\n",
              "       width=\"24px\">\n",
              "    <path d=\"M0 0h24v24H0V0z\" fill=\"none\"/>\n",
              "    <path d=\"M18.56 5.44l.94 2.06.94-2.06 2.06-.94-2.06-.94-.94-2.06-.94 2.06-2.06.94zm-11 1L8.5 8.5l.94-2.06 2.06-.94-2.06-.94L8.5 2.5l-.94 2.06-2.06.94zm10 10l.94 2.06.94-2.06 2.06-.94-2.06-.94-.94-2.06-.94 2.06-2.06.94z\"/><path d=\"M17.41 7.96l-1.37-1.37c-.4-.4-.92-.59-1.43-.59-.52 0-1.04.2-1.43.59L10.3 9.45l-7.72 7.72c-.78.78-.78 2.05 0 2.83L4 21.41c.39.39.9.59 1.41.59.51 0 1.02-.2 1.41-.59l7.78-7.78 2.81-2.81c.8-.78.8-2.07 0-2.86zM5.41 20L4 18.59l7.72-7.72 1.47 1.35L5.41 20z\"/>\n",
              "  </svg>\n",
              "      </button>\n",
              "      \n",
              "  <style>\n",
              "    .colab-df-container {\n",
              "      display:flex;\n",
              "      flex-wrap:wrap;\n",
              "      gap: 12px;\n",
              "    }\n",
              "\n",
              "    .colab-df-convert {\n",
              "      background-color: #E8F0FE;\n",
              "      border: none;\n",
              "      border-radius: 50%;\n",
              "      cursor: pointer;\n",
              "      display: none;\n",
              "      fill: #1967D2;\n",
              "      height: 32px;\n",
              "      padding: 0 0 0 0;\n",
              "      width: 32px;\n",
              "    }\n",
              "\n",
              "    .colab-df-convert:hover {\n",
              "      background-color: #E2EBFA;\n",
              "      box-shadow: 0px 1px 2px rgba(60, 64, 67, 0.3), 0px 1px 3px 1px rgba(60, 64, 67, 0.15);\n",
              "      fill: #174EA6;\n",
              "    }\n",
              "\n",
              "    [theme=dark] .colab-df-convert {\n",
              "      background-color: #3B4455;\n",
              "      fill: #D2E3FC;\n",
              "    }\n",
              "\n",
              "    [theme=dark] .colab-df-convert:hover {\n",
              "      background-color: #434B5C;\n",
              "      box-shadow: 0px 1px 3px 1px rgba(0, 0, 0, 0.15);\n",
              "      filter: drop-shadow(0px 1px 2px rgba(0, 0, 0, 0.3));\n",
              "      fill: #FFFFFF;\n",
              "    }\n",
              "  </style>\n",
              "\n",
              "      <script>\n",
              "        const buttonEl =\n",
              "          document.querySelector('#df-89994590-ae83-445a-8136-d3e913a2298d button.colab-df-convert');\n",
              "        buttonEl.style.display =\n",
              "          google.colab.kernel.accessAllowed ? 'block' : 'none';\n",
              "\n",
              "        async function convertToInteractive(key) {\n",
              "          const element = document.querySelector('#df-89994590-ae83-445a-8136-d3e913a2298d');\n",
              "          const dataTable =\n",
              "            await google.colab.kernel.invokeFunction('convertToInteractive',\n",
              "                                                     [key], {});\n",
              "          if (!dataTable) return;\n",
              "\n",
              "          const docLinkHtml = 'Like what you see? Visit the ' +\n",
              "            '<a target=\"_blank\" href=https://colab.research.google.com/notebooks/data_table.ipynb>data table notebook</a>'\n",
              "            + ' to learn more about interactive tables.';\n",
              "          element.innerHTML = '';\n",
              "          dataTable['output_type'] = 'display_data';\n",
              "          await google.colab.output.renderOutput(dataTable, element);\n",
              "          const docLink = document.createElement('div');\n",
              "          docLink.innerHTML = docLinkHtml;\n",
              "          element.appendChild(docLink);\n",
              "        }\n",
              "      </script>\n",
              "    </div>\n",
              "  </div>\n",
              "  "
            ]
          },
          "metadata": {},
          "execution_count": 5
        }
      ],
      "source": [
        "# load the dataset\n",
        "df = pd.read_csv('./ExtractKeywords/data/papers.csv')\n",
        "df.head()"
      ]
    },
    {
      "cell_type": "markdown",
      "metadata": {
        "id": "C2IElpuJ76o0"
      },
      "source": [
        "## Preprocessing data "
      ]
    },
    {
      "cell_type": "code",
      "execution_count": 12,
      "metadata": {
        "colab": {
          "base_uri": "https://localhost:8080/"
        },
        "id": "dRAj0JXjAWBo",
        "outputId": "f0d953b1-ea97-45f7-c4ea-8fd313e7a8fd"
      },
      "outputs": [
        {
          "output_type": "stream",
          "name": "stderr",
          "text": [
            "[nltk_data] Downloading package wordnet to /root/nltk_data...\n",
            "[nltk_data]   Package wordnet is already up-to-date!\n",
            "[nltk_data] Downloading package stopwords to /root/nltk_data...\n",
            "[nltk_data]   Package stopwords is already up-to-date!\n",
            "[nltk_data] Downloading package omw-1.4 to /root/nltk_data...\n"
          ]
        },
        {
          "output_type": "execute_result",
          "data": {
            "text/plain": [
              "True"
            ]
          },
          "metadata": {},
          "execution_count": 12
        }
      ],
      "source": [
        "# For the Lemmatizer \n",
        "import nltk\n",
        "nltk.download('wordnet')\n",
        "nltk.download('stopwords')\n",
        "nltk.download('omw-1.4')"
      ]
    },
    {
      "cell_type": "markdown",
      "metadata": {
        "id": "BHC9ShM-IX7E"
      },
      "source": [
        "### Question 1.1: Preprocessing data in a meaningful way [code] (2 points)"
      ]
    },
    {
      "cell_type": "code",
      "execution_count": 13,
      "metadata": {
        "id": "BWpI1OJk78Gc"
      },
      "outputs": [],
      "source": [
        "import re\n",
        "from string import punctuation\n",
        "from gensim.parsing.preprocessing import STOPWORDS\n",
        "from nltk.tokenize import word_tokenize\n",
        "\n",
        "# Update stop words accordingly\n",
        "#my_stop_words = STOPWORDS.union(set(['mystopword1', 'mystopword2']))\n",
        "\n",
        "from nltk.corpus import stopwords\n",
        "from nltk.stem.wordnet import WordNetLemmatizer\n",
        "\n",
        "##Creating a list of custom stopwords\n",
        "new_words = [\"fig\",\"figure\",\"image\",\"sample\",\"using\", \n",
        "             \"show\", \"result\", \"large\", \n",
        "             \"also\", \"one\", \"two\", \"three\", \n",
        "             \"four\", \"five\", \"seven\",\"eight\",\"nine\"]\n",
        "\n",
        "stop_words = STOPWORDS.union(set(new_words)).union(set(stopwords.words('english')))\n",
        "\n",
        "def pre_process(text):\n",
        "  # ------------------\n",
        "  # Write your implementation here.\n",
        "\n",
        "  # Lowercase\n",
        "  pre_processed_text = text.lower()\n",
        "\n",
        "  # Remove punctuation\n",
        "  pre_processed_text = pre_processed_text.translate(str.maketrans(punctuation, ' '*len(punctuation)))\n",
        " \n",
        "  # Removing stopwords, numbers and single characters\n",
        "  pre_processed_text = [word for word in pre_processed_text.split() if not word in stop_words and not word.isnumeric() and word.isalpha() and len(word) > 1]\n",
        "\n",
        "  # Lemmatization\n",
        "  lemmatizer = WordNetLemmatizer()\n",
        "  pre_processed_text = [lemmatizer.lemmatize(word) for word in pre_processed_text]\n",
        "\n",
        "  # Join the list of words into a string\n",
        "  pre_processed_text = \" \".join(pre_processed_text)\n",
        "\n",
        "  return pre_processed_text\n",
        "\n",
        "  # ------------------"
      ]
    },
    {
      "cell_type": "code",
      "execution_count": 14,
      "metadata": {
        "colab": {
          "base_uri": "https://localhost:8080/"
        },
        "id": "zZFsz9JX_9I0",
        "outputId": "4c837596-6e85-40ce-df19-1586ad49e44c"
      },
      "outputs": [
        {
          "output_type": "stream",
          "name": "stdout",
          "text": [
            "CPU times: user 1min 4s, sys: 223 ms, total: 1min 4s\n",
            "Wall time: 1min 5s\n"
          ]
        }
      ],
      "source": [
        "%%time\n",
        "df['preproc_text'] = df['paper_text'].apply(pre_process)"
      ]
    },
    {
      "cell_type": "code",
      "execution_count": 15,
      "metadata": {
        "colab": {
          "base_uri": "https://localhost:8080/",
          "height": 1000
        },
        "id": "_3ADgBBsAHhg",
        "outputId": "1404cb8e-10f5-40d2-8db9-a618964d6e37"
      },
      "outputs": [
        {
          "output_type": "execute_result",
          "data": {
            "text/plain": [
              "<IPython.core.display.HTML object>"
            ],
            "text/html": [
              "<table border=\"1\" class=\"dataframe\">\n",
              "  <thead>\n",
              "    <tr style=\"text-align: right;\">\n",
              "      <th></th>\n",
              "      <th>0</th>\n",
              "    </tr>\n",
              "  </thead>\n",
              "  <tbody>\n",
              "    <tr>\n",
              "      <th>preproc_text</th>\n",
              "      <td>self organization associative database application hisashi suzuki suguru arimoto osaka university toyonaka osaka japan abstract efficient method self organizing associative database proposed application robot eyesight system proposed database associate input output half discussion algorithm self organization proposed aspect hardware produce new style neural network half applicability handwritten letter recognition autonomous mobile robot demonstrated introduction let mapping given finite infinite set finite infinite set learning machine observes set pair sampled randomly mean cartesian product computes estimate small estimation error measure usually faster decrease estimation error increase number sample better learning machine expression performance incomplete lack consideration candidate assumed preliminarily good learning machine clarify conception let discus type learning machine let advance understanding self organization associative database parameter type ordinary type learning machine assumes equation relating parameter indefinite structure equivalent define implicitly set candidate subset mapping computes value parameter based observed sample type parameter type learning machine defined approach number sample increase alternative case estimation error remains eternally problem designing learning machine return proper structure sense hand assumed structure demanded compact possible achieve fast learning word number parameter small parameter uniquely determined observed sample demand proper contradicts compact consequently parameter type better compactness assumed structure proper better learning machine elementary conception design learning machine universality ordinary neural network suppose sufficient knowledge given unknown case comparatively easy proper compact structure alternative case difficult possible solution compactness assume almighty structure cover combination orthogonal base infinite dimension structure neural network approximation obtained truncating finitely dimension implementation american institute physic main topic designing neural network establish desirable structure work includes developing practical procedure compute value coefficient observed sample discussion flourishing efficient method proposed recently hardware unit computing coefficient parallel speed sold anza mark iii odyssey neural network exists danger error remaining eternally estimating precisely speaking suppose combination base finite number define structure essentially word suppose located near case estimation error negligible distant estimation error negligible research report following situation appears complex estimation error converges value number sample increase decrease hardly dimension heighten property considerable defect neural network recursi type recursive type founded methodology learning follows initial stage set fa instead notation candidate equal set mapping observing xl yl fa reduced fi xt yl observing second fl reduced xt yl candidate set gradually small observation sample proceeds observing sample write likelihood estimation selected fi contrarily parameter type recursive type guarantee surely approach number sample increase recursive type observes yd rewrite value correlated type architecture composed rule rewriting free memory space architecture form naturally kind database build management system data self organizing way database differs ordinary one following sense record sample observed computes estimation database associative database subject constructing associative database establish rule rewri ting purpose adap measure called dissimilari ty dissimilari ty mean mapping real necessarily defined single formula definable example collection rule written form dissimilarity defines structure locally knowledge imperfect flect heuristic way contrarily neural network possible accelerate speed learning establishing especially easily simple process analogically information like human application paper recursive type show strongly effectiveness denote sequence observed sample xl yd simplest construction associative database observing sample follows algorithm initial stage let set let equal min e furthermore add produce sa version improved economize memory follows algorithm initial stage let composed arbitrary element let ii lex equal si min e furthermore ii xi yi let si si add xi yi si produce si si si xi yi construction ii approach increase computation time grows proportionally size si second subject constructing associative database addressing rule employ economize computation time subsequent chapter construction associative database purpose proposed manages data form binary tree self organization associative database given sequence xl yl algorithm constructing associative database follows algorithm step initialization let root root xl yd variable assigned respective node memorize data furthermore let step increase reset pointer root repeat following arrives terminal node leaf notation nand xt let mean descendant node let step display yin related information yin step establish new descendant node secondly let yin yin yin xt finally step loop step stopped time continued suppose gate element artificial synapsis play role branching prepared obtain new style neural network gate element randomly connected algorithm letter recognition recen tly vertical slitting method recognizing typographic english elastic matching method recognizing hand written discrete english global training fuzzy logic search method recognizing chinese character written square style published self organization associative database realizes recognition handwritten continuous english letter wn nov xk la source document loo windowing number sample nualber sampl e experiment scanner take document letter recognizer us parallelogram window cover maximal letter process sequence letter shifting window recognizer scan word slant direction place window left vicinity black point detected window catch letter succeeding letter recognition head letter performed end position boundary line letter known starting scanning boundary repeating operation recognizer accomplishes recursively task major problem come identifying head letter window considering define following regard window image define accordingly denote black point left area boundary window project window measure euclidean distance fj black point closest let summation black point divided number regard couple reading position boundary define accordingly operator teach recognizer interaction relation window reading boundary algorithm precisely recalled reading incorrect operator teach correct reading console boundary position incorrect teach correct position mouse show partially document experiment show change number node recognition rate defined relative frequency correct answer past trial speciiications window height width slant angular example level tree distributed time recognition rate converged experimentally recognition rate converges case rare case attain distinguishable excessive lluctuation writing consistency relation assured like number node increase endlessly clever stop learning recognition rate attains upper limit improve recognition rate consider spelling word future subject obstacle avoiding movement system camera type autonomous mobile robot reported author belongs category mathematical methodology solve usually problem obstacle avoiding movement cost minimization problem cost criterion established artificially contrarily self organization associative database reproduces faithfully cost criterion operator motion robot learning natural length width height robot weight visual angle camera robot following factor motion turn advance control speed experiment passageway wid th inside building author laboratory exist experimental intention arrange box smoking stand gas cylinder stool handcart passage way random let robot camera recall similar trace route preliminarily recorded purpose define following let camera face downward process low pas filter scanning vertically filtered search point luminance change excessively su bstitu te point white point black obstacle exists robot white area show free area robot regard binary image processed define accordingly let number black point exclusive regard image obtained drawing route image define accordingly robot superimposes current camera route recalled inquires operator instruction operator judge subjectively suggested route appropriate negative answer draw desirable route mouse teach new robot opera tion defines implicitly sequence reflecting cost criterion operator iibube roan stationary uni configuration autonomous mobile robot north rmbi unit robot roan experimental environment wall camera preprocessing fa preprocessing course suggest ion search processing obstacle avoiding movement processing position identification define satisfaction rate relative frequency acceptable suggestion route past trial typical experiment change satisfaction rate showed similar tendency attains time notice rest mean directly percentage collision practice prevent collision adopting supplementary measure time number node level tree distributed proposed method reflects delicately character operator example robot trained operator move slowly space obstacle trained operator brush quickly obstacle fact give hint method printing character machine position identification robot identify position recalling similar landscape position data camera purpose principle suffices regard camera image position data respectively memory capacity finite actual compu ters compress camera image slight loss information compression admittable long precision position identification acceptable area major problem come suitable compression method experimental environment jut passageway interval section adjacent jut door robot identifies roughly surrounding landscape section place us temporarily triangular surveying technique exact measure necessary realize task define following turn camera panorama scanning horizontally center line substitute point luminance excessively change black point white regard binary line image processed define accordingly project black point measure euclidean distance black point closest let summation similarly calculate exchanging role denoting number respectively nand define regard positive integer labeled section cf define accordingly learning mode robot check exactly position counter reset periodically operator robot run arbitrarily passageway area learns relation landscape position data position identification area achieved crossing plural database task automatic excepting periodic reset counter kind learning teacher define identification rate relative frequency correct recall position data past trial typical example converged time time number level level oftree distributed identification failure rejected considering trajectory pro blem arises practical use order improve identification rate compression ratio camera image loosened possibility depends improvement hardware future show example actual motion robot based database obstacle avoiding movement position identification example corresponds case moving time interval frame ii actual motion robot conclusion method self organizing associative database proposed application robot eyesight system machine decomposes global structure unknown set local structure known learns universally input output response framework problem implies wide application area example shown paper defect algorithm self organization tree balanced subclass structure subject imposed widen class probable solution abolish addressing rule depending directly value instead establish rule depending distribution function value investigation reference hopfield tank computing neural circuit model science pp rumelhart et al learning representation propagating error nature pp hull hypothesis generation computational model visual word recognition ieee expert fall pp kurtzberg feature analysis symbol recognition elastic matching ibm re develop pp wang suen tree classifier heuristic search global training ieee trans pattern anal mach intell pami pp brook et al self calibration motion stereo vision mobile robot int symp robotics research pp goto stentz cmu mobile robot navigation ieee int conf robotics automation pp madarasz et al design autonomous vehicle disabled ieee jour robotics automation ra pp triendl kriegman stereo vision navigation building ieee int conf robotics automation pp turk et al video road following autonomous land vehicle ieee int conf robotics automation pp</td>\n",
              "    </tr>\n",
              "  </tbody>\n",
              "</table>"
            ]
          },
          "metadata": {},
          "execution_count": 15
        }
      ],
      "source": [
        "# Visualizing data \n",
        "HTML(pd.DataFrame(df.loc[0, [\"preproc_text\"]]).to_html())"
      ]
    },
    {
      "cell_type": "markdown",
      "metadata": {
        "id": "lLS9mbe8B4UY"
      },
      "source": [
        "## 0. Raw counts\n",
        "\n"
      ]
    },
    {
      "cell_type": "markdown",
      "metadata": {
        "id": "9WY9c6iwI0Lv"
      },
      "source": [
        "### Question 1.2: Build a top N words based on occurence [code] (1 point)"
      ]
    },
    {
      "cell_type": "code",
      "execution_count": 16,
      "metadata": {
        "id": "izLhCAH5B-jy"
      },
      "outputs": [],
      "source": [
        "\"\"\"\n",
        "Idea: \n",
        "\n",
        "0. Split with spacy OR nltk \n",
        "\n",
        "1. Counter \n",
        "\n",
        "2. Surface top 10 \n",
        "\n",
        "\"\"\"\n",
        "\n",
        "def get_counter(txt_preproc, N=10): \n",
        "\n",
        "    # ------------------\n",
        "    # Write your implementation here.\n",
        "    top_N = Counter(txt_preproc.split()).most_common(N)\n",
        "    return top_N\n",
        "    \n",
        "    # ------------------\n",
        "\n",
        "df[\"Top N\"] = df[\"preproc_text\"].apply(get_counter)"
      ]
    },
    {
      "cell_type": "code",
      "execution_count": 17,
      "metadata": {
        "colab": {
          "base_uri": "https://localhost:8080/"
        },
        "id": "D-J0RHMMFW6b",
        "outputId": "d17de3fd-4571-453d-f046-9391bbe9f5b2"
      },
      "outputs": [
        {
          "output_type": "execute_result",
          "data": {
            "text/plain": [
              "[('input', 58),\n",
              " ('weak', 42),\n",
              " ('synaptic', 36),\n",
              " ('associative', 35),\n",
              " ('ltp', 30),\n",
              " ('strong', 26),\n",
              " ('phase', 26),\n",
              " ('long', 24),\n",
              " ('stimulus', 23),\n",
              " ('hippocampus', 22)]"
            ]
          },
          "metadata": {},
          "execution_count": 17
        }
      ],
      "source": [
        "df.loc[2, \"Top N\"]"
      ]
    },
    {
      "cell_type": "markdown",
      "metadata": {
        "id": "KK7YbNCyJaqk"
      },
      "source": [
        "### Question 1.3: What are some of the limits of raw counts? How could we improve the approach through preprocessing? [written] (2 points)"
      ]
    },
    {
      "cell_type": "markdown",
      "metadata": {
        "id": "Wao4NivXGPIM"
      },
      "source": [
        "## 1. TF-IDF"
      ]
    },
    {
      "cell_type": "markdown",
      "metadata": {
        "id": "5TRcD4MeHFnt"
      },
      "source": [
        "### Introduction.\n",
        "\n",
        "TF-IDF stands for Text Frequency Inverse Document Frequency. The importance of each word increases proportionally to the number of times a word appears in the document (Text Frequency - TF) but is offset by the frequency of the word in the corpus (Inverse Document Frequency - IDF). Using the tf-idf weighting scheme, the keywords are the words with the higherst TF-IDF score."
      ]
    },
    {
      "cell_type": "markdown",
      "metadata": {
        "id": "QOZe8obbHm-Q"
      },
      "source": [
        "### CountVectorizer to create a vocabulary and generate word counts"
      ]
    },
    {
      "cell_type": "code",
      "execution_count": 18,
      "metadata": {
        "id": "_pd54cOkGV_p",
        "colab": {
          "base_uri": "https://localhost:8080/"
        },
        "outputId": "b979db6e-ddf1-40f3-fdfc-35d0c663a421"
      },
      "outputs": [
        {
          "output_type": "stream",
          "name": "stdout",
          "text": [
            "CPU times: user 2min 8s, sys: 3.93 s, total: 2min 12s\n",
            "Wall time: 2min 18s\n"
          ]
        }
      ],
      "source": [
        "%%time\n",
        "from sklearn.feature_extraction.text import CountVectorizer\n",
        "\n",
        "\n",
        "#create a vocabulary of words, \n",
        "cv=CountVectorizer(max_df=0.95,         # ignore words that appear in 95% of documents\n",
        "                   max_features=10000,  # the size of the vocabulary\n",
        "                   ngram_range=(1,3)    # vocabulary contains single words, bigrams, trigrams\n",
        "                  )\n",
        "\n",
        "\n",
        "word_count_vector=cv.fit_transform(df[\"preproc_text\"])"
      ]
    },
    {
      "cell_type": "code",
      "execution_count": 19,
      "metadata": {
        "colab": {
          "base_uri": "https://localhost:8080/"
        },
        "id": "-fngZVCVGcG_",
        "outputId": "60635330-786b-4db1-f52c-7f79c90b33c9"
      },
      "outputs": [
        {
          "output_type": "execute_result",
          "data": {
            "text/plain": [
              "<7241x10000 sparse matrix of type '<class 'numpy.int64'>'\n",
              "\twith 5715696 stored elements in Compressed Sparse Row format>"
            ]
          },
          "metadata": {},
          "execution_count": 19
        }
      ],
      "source": [
        "word_count_vector"
      ]
    },
    {
      "cell_type": "markdown",
      "metadata": {
        "id": "nxV_evcXHuKp"
      },
      "source": [
        "### TfidfTransformer to Compute Inverse Document Frequency (IDF)"
      ]
    },
    {
      "cell_type": "code",
      "execution_count": 20,
      "metadata": {
        "colab": {
          "base_uri": "https://localhost:8080/"
        },
        "id": "iCfwFzHCHzOY",
        "outputId": "8a709204-5e20-4400-bd57-aa277e140da2"
      },
      "outputs": [
        {
          "output_type": "stream",
          "name": "stdout",
          "text": [
            "CPU times: user 23.8 ms, sys: 0 ns, total: 23.8 ms\n",
            "Wall time: 30.1 ms\n"
          ]
        },
        {
          "output_type": "execute_result",
          "data": {
            "text/plain": [
              "TfidfTransformer()"
            ]
          },
          "metadata": {},
          "execution_count": 20
        }
      ],
      "source": [
        "%%time\n",
        "from sklearn.feature_extraction.text import TfidfTransformer\n",
        "\n",
        "tfidf_transformer=TfidfTransformer(smooth_idf=True,\n",
        "                                   use_idf=True)\n",
        "\n",
        "tfidf_transformer.fit(word_count_vector)"
      ]
    },
    {
      "cell_type": "code",
      "execution_count": 21,
      "metadata": {
        "colab": {
          "base_uri": "https://localhost:8080/"
        },
        "id": "cd9hXGWJHzLy",
        "outputId": "d3730a5a-75bc-4873-e47e-f08b9bcbe5de"
      },
      "outputs": [
        {
          "output_type": "execute_result",
          "data": {
            "text/plain": [
              "TfidfTransformer()"
            ]
          },
          "metadata": {},
          "execution_count": 21
        }
      ],
      "source": [
        "tfidf_transformer"
      ]
    },
    {
      "cell_type": "markdown",
      "metadata": {
        "id": "A1wbWizrJ5CE"
      },
      "source": [
        "### Question 1.4: How can you find an optimal max_df? Why are we using a sparse matrix instead of a regular matrix? [written] (2 points)"
      ]
    },
    {
      "cell_type": "markdown",
      "metadata": {
        "id": "EekhsGbKYoyv"
      },
      "source": [
        "Write your answer here."
      ]
    },
    {
      "cell_type": "code",
      "execution_count": 22,
      "metadata": {
        "colab": {
          "base_uri": "https://localhost:8080/"
        },
        "id": "N2_9miFxKaU1",
        "outputId": "f10d0c67-fb39-4de6-f4aa-da4ec9590d8b"
      },
      "outputs": [
        {
          "output_type": "execute_result",
          "data": {
            "text/plain": [
              "<1x10000 sparse matrix of type '<class 'numpy.int64'>'\n",
              "\twith 10 stored elements in Compressed Sparse Row format>"
            ]
          },
          "metadata": {},
          "execution_count": 22
        }
      ],
      "source": [
        "cv.transform([\" change number node recognition rate defined relative frequency\"])"
      ]
    },
    {
      "cell_type": "code",
      "execution_count": 23,
      "metadata": {
        "colab": {
          "base_uri": "https://localhost:8080/",
          "height": 72
        },
        "id": "K2Vdn9NTMIxI",
        "outputId": "29deda87-7d74-45aa-c16a-07cdbc3fe1d8"
      },
      "outputs": [
        {
          "output_type": "execute_result",
          "data": {
            "text/plain": [
              "<matplotlib.lines.Line2D at 0x7f367695b3a0>"
            ]
          },
          "metadata": {},
          "execution_count": 23
        },
        {
          "output_type": "display_data",
          "data": {
            "text/plain": [
              "<Figure size 432x288 with 1 Axes>"
            ],
            "image/png": "[encoded data removed]"
          },
          "metadata": {
            "needs_background": "light"
          }
        }
      ],
      "source": [
        "# Visualizing data \n",
        "from scipy.sparse import csr_matrix\n",
        "\n",
        "plt.spy(csr_matrix(cv.transform([\"change number node recognition rate defined relative frequency\"])))"
      ]
    },
    {
      "cell_type": "code",
      "execution_count": 24,
      "metadata": {
        "colab": {
          "base_uri": "https://localhost:8080/"
        },
        "id": "GRI_AZtROxP0",
        "outputId": "d27d230c-b224-4a94-a872-f4c3d88b54c4"
      },
      "outputs": [
        {
          "output_type": "execute_result",
          "data": {
            "text/plain": [
              "[(7280, 0.6385982777409903),\n",
              " (6035, 0.4825314055331922),\n",
              " (3225, 0.28266120934514866),\n",
              " (5896, 0.2670194365214445),\n",
              " (7271, 0.22852928361547203),\n",
              " (7402, 0.2217060832396205),\n",
              " (1166, 0.1919890541213054),\n",
              " (7196, 0.17649246962020493),\n",
              " (2008, 0.15312892047091242),\n",
              " (6013, 0.12378153237392613)]"
            ]
          },
          "metadata": {},
          "execution_count": 24
        }
      ],
      "source": [
        "def sort_coo(coo_matrix):\n",
        "    tuples = zip(coo_matrix.col, coo_matrix.data)\n",
        "    return sorted(tuples, key=lambda x: (x[1], x[0]), reverse=True)\n",
        "\n",
        "#generate tf-idf for the given document\n",
        "tf_idf_vector=tfidf_transformer.transform(cv.transform([\"change number node recognition rate defined relative frequency\"]))\n",
        "\n",
        "#sort the tf-idf vectors by descending order of scores\n",
        "sorted_items=sort_coo(tf_idf_vector.tocoo())\n",
        "\n",
        "sorted_items"
      ]
    },
    {
      "cell_type": "code",
      "execution_count": 25,
      "metadata": {
        "colab": {
          "base_uri": "https://localhost:8080/"
        },
        "id": "pxhq2LiEOxD3",
        "outputId": "093e517f-8cac-4bc2-95dc-9377013fe7cc"
      },
      "outputs": [
        {
          "output_type": "execute_result",
          "data": {
            "text/plain": [
              "<1x10000 sparse matrix of type '<class 'numpy.float64'>'\n",
              "\twith 10 stored elements in COOrdinate format>"
            ]
          },
          "metadata": {},
          "execution_count": 25
        }
      ],
      "source": [
        "coo_matrix = tf_idf_vector.tocoo()\n",
        "# list(zip(coo_matrix.col, coo_matrix.data))\n",
        "coo_matrix"
      ]
    },
    {
      "cell_type": "code",
      "execution_count": 26,
      "metadata": {
        "id": "G4EwdqH_Gm0C",
        "colab": {
          "base_uri": "https://localhost:8080/"
        },
        "outputId": "73248790-8da0-44ba-b4d6-57476230d86a"
      },
      "outputs": [
        {
          "output_type": "stream",
          "name": "stderr",
          "text": [
            "/usr/local/lib/python3.8/dist-packages/sklearn/utils/deprecation.py:87: FutureWarning: Function get_feature_names is deprecated; get_feature_names is deprecated in 1.0 and will be removed in 1.2. Please use get_feature_names_out instead.\n",
            "  warnings.warn(msg, category=FutureWarning)\n"
          ]
        }
      ],
      "source": [
        "# get feature names\n",
        "feature_names=cv.get_feature_names()\n",
        "\n",
        "def get_keywords(txt, top_N=10):\n",
        "\n",
        "  # ------------------\n",
        "  # Write your implementation here.\n",
        "\n",
        "  tf_idf_vector=tfidf_transformer.transform(cv.transform([txt]))\n",
        "  sorted_keyword_score=sort_coo(tf_idf_vector.tocoo())\n",
        "  sorted_keyword_score = sorted_keyword_score[:top_N]\n",
        "  sorted_keyword_score = [(feature_names[i], round(score, 3)) for i, score in sorted_keyword_score]\n",
        "\n",
        "  # ------------------\n",
        "  \n",
        "  return sorted_keyword_score"
      ]
    },
    {
      "cell_type": "code",
      "execution_count": 27,
      "metadata": {
        "colab": {
          "base_uri": "https://localhost:8080/"
        },
        "id": "ahvTo9gjSWCW",
        "outputId": "4b6f3fe6-2aa8-402d-be35-1e74c8b1b16a"
      },
      "outputs": [
        {
          "output_type": "execute_result",
          "data": {
            "text/plain": [
              "[('recognition rate', 0.639),\n",
              " ('number node', 0.483),\n",
              " ('frequency', 0.283),\n",
              " ('node', 0.267),\n",
              " ('recognition', 0.229),\n",
              " ('relative', 0.222),\n",
              " ('change', 0.192),\n",
              " ('rate', 0.176),\n",
              " ('defined', 0.153),\n",
              " ('number', 0.124)]"
            ]
          },
          "metadata": {},
          "execution_count": 27
        }
      ],
      "source": [
        "get_keywords(txt=\"change number node recognition rate defined relative frequency\")"
      ]
    },
    {
      "cell_type": "markdown",
      "metadata": {
        "id": "x9hzsg0CUQZ_"
      },
      "source": [
        "### Compare Raw Counts to Tf-IDF approach"
      ]
    },
    {
      "cell_type": "code",
      "execution_count": 28,
      "metadata": {
        "id": "ot6GLVIiUPqj"
      },
      "outputs": [],
      "source": [
        "df[\"Top_N_TF-IDF\"] = df[\"preproc_text\"].apply(get_keywords, top_N=10)"
      ]
    },
    {
      "cell_type": "code",
      "execution_count": 29,
      "metadata": {
        "colab": {
          "base_uri": "https://localhost:8080/",
          "height": 177
        },
        "id": "g4sydV20UjvA",
        "outputId": "9b9f6af8-1811-41fc-a74e-19166f26490e"
      },
      "outputs": [
        {
          "output_type": "execute_result",
          "data": {
            "text/plain": [
              "        id  year                                              title  \\\n",
              "1477  2343  2002  Dynamic Bayesian Networks with Deterministic L...   \n",
              "\n",
              "     event_type                                           pdf_name  \\\n",
              "1477        NaN  2343-dynamic-bayesian-networks-with-determinis...   \n",
              "\n",
              "              abstract                                         paper_text  \\\n",
              "1477  Abstract Missing  Dynamic Bayesian Networks with\\nDeterministic ...   \n",
              "\n",
              "                                           preproc_text  \\\n",
              "1477  dynamic bayesian network deterministic latent ...   \n",
              "\n",
              "                                                  Top N  \\\n",
              "1477  [(hidden, 69), (model, 59), (unit, 35), (netwo...   \n",
              "\n",
              "                                           Top_N_TF-IDF  \n",
              "1477  [(hidden, 0.472), (hidden unit, 0.293), (visib...  "
            ],
            "text/html": [
              "\n",
              "  <div id=\"df-88b6a339-2084-4d42-bc53-5680181ae120\">\n",
              "    <div class=\"colab-df-container\">\n",
              "      <div>\n",
              "<style scoped>\n",
              "    .dataframe tbody tr th:only-of-type {\n",
              "        vertical-align: middle;\n",
              "    }\n",
              "\n",
              "    .dataframe tbody tr th {\n",
              "        vertical-align: top;\n",
              "    }\n",
              "\n",
              "    .dataframe thead th {\n",
              "        text-align: right;\n",
              "    }\n",
              "</style>\n",
              "<table border=\"1\" class=\"dataframe\">\n",
              "  <thead>\n",
              "    <tr style=\"text-align: right;\">\n",
              "      <th></th>\n",
              "      <th>id</th>\n",
              "      <th>year</th>\n",
              "      <th>title</th>\n",
              "      <th>event_type</th>\n",
              "      <th>pdf_name</th>\n",
              "      <th>abstract</th>\n",
              "      <th>paper_text</th>\n",
              "      <th>preproc_text</th>\n",
              "      <th>Top N</th>\n",
              "      <th>Top_N_TF-IDF</th>\n",
              "    </tr>\n",
              "  </thead>\n",
              "  <tbody>\n",
              "    <tr>\n",
              "      <th>1477</th>\n",
              "      <td>2343</td>\n",
              "      <td>2002</td>\n",
              "      <td>Dynamic Bayesian Networks with Deterministic L...</td>\n",
              "      <td>NaN</td>\n",
              "      <td>2343-dynamic-bayesian-networks-with-determinis...</td>\n",
              "      <td>Abstract Missing</td>\n",
              "      <td>Dynamic Bayesian Networks with\\nDeterministic ...</td>\n",
              "      <td>dynamic bayesian network deterministic latent ...</td>\n",
              "      <td>[(hidden, 69), (model, 59), (unit, 35), (netwo...</td>\n",
              "      <td>[(hidden, 0.472), (hidden unit, 0.293), (visib...</td>\n",
              "    </tr>\n",
              "  </tbody>\n",
              "</table>\n",
              "</div>\n",
              "      <button class=\"colab-df-convert\" onclick=\"convertToInteractive('df-88b6a339-2084-4d42-bc53-5680181ae120')\"\n",
              "              title=\"Convert this dataframe to an interactive table.\"\n",
              "              style=\"display:none;\">\n",
              "        \n",
              "  <svg xmlns=\"http://www.w3.org/2000/svg\" height=\"24px\"viewBox=\"0 0 24 24\"\n",
              "       width=\"24px\">\n",
              "    <path d=\"M0 0h24v24H0V0z\" fill=\"none\"/>\n",
              "    <path d=\"M18.56 5.44l.94 2.06.94-2.06 2.06-.94-2.06-.94-.94-2.06-.94 2.06-2.06.94zm-11 1L8.5 8.5l.94-2.06 2.06-.94-2.06-.94L8.5 2.5l-.94 2.06-2.06.94zm10 10l.94 2.06.94-2.06 2.06-.94-2.06-.94-.94-2.06-.94 2.06-2.06.94z\"/><path d=\"M17.41 7.96l-1.37-1.37c-.4-.4-.92-.59-1.43-.59-.52 0-1.04.2-1.43.59L10.3 9.45l-7.72 7.72c-.78.78-.78 2.05 0 2.83L4 21.41c.39.39.9.59 1.41.59.51 0 1.02-.2 1.41-.59l7.78-7.78 2.81-2.81c.8-.78.8-2.07 0-2.86zM5.41 20L4 18.59l7.72-7.72 1.47 1.35L5.41 20z\"/>\n",
              "  </svg>\n",
              "      </button>\n",
              "      \n",
              "  <style>\n",
              "    .colab-df-container {\n",
              "      display:flex;\n",
              "      flex-wrap:wrap;\n",
              "      gap: 12px;\n",
              "    }\n",
              "\n",
              "    .colab-df-convert {\n",
              "      background-color: #E8F0FE;\n",
              "      border: none;\n",
              "      border-radius: 50%;\n",
              "      cursor: pointer;\n",
              "      display: none;\n",
              "      fill: #1967D2;\n",
              "      height: 32px;\n",
              "      padding: 0 0 0 0;\n",
              "      width: 32px;\n",
              "    }\n",
              "\n",
              "    .colab-df-convert:hover {\n",
              "      background-color: #E2EBFA;\n",
              "      box-shadow: 0px 1px 2px rgba(60, 64, 67, 0.3), 0px 1px 3px 1px rgba(60, 64, 67, 0.15);\n",
              "      fill: #174EA6;\n",
              "    }\n",
              "\n",
              "    [theme=dark] .colab-df-convert {\n",
              "      background-color: #3B4455;\n",
              "      fill: #D2E3FC;\n",
              "    }\n",
              "\n",
              "    [theme=dark] .colab-df-convert:hover {\n",
              "      background-color: #434B5C;\n",
              "      box-shadow: 0px 1px 3px 1px rgba(0, 0, 0, 0.15);\n",
              "      filter: drop-shadow(0px 1px 2px rgba(0, 0, 0, 0.3));\n",
              "      fill: #FFFFFF;\n",
              "    }\n",
              "  </style>\n",
              "\n",
              "      <script>\n",
              "        const buttonEl =\n",
              "          document.querySelector('#df-88b6a339-2084-4d42-bc53-5680181ae120 button.colab-df-convert');\n",
              "        buttonEl.style.display =\n",
              "          google.colab.kernel.accessAllowed ? 'block' : 'none';\n",
              "\n",
              "        async function convertToInteractive(key) {\n",
              "          const element = document.querySelector('#df-88b6a339-2084-4d42-bc53-5680181ae120');\n",
              "          const dataTable =\n",
              "            await google.colab.kernel.invokeFunction('convertToInteractive',\n",
              "                                                     [key], {});\n",
              "          if (!dataTable) return;\n",
              "\n",
              "          const docLinkHtml = 'Like what you see? Visit the ' +\n",
              "            '<a target=\"_blank\" href=https://colab.research.google.com/notebooks/data_table.ipynb>data table notebook</a>'\n",
              "            + ' to learn more about interactive tables.';\n",
              "          element.innerHTML = '';\n",
              "          dataTable['output_type'] = 'display_data';\n",
              "          await google.colab.output.renderOutput(dataTable, element);\n",
              "          const docLink = document.createElement('div');\n",
              "          docLink.innerHTML = docLinkHtml;\n",
              "          element.appendChild(docLink);\n",
              "        }\n",
              "      </script>\n",
              "    </div>\n",
              "  </div>\n",
              "  "
            ]
          },
          "metadata": {},
          "execution_count": 29
        }
      ],
      "source": [
        "df.sample(1)"
      ]
    },
    {
      "cell_type": "markdown",
      "metadata": {
        "id": "qkDLV8yILNNS"
      },
      "source": [
        "### Question 1.5: Find an example where there is a noticeable difference between tf-idf and raw counts? Justify which method you would choose yourself (there is no bad and good answer here) [written] (2 points)"
      ]
    },
    {
      "cell_type": "markdown",
      "metadata": {
        "id": "Mes_RnLNVXBX"
      },
      "source": [
        "## 2. KeyBERT"
      ]
    },
    {
      "cell_type": "markdown",
      "metadata": {
        "id": "t7iWThDYXlJY"
      },
      "source": [
        "## 2.0. Installation"
      ]
    },
    {
      "cell_type": "code",
      "execution_count": 30,
      "metadata": {
        "id": "g0Ji149nXmUU"
      },
      "outputs": [],
      "source": [
        "%%capture\n",
        "pip install keybert"
      ]
    },
    {
      "cell_type": "code",
      "execution_count": 31,
      "metadata": {
        "id": "k-kXWUGKXqIB"
      },
      "outputs": [],
      "source": [
        "%%capture\n",
        "from keybert import KeyBERT\n",
        "\n",
        "doc = \"\"\"\n",
        "         Supervised learning is the machine learning task of learning a function that\n",
        "         maps an input to an output based on example input-output pairs. It infers a\n",
        "         function from labeled training data consisting of a set of training examples.\n",
        "         In supervised learning, each example is a pair consisting of an input object\n",
        "         (typically a vector) and a desired output value (also called the supervisory signal). \n",
        "         A supervised learning algorithm analyzes the training data and produces an inferred function, \n",
        "         which can be used for mapping new examples. An optimal scenario will allow for the \n",
        "         algorithm to correctly determine the class labels for unseen instances. This requires \n",
        "         the learning algorithm to generalize from the training data to unseen situations in a \n",
        "         'reasonable' way (see inductive bias).\n",
        "      \"\"\"\n",
        "kw_model = KeyBERT()\n",
        "keywords = kw_model.extract_keywords(doc)"
      ]
    },
    {
      "cell_type": "code",
      "execution_count": 32,
      "metadata": {
        "colab": {
          "base_uri": "https://localhost:8080/"
        },
        "id": "pNrYae2jYDqU",
        "outputId": "25403d82-9f47-4937-fad8-0435e64aaaea"
      },
      "outputs": [
        {
          "output_type": "execute_result",
          "data": {
            "text/plain": [
              "[('supervised', 0.6676),\n",
              " ('labeled', 0.4896),\n",
              " ('learning', 0.4813),\n",
              " ('training', 0.4134),\n",
              " ('labels', 0.3947)]"
            ]
          },
          "metadata": {},
          "execution_count": 32
        }
      ],
      "source": [
        "keywords"
      ]
    },
    {
      "cell_type": "markdown",
      "metadata": {
        "id": "vJs_f30AYmKN"
      },
      "source": [
        "### Question 2.0. Apply KeyBERT to the a sample of the dataset [code] (1 point)"
      ]
    },
    {
      "cell_type": "code",
      "execution_count": 33,
      "metadata": {
        "id": "7GisGAL0pIDy",
        "colab": {
          "base_uri": "https://localhost:8080/",
          "height": 177
        },
        "outputId": "be173b15-46a3-4e93-b4b5-b9760ebd9d2a"
      },
      "outputs": [
        {
          "output_type": "execute_result",
          "data": {
            "text/plain": [
              "        id  year                                             title event_type  \\\n",
              "3301  3990  2010  Multitask Learning without Label Correspondences        NaN   \n",
              "\n",
              "                                               pdf_name  \\\n",
              "3301  3990-multitask-learning-without-label-correspo...   \n",
              "\n",
              "                                               abstract  \\\n",
              "3301  We propose an algorithm to perform multitask l...   \n",
              "\n",
              "                                             paper_text  \\\n",
              "3301  Multitask Learning without Label Correspondenc...   \n",
              "\n",
              "                                           preproc_text  \\\n",
              "3301  multitask learning label correspondence novi a...   \n",
              "\n",
              "                                                  Top N  \\\n",
              "3301  [(task, 69), (label, 52), (learning, 45), (set...   \n",
              "\n",
              "                                           Top_N_TF-IDF  \n",
              "3301  [(yahoo, 0.33), (label, 0.287), (task, 0.265),...  "
            ],
            "text/html": [
              "\n",
              "  <div id=\"df-df9bdb8d-2cba-41c6-8ac0-184ce61df097\">\n",
              "    <div class=\"colab-df-container\">\n",
              "      <div>\n",
              "<style scoped>\n",
              "    .dataframe tbody tr th:only-of-type {\n",
              "        vertical-align: middle;\n",
              "    }\n",
              "\n",
              "    .dataframe tbody tr th {\n",
              "        vertical-align: top;\n",
              "    }\n",
              "\n",
              "    .dataframe thead th {\n",
              "        text-align: right;\n",
              "    }\n",
              "</style>\n",
              "<table border=\"1\" class=\"dataframe\">\n",
              "  <thead>\n",
              "    <tr style=\"text-align: right;\">\n",
              "      <th></th>\n",
              "      <th>id</th>\n",
              "      <th>year</th>\n",
              "      <th>title</th>\n",
              "      <th>event_type</th>\n",
              "      <th>pdf_name</th>\n",
              "      <th>abstract</th>\n",
              "      <th>paper_text</th>\n",
              "      <th>preproc_text</th>\n",
              "      <th>Top N</th>\n",
              "      <th>Top_N_TF-IDF</th>\n",
              "    </tr>\n",
              "  </thead>\n",
              "  <tbody>\n",
              "    <tr>\n",
              "      <th>3301</th>\n",
              "      <td>3990</td>\n",
              "      <td>2010</td>\n",
              "      <td>Multitask Learning without Label Correspondences</td>\n",
              "      <td>NaN</td>\n",
              "      <td>3990-multitask-learning-without-label-correspo...</td>\n",
              "      <td>We propose an algorithm to perform multitask l...</td>\n",
              "      <td>Multitask Learning without Label Correspondenc...</td>\n",
              "      <td>multitask learning label correspondence novi a...</td>\n",
              "      <td>[(task, 69), (label, 52), (learning, 45), (set...</td>\n",
              "      <td>[(yahoo, 0.33), (label, 0.287), (task, 0.265),...</td>\n",
              "    </tr>\n",
              "  </tbody>\n",
              "</table>\n",
              "</div>\n",
              "      <button class=\"colab-df-convert\" onclick=\"convertToInteractive('df-df9bdb8d-2cba-41c6-8ac0-184ce61df097')\"\n",
              "              title=\"Convert this dataframe to an interactive table.\"\n",
              "              style=\"display:none;\">\n",
              "        \n",
              "  <svg xmlns=\"http://www.w3.org/2000/svg\" height=\"24px\"viewBox=\"0 0 24 24\"\n",
              "       width=\"24px\">\n",
              "    <path d=\"M0 0h24v24H0V0z\" fill=\"none\"/>\n",
              "    <path d=\"M18.56 5.44l.94 2.06.94-2.06 2.06-.94-2.06-.94-.94-2.06-.94 2.06-2.06.94zm-11 1L8.5 8.5l.94-2.06 2.06-.94-2.06-.94L8.5 2.5l-.94 2.06-2.06.94zm10 10l.94 2.06.94-2.06 2.06-.94-2.06-.94-.94-2.06-.94 2.06-2.06.94z\"/><path d=\"M17.41 7.96l-1.37-1.37c-.4-.4-.92-.59-1.43-.59-.52 0-1.04.2-1.43.59L10.3 9.45l-7.72 7.72c-.78.78-.78 2.05 0 2.83L4 21.41c.39.39.9.59 1.41.59.51 0 1.02-.2 1.41-.59l7.78-7.78 2.81-2.81c.8-.78.8-2.07 0-2.86zM5.41 20L4 18.59l7.72-7.72 1.47 1.35L5.41 20z\"/>\n",
              "  </svg>\n",
              "      </button>\n",
              "      \n",
              "  <style>\n",
              "    .colab-df-container {\n",
              "      display:flex;\n",
              "      flex-wrap:wrap;\n",
              "      gap: 12px;\n",
              "    }\n",
              "\n",
              "    .colab-df-convert {\n",
              "      background-color: #E8F0FE;\n",
              "      border: none;\n",
              "      border-radius: 50%;\n",
              "      cursor: pointer;\n",
              "      display: none;\n",
              "      fill: #1967D2;\n",
              "      height: 32px;\n",
              "      padding: 0 0 0 0;\n",
              "      width: 32px;\n",
              "    }\n",
              "\n",
              "    .colab-df-convert:hover {\n",
              "      background-color: #E2EBFA;\n",
              "      box-shadow: 0px 1px 2px rgba(60, 64, 67, 0.3), 0px 1px 3px 1px rgba(60, 64, 67, 0.15);\n",
              "      fill: #174EA6;\n",
              "    }\n",
              "\n",
              "    [theme=dark] .colab-df-convert {\n",
              "      background-color: #3B4455;\n",
              "      fill: #D2E3FC;\n",
              "    }\n",
              "\n",
              "    [theme=dark] .colab-df-convert:hover {\n",
              "      background-color: #434B5C;\n",
              "      box-shadow: 0px 1px 3px 1px rgba(0, 0, 0, 0.15);\n",
              "      filter: drop-shadow(0px 1px 2px rgba(0, 0, 0, 0.3));\n",
              "      fill: #FFFFFF;\n",
              "    }\n",
              "  </style>\n",
              "\n",
              "      <script>\n",
              "        const buttonEl =\n",
              "          document.querySelector('#df-df9bdb8d-2cba-41c6-8ac0-184ce61df097 button.colab-df-convert');\n",
              "        buttonEl.style.display =\n",
              "          google.colab.kernel.accessAllowed ? 'block' : 'none';\n",
              "\n",
              "        async function convertToInteractive(key) {\n",
              "          const element = document.querySelector('#df-df9bdb8d-2cba-41c6-8ac0-184ce61df097');\n",
              "          const dataTable =\n",
              "            await google.colab.kernel.invokeFunction('convertToInteractive',\n",
              "                                                     [key], {});\n",
              "          if (!dataTable) return;\n",
              "\n",
              "          const docLinkHtml = 'Like what you see? Visit the ' +\n",
              "            '<a target=\"_blank\" href=https://colab.research.google.com/notebooks/data_table.ipynb>data table notebook</a>'\n",
              "            + ' to learn more about interactive tables.';\n",
              "          element.innerHTML = '';\n",
              "          dataTable['output_type'] = 'display_data';\n",
              "          await google.colab.output.renderOutput(dataTable, element);\n",
              "          const docLink = document.createElement('div');\n",
              "          docLink.innerHTML = docLinkHtml;\n",
              "          element.appendChild(docLink);\n",
              "        }\n",
              "      </script>\n",
              "    </div>\n",
              "  </div>\n",
              "  "
            ]
          },
          "metadata": {},
          "execution_count": 33
        }
      ],
      "source": [
        "df_ = df.sample(100)\n",
        "df_.sample(1)"
      ]
    },
    {
      "cell_type": "code",
      "execution_count": 34,
      "metadata": {
        "colab": {
          "base_uri": "https://localhost:8080/"
        },
        "id": "CN3Dlu11YwLE",
        "outputId": "f17b817c-ca1f-4a8a-d063-515fd31880fe"
      },
      "outputs": [
        {
          "output_type": "stream",
          "name": "stdout",
          "text": [
            "CPU times: user 2min 42s, sys: 14.8 s, total: 2min 56s\n",
            "Wall time: 2min 49s\n"
          ]
        }
      ],
      "source": [
        "%%time\n",
        "%%capture\n",
        "\n",
        "# ------------------\n",
        "# Write your implementation here.\n",
        "\n",
        "df_[\"Top_N_KeyBERT\"] = df_[\"preproc_text\"].apply(lambda x: kw_model.extract_keywords(x, keyphrase_ngram_range=(1, 3), stop_words=stop_words, use_maxsum=True, nr_candidates=10, top_n=10))\n",
        "\n",
        "\n",
        "# ------------------"
      ]
    },
    {
      "cell_type": "code",
      "execution_count": 46,
      "metadata": {
        "colab": {
          "base_uri": "https://localhost:8080/",
          "height": 653
        },
        "id": "wYDNwWa5ZiTK",
        "outputId": "dcf1de1d-befe-4a45-d877-88a1863789a0"
      },
      "outputs": [
        {
          "output_type": "display_data",
          "data": {
            "text/plain": [
              "'Top N Counter: '"
            ],
            "application/vnd.google.colaboratory.intrinsic+json": {
              "type": "string"
            }
          },
          "metadata": {}
        },
        {
          "output_type": "display_data",
          "data": {
            "text/plain": [
              "[('metric', 121),\n",
              " ('geodesic', 59),\n",
              " ('space', 50),\n",
              " ('tensor', 46),\n",
              " ('data', 37),\n",
              " ('distance', 35),\n",
              " ('manifold', 34),\n",
              " ('point', 33),\n",
              " ('learning', 29),\n",
              " ('riemannian', 29)]"
            ]
          },
          "metadata": {}
        },
        {
          "output_type": "stream",
          "name": "stdout",
          "text": [
            "\n"
          ]
        },
        {
          "output_type": "display_data",
          "data": {
            "text/plain": [
              "'Top N TF-IDF: '"
            ],
            "application/vnd.google.colaboratory.intrinsic+json": {
              "type": "string"
            }
          },
          "metadata": {}
        },
        {
          "output_type": "display_data",
          "data": {
            "text/plain": [
              "[('geodesic', 0.492),\n",
              " ('metric', 0.487),\n",
              " ('tensor', 0.288),\n",
              " ('riemannian', 0.231),\n",
              " ('manifold', 0.189),\n",
              " ('tangent', 0.155),\n",
              " ('tangent space', 0.146),\n",
              " ('euclidean', 0.117),\n",
              " ('feature space', 0.116),\n",
              " ('distance', 0.108)]"
            ]
          },
          "metadata": {}
        },
        {
          "output_type": "stream",
          "name": "stdout",
          "text": [
            "\n"
          ]
        },
        {
          "output_type": "display_data",
          "data": {
            "text/plain": [
              "'Top N KeyBERT: '"
            ],
            "application/vnd.google.colaboratory.intrinsic+json": {
              "type": "string"
            }
          },
          "metadata": {}
        },
        {
          "output_type": "display_data",
          "data": {
            "text/plain": [
              "[('learning metric specifically', 0.6169),\n",
              " ('metric learning euclidean', 0.6245),\n",
              " ('metric learning corresponds', 0.6295),\n",
              " ('multi metric learning', 0.6336),\n",
              " ('learn metric', 0.6351),\n",
              " ('learning multiple metric', 0.6479),\n",
              " ('learn separate metric', 0.6498),\n",
              " ('metric learning based', 0.6506),\n",
              " ('geometric metric learning', 0.667),\n",
              " ('metric learning technique', 0.6859)]"
            ]
          },
          "metadata": {}
        }
      ],
      "source": [
        "# TODO: compare the same paper example across the 3 methods \n",
        "\n",
        "idx_focus = 3909\n",
        "\n",
        "display(\"Top N Counter: \", df_.loc[idx_focus, \"Top N\"])\n",
        "print()\n",
        "display(\"Top N TF-IDF: \", df_.loc[idx_focus, \"Top_N_TF-IDF\"])\n",
        "print()\n",
        "display(\"Top N KeyBERT: \", df_.loc[idx_focus, \"Top_N_KeyBERT\"])"
      ]
    },
    {
      "cell_type": "markdown",
      "metadata": {
        "id": "h9GQQGMTZgrR"
      },
      "source": [
        "### Question 2.2. Comparison of multilple techniques [written] (4 points)\n",
        "\n",
        "1. Draw a table of the solution, the quality score that you defined and the time taken to find keywords across a sample of 1000 of the original dataset. \n",
        "2. Can you think of tweaks to reduce time to compute? If yes, add an additional column to the above table with your proposed tweaks.\n",
        "3. Based on the above table and  lecture 1, what do you think is the most appropriate solution for keywords extraction? Why? "
      ]
    },
    {
      "cell_type": "markdown",
      "metadata": {
        "id": "mhS_Y6qgqW4Z"
      },
      "source": [
        "# Part 2. Word Vectors (10 points)"
      ]
    },
    {
      "cell_type": "code",
      "execution_count": 47,
      "metadata": {
        "colab": {
          "base_uri": "https://localhost:8080/"
        },
        "id": "kedMB9f-qsnw",
        "outputId": "b405eaea-cfeb-487b-9583-5d1fda435f95"
      },
      "outputs": [
        {
          "output_type": "stream",
          "name": "stderr",
          "text": [
            "[nltk_data] Downloading package reuters to /root/nltk_data...\n"
          ]
        }
      ],
      "source": [
        "import sys\n",
        "\n",
        "import numpy as np\n",
        "\n",
        "from gensim.models import KeyedVectors\n",
        "from gensim.test.utils import datapath\n",
        "import pprint\n",
        "import matplotlib.pyplot as plt\n",
        "plt.rcParams['figure.figsize'] = [10, 5]\n",
        "import nltk\n",
        "nltk.download('reuters')\n",
        "from nltk.corpus import reuters\n",
        "import numpy as np\n",
        "import random\n",
        "import scipy as sp\n",
        "from sklearn.decomposition import TruncatedSVD\n",
        "from sklearn.decomposition import PCA\n",
        "\n",
        "START_TOKEN = '<START>'\n",
        "END_TOKEN = '<END>'\n",
        "\n",
        "np.random.seed(0)\n",
        "random.seed(0)"
      ]
    },
    {
      "cell_type": "markdown",
      "metadata": {
        "id": "-5S4yJ_ZrHAo"
      },
      "source": [
        "Word Vectors are often used as a fundamental component for downstream NLP tasks, e.g. question answering, text generation, translation, etc., so it is important to build some intuitions as to their strengths and weaknesses. Here, you will explore two types of word vectors: those derived from co-occurrence matrices, and those derived via GloVe.\n",
        "\n",
        "Note on Terminology: The terms \"word vectors\" and \"word embeddings\" are often used interchangeably. The term \"embedding\" refers to the fact that we are encoding aspects of a word's meaning in a lower dimensional space. As Wikipedia states, \"conceptually it involves a mathematical embedding from a space with one dimension per word to a continuous vector space with a much lower dimension\"."
      ]
    },
    {
      "cell_type": "markdown",
      "metadata": {
        "id": "HKcD1SUIrP_m"
      },
      "source": [
        "## Count-Based Word Vectors"
      ]
    },
    {
      "cell_type": "markdown",
      "metadata": {
        "id": "8Uvm6lbSsFD0"
      },
      "source": [
        "Most word vector models start from the following idea:\n",
        "\n",
        "You shall know a word by the company it keeps (Firth, J. R. 1957:11)\n",
        "\n",
        "Many word vector implementations are driven by the idea that similar words, i.e., (near) synonyms, will be used in similar contexts. As a result, similar words will often be spoken or written along with a shared subset of words, i.e., contexts. By examining these contexts, we can try to develop embeddings for our words. With this intuition in mind, many \"old school\" approaches to constructing word vectors relied on word counts. Here we elaborate upon one of those strategies, co-occurrence matrices.\n",
        "\n"
      ]
    },
    {
      "cell_type": "markdown",
      "metadata": {
        "id": "4vMxbozcslLA"
      },
      "source": [
        "## Plotting Co-Occurrence Word Embeddings"
      ]
    },
    {
      "cell_type": "markdown",
      "metadata": {
        "id": "x3OO_oowsrK2"
      },
      "source": [
        "\n",
        "Here, we will be using the Reuters (business and financial news) corpus. If you haven't run the import cell at the top of this page, please run it now (click it and press SHIFT-RETURN). The corpus consists of 10,788 news documents totaling 1.3 million words. These documents span 90 categories and are split into train and test. For more details, please see https://www.nltk.org/book/ch02.html. We provide a read_corpus function below that pulls out only articles from the \"crude\" (i.e. news articles about oil, gas, etc.) category. The function also adds <START> and <END> tokens to each of the documents, and lowercases words. You do not have to perform any other kind of pre-processing."
      ]
    },
    {
      "cell_type": "code",
      "execution_count": 49,
      "metadata": {
        "id": "0xTQwympsqDq"
      },
      "outputs": [],
      "source": [
        "def read_corpus(category=\"crude\"):\n",
        "    \"\"\" Read files from the specified Reuter's category.\n",
        "        Params:\n",
        "            category (string): category name\n",
        "        Return:\n",
        "            list of lists, with words from each of the processed files\n",
        "    \"\"\"\n",
        "    files = reuters.fileids(category)\n",
        "    return [[START_TOKEN] + [w.lower() for w in list(reuters.words(f))] + [END_TOKEN] for f in files]"
      ]
    },
    {
      "cell_type": "markdown",
      "metadata": {
        "id": "bQrwL93ns1Qy"
      },
      "source": [
        "Let's have a look what these documents are like…."
      ]
    },
    {
      "cell_type": "code",
      "execution_count": 50,
      "metadata": {
        "id": "0eZvFI3Qs0x4",
        "colab": {
          "base_uri": "https://localhost:8080/"
        },
        "outputId": "206a6fd5-1d34-4be0-ae98-85d94b19ac65"
      },
      "outputs": [
        {
          "output_type": "stream",
          "name": "stdout",
          "text": [
            "[['<START>', 'japan', 'to', 'revise', 'long', '-', 'term', 'energy', 'demand', 'downwards', 'the',\n",
            "  'ministry', 'of', 'international', 'trade', 'and', 'industry', '(', 'miti', ')', 'will', 'revise',\n",
            "  'its', 'long', '-', 'term', 'energy', 'supply', '/', 'demand', 'outlook', 'by', 'august', 'to',\n",
            "  'meet', 'a', 'forecast', 'downtrend', 'in', 'japanese', 'energy', 'demand', ',', 'ministry',\n",
            "  'officials', 'said', '.', 'miti', 'is', 'expected', 'to', 'lower', 'the', 'projection', 'for',\n",
            "  'primary', 'energy', 'supplies', 'in', 'the', 'year', '2000', 'to', '550', 'mln', 'kilolitres',\n",
            "  '(', 'kl', ')', 'from', '600', 'mln', ',', 'they', 'said', '.', 'the', 'decision', 'follows',\n",
            "  'the', 'emergence', 'of', 'structural', 'changes', 'in', 'japanese', 'industry', 'following',\n",
            "  'the', 'rise', 'in', 'the', 'value', 'of', 'the', 'yen', 'and', 'a', 'decline', 'in', 'domestic',\n",
            "  'electric', 'power', 'demand', '.', 'miti', 'is', 'planning', 'to', 'work', 'out', 'a', 'revised',\n",
            "  'energy', 'supply', '/', 'demand', 'outlook', 'through', 'deliberations', 'of', 'committee',\n",
            "  'meetings', 'of', 'the', 'agency', 'of', 'natural', 'resources', 'and', 'energy', ',', 'the',\n",
            "  'officials', 'said', '.', 'they', 'said', 'miti', 'will', 'also', 'review', 'the', 'breakdown',\n",
            "  'of', 'energy', 'supply', 'sources', ',', 'including', 'oil', ',', 'nuclear', ',', 'coal', 'and',\n",
            "  'natural', 'gas', '.', 'nuclear', 'energy', 'provided', 'the', 'bulk', 'of', 'japan', \"'\", 's',\n",
            "  'electric', 'power', 'in', 'the', 'fiscal', 'year', 'ended', 'march', '31', ',', 'supplying',\n",
            "  'an', 'estimated', '27', 'pct', 'on', 'a', 'kilowatt', '/', 'hour', 'basis', ',', 'followed',\n",
            "  'by', 'oil', '(', '23', 'pct', ')', 'and', 'liquefied', 'natural', 'gas', '(', '21', 'pct', '),',\n",
            "  'they', 'noted', '.', '<END>'],\n",
            " ['<START>', 'energy', '/', 'u', '.', 's', '.', 'petrochemical', 'industry', 'cheap', 'oil',\n",
            "  'feedstocks', ',', 'the', 'weakened', 'u', '.', 's', '.', 'dollar', 'and', 'a', 'plant',\n",
            "  'utilization', 'rate', 'approaching', '90', 'pct', 'will', 'propel', 'the', 'streamlined', 'u',\n",
            "  '.', 's', '.', 'petrochemical', 'industry', 'to', 'record', 'profits', 'this', 'year', ',',\n",
            "  'with', 'growth', 'expected', 'through', 'at', 'least', '1990', ',', 'major', 'company',\n",
            "  'executives', 'predicted', '.', 'this', 'bullish', 'outlook', 'for', 'chemical', 'manufacturing',\n",
            "  'and', 'an', 'industrywide', 'move', 'to', 'shed', 'unrelated', 'businesses', 'has', 'prompted',\n",
            "  'gaf', 'corp', '&', 'lt', ';', 'gaf', '>,', 'privately', '-', 'held', 'cain', 'chemical', 'inc',\n",
            "  ',', 'and', 'other', 'firms', 'to', 'aggressively', 'seek', 'acquisitions', 'of', 'petrochemical',\n",
            "  'plants', '.', 'oil', 'companies', 'such', 'as', 'ashland', 'oil', 'inc', '&', 'lt', ';', 'ash',\n",
            "  '>,', 'the', 'kentucky', '-', 'based', 'oil', 'refiner', 'and', 'marketer', ',', 'are', 'also',\n",
            "  'shopping', 'for', 'money', '-', 'making', 'petrochemical', 'businesses', 'to', 'buy', '.', '\"',\n",
            "  'i', 'see', 'us', 'poised', 'at', 'the', 'threshold', 'of', 'a', 'golden', 'period', ',\"', 'said',\n",
            "  'paul', 'oreffice', ',', 'chairman', 'of', 'giant', 'dow', 'chemical', 'co', '&', 'lt', ';',\n",
            "  'dow', '>,', 'adding', ',', '\"', 'there', \"'\", 's', 'no', 'major', 'plant', 'capacity', 'being',\n",
            "  'added', 'around', 'the', 'world', 'now', '.', 'the', 'whole', 'game', 'is', 'bringing', 'out',\n",
            "  'new', 'products', 'and', 'improving', 'the', 'old', 'ones', '.\"', 'analysts', 'say', 'the',\n",
            "  'chemical', 'industry', \"'\", 's', 'biggest', 'customers', ',', 'automobile', 'manufacturers',\n",
            "  'and', 'home', 'builders', 'that', 'use', 'a', 'lot', 'of', 'paints', 'and', 'plastics', ',',\n",
            "  'are', 'expected', 'to', 'buy', 'quantities', 'this', 'year', '.', 'u', '.', 's', '.',\n",
            "  'petrochemical', 'plants', 'are', 'currently', 'operating', 'at', 'about', '90', 'pct',\n",
            "  'capacity', ',', 'reflecting', 'tighter', 'supply', 'that', 'could', 'hike', 'product', 'prices',\n",
            "  'by', '30', 'to', '40', 'pct', 'this', 'year', ',', 'said', 'john', 'dosher', ',', 'managing',\n",
            "  'director', 'of', 'pace', 'consultants', 'inc', 'of', 'houston', '.', 'demand', 'for', 'some',\n",
            "  'products', 'such', 'as', 'styrene', 'could', 'push', 'profit', 'margins', 'up', 'by', 'as',\n",
            "  'much', 'as', '300', 'pct', ',', 'he', 'said', '.', 'oreffice', ',', 'speaking', 'at', 'a',\n",
            "  'meeting', 'of', 'chemical', 'engineers', 'in', 'houston', ',', 'said', 'dow', 'would', 'easily',\n",
            "  'top', 'the', '741', 'mln', 'dlrs', 'it', 'earned', 'last', 'year', 'and', 'predicted', 'it',\n",
            "  'would', 'have', 'the', 'best', 'year', 'in', 'its', 'history', '.', 'in', '1985', ',', 'when',\n",
            "  'oil', 'prices', 'were', 'still', 'above', '25', 'dlrs', 'a', 'barrel', 'and', 'chemical',\n",
            "  'exports', 'were', 'adversely', 'affected', 'by', 'the', 'strong', 'u', '.', 's', '.', 'dollar',\n",
            "  ',', 'dow', 'had', 'profits', 'of', '58', 'mln', 'dlrs', '.', '\"', 'i', 'believe', 'the',\n",
            "  'entire', 'chemical', 'industry', 'is', 'headed', 'for', 'a', 'record', 'year', 'or', 'close',\n",
            "  'to', 'it', ',\"', 'oreffice', 'said', '.', 'gaf', 'chairman', 'samuel', 'heyman', 'estimated',\n",
            "  'that', 'the', 'u', '.', 's', '.', 'chemical', 'industry', 'would', 'report', 'a', '20', 'pct',\n",
            "  'gain', 'in', 'profits', 'during', '1987', '.', 'last', 'year', ',', 'the', 'domestic',\n",
            "  'industry', 'earned', 'a', 'total', 'of', '13', 'billion', 'dlrs', ',', 'a', '54', 'pct', 'leap',\n",
            "  'from', '1985', '.', 'the', 'turn', 'in', 'the', 'fortunes', 'of', 'the', 'once', '-', 'sickly',\n",
            "  'chemical', 'industry', 'has', 'been', 'brought', 'about', 'by', 'a', 'combination', 'of', 'luck',\n",
            "  'and', 'planning', ',', 'said', 'pace', \"'\", 's', 'john', 'dosher', '.', 'dosher', 'said', 'last',\n",
            "  'year', \"'\", 's', 'fall', 'in', 'oil', 'prices', 'made', 'feedstocks', 'dramatically', 'cheaper',\n",
            "  'and', 'at', 'the', 'same', 'time', 'the', 'american', 'dollar', 'was', 'weakening', 'against',\n",
            "  'foreign', 'currencies', '.', 'that', 'helped', 'boost', 'u', '.', 's', '.', 'chemical',\n",
            "  'exports', '.', 'also', 'helping', 'to', 'bring', 'supply', 'and', 'demand', 'into', 'balance',\n",
            "  'has', 'been', 'the', 'gradual', 'market', 'absorption', 'of', 'the', 'extra', 'chemical',\n",
            "  'manufacturing', 'capacity', 'created', 'by', 'middle', 'eastern', 'oil', 'producers', 'in',\n",
            "  'the', 'early', '1980s', '.', 'finally', ',', 'virtually', 'all', 'major', 'u', '.', 's', '.',\n",
            "  'chemical', 'manufacturers', 'have', 'embarked', 'on', 'an', 'extensive', 'corporate',\n",
            "  'restructuring', 'program', 'to', 'mothball', 'inefficient', 'plants', ',', 'trim', 'the',\n",
            "  'payroll', 'and', 'eliminate', 'unrelated', 'businesses', '.', 'the', 'restructuring', 'touched',\n",
            "  'off', 'a', 'flurry', 'of', 'friendly', 'and', 'hostile', 'takeover', 'attempts', '.', 'gaf', ',',\n",
            "  'which', 'made', 'an', 'unsuccessful', 'attempt', 'in', '1985', 'to', 'acquire', 'union',\n",
            "  'carbide', 'corp', '&', 'lt', ';', 'uk', '>,', 'recently', 'offered', 'three', 'billion', 'dlrs',\n",
            "  'for', 'borg', 'warner', 'corp', '&', 'lt', ';', 'bor', '>,', 'a', 'chicago', 'manufacturer',\n",
            "  'of', 'plastics', 'and', 'chemicals', '.', 'another', 'industry', 'powerhouse', ',', 'w', '.',\n",
            "  'r', '.', 'grace', '&', 'lt', ';', 'gra', '>', 'has', 'divested', 'its', 'retailing', ',',\n",
            "  'restaurant', 'and', 'fertilizer', 'businesses', 'to', 'raise', 'cash', 'for', 'chemical',\n",
            "  'acquisitions', '.', 'but', 'some', 'experts', 'worry', 'that', 'the', 'chemical', 'industry',\n",
            "  'may', 'be', 'headed', 'for', 'trouble', 'if', 'companies', 'continue', 'turning', 'their',\n",
            "  'back', 'on', 'the', 'manufacturing', 'of', 'staple', 'petrochemical', 'commodities', ',', 'such',\n",
            "  'as', 'ethylene', ',', 'in', 'favor', 'of', 'more', 'profitable', 'specialty', 'chemicals',\n",
            "  'that', 'are', 'custom', '-', 'designed', 'for', 'a', 'small', 'group', 'of', 'buyers', '.', '\"',\n",
            "  'companies', 'like', 'dupont', '&', 'lt', ';', 'dd', '>', 'and', 'monsanto', 'co', '&', 'lt', ';',\n",
            "  'mtc', '>', 'spent', 'the', 'past', 'two', 'or', 'three', 'years', 'trying', 'to', 'get', 'out',\n",
            "  'of', 'the', 'commodity', 'chemical', 'business', 'in', 'reaction', 'to', 'how', 'badly', 'the',\n",
            "  'market', 'had', 'deteriorated', ',\"', 'dosher', 'said', '.', '\"', 'but', 'i', 'think', 'they',\n",
            "  'will', 'eventually', 'kill', 'the', 'margins', 'on', 'the', 'profitable', 'chemicals', 'in',\n",
            "  'the', 'niche', 'market', '.\"', 'some', 'top', 'chemical', 'executives', 'share', 'the',\n",
            "  'concern', '.', '\"', 'the', 'challenge', 'for', 'our', 'industry', 'is', 'to', 'keep', 'from',\n",
            "  'getting', 'carried', 'away', 'and', 'repeating', 'past', 'mistakes', ',\"', 'gaf', \"'\", 's',\n",
            "  'heyman', 'cautioned', '.', '\"', 'the', 'shift', 'from', 'commodity', 'chemicals', 'may', 'be',\n",
            "  'ill', '-', 'advised', '.', 'specialty', 'businesses', 'do', 'not', 'stay', 'special', 'long',\n",
            "  '.\"', 'houston', '-', 'based', 'cain', 'chemical', ',', 'created', 'this', 'month', 'by', 'the',\n",
            "  'sterling', 'investment', 'banking', 'group', ',', 'believes', 'it', 'can', 'generate', '700',\n",
            "  'mln', 'dlrs', 'in', 'annual', 'sales', 'by', 'bucking', 'the', 'industry', 'trend', '.',\n",
            "  'chairman', 'gordon', 'cain', ',', 'who', 'previously', 'led', 'a', 'leveraged', 'buyout', 'of',\n",
            "  'dupont', \"'\", 's', 'conoco', 'inc', \"'\", 's', 'chemical', 'business', ',', 'has', 'spent', '1',\n",
            "  '.', '1', 'billion', 'dlrs', 'since', 'january', 'to', 'buy', 'seven', 'petrochemical', 'plants',\n",
            "  'along', 'the', 'texas', 'gulf', 'coast', '.', 'the', 'plants', 'produce', 'only', 'basic',\n",
            "  'commodity', 'petrochemicals', 'that', 'are', 'the', 'building', 'blocks', 'of', 'specialty',\n",
            "  'products', '.', '\"', 'this', 'kind', 'of', 'commodity', 'chemical', 'business', 'will', 'never',\n",
            "  'be', 'a', 'glamorous', ',', 'high', '-', 'margin', 'business', ',\"', 'cain', 'said', ',',\n",
            "  'adding', 'that', 'demand', 'is', 'expected', 'to', 'grow', 'by', 'about', 'three', 'pct',\n",
            "  'annually', '.', 'garo', 'armen', ',', 'an', 'analyst', 'with', 'dean', 'witter', 'reynolds', ',',\n",
            "  'said', 'chemical', 'makers', 'have', 'also', 'benefitted', 'by', 'increasing', 'demand', 'for',\n",
            "  'plastics', 'as', 'prices', 'become', 'more', 'competitive', 'with', 'aluminum', ',', 'wood',\n",
            "  'and', 'steel', 'products', '.', 'armen', 'estimated', 'the', 'upturn', 'in', 'the', 'chemical',\n",
            "  'business', 'could', 'last', 'as', 'long', 'as', 'four', 'or', 'five', 'years', ',', 'provided',\n",
            "  'the', 'u', '.', 's', '.', 'economy', 'continues', 'its', 'modest', 'rate', 'of', 'growth', '.',\n",
            "  '<END>'],\n",
            " ['<START>', 'turkey', 'calls', 'for', 'dialogue', 'to', 'solve', 'dispute', 'turkey', 'said',\n",
            "  'today', 'its', 'disputes', 'with', 'greece', ',', 'including', 'rights', 'on', 'the',\n",
            "  'continental', 'shelf', 'in', 'the', 'aegean', 'sea', ',', 'should', 'be', 'solved', 'through',\n",
            "  'negotiations', '.', 'a', 'foreign', 'ministry', 'statement', 'said', 'the', 'latest', 'crisis',\n",
            "  'between', 'the', 'two', 'nato', 'members', 'stemmed', 'from', 'the', 'continental', 'shelf',\n",
            "  'dispute', 'and', 'an', 'agreement', 'on', 'this', 'issue', 'would', 'effect', 'the', 'security',\n",
            "  ',', 'economy', 'and', 'other', 'rights', 'of', 'both', 'countries', '.', '\"', 'as', 'the',\n",
            "  'issue', 'is', 'basicly', 'political', ',', 'a', 'solution', 'can', 'only', 'be', 'found', 'by',\n",
            "  'bilateral', 'negotiations', ',\"', 'the', 'statement', 'said', '.', 'greece', 'has', 'repeatedly',\n",
            "  'said', 'the', 'issue', 'was', 'legal', 'and', 'could', 'be', 'solved', 'at', 'the',\n",
            "  'international', 'court', 'of', 'justice', '.', 'the', 'two', 'countries', 'approached', 'armed',\n",
            "  'confrontation', 'last', 'month', 'after', 'greece', 'announced', 'it', 'planned', 'oil',\n",
            "  'exploration', 'work', 'in', 'the', 'aegean', 'and', 'turkey', 'said', 'it', 'would', 'also',\n",
            "  'search', 'for', 'oil', '.', 'a', 'face', '-', 'off', 'was', 'averted', 'when', 'turkey',\n",
            "  'confined', 'its', 'research', 'to', 'territorrial', 'waters', '.', '\"', 'the', 'latest',\n",
            "  'crises', 'created', 'an', 'historic', 'opportunity', 'to', 'solve', 'the', 'disputes', 'between',\n",
            "  'the', 'two', 'countries', ',\"', 'the', 'foreign', 'ministry', 'statement', 'said', '.', 'turkey',\n",
            "  \"'\", 's', 'ambassador', 'in', 'athens', ',', 'nazmi', 'akiman', ',', 'was', 'due', 'to', 'meet',\n",
            "  'prime', 'minister', 'andreas', 'papandreou', 'today', 'for', 'the', 'greek', 'reply', 'to', 'a',\n",
            "  'message', 'sent', 'last', 'week', 'by', 'turkish', 'prime', 'minister', 'turgut', 'ozal', '.',\n",
            "  'the', 'contents', 'of', 'the', 'message', 'were', 'not', 'disclosed', '.', '<END>']]\n"
          ]
        }
      ],
      "source": [
        "reuters_corpus = read_corpus()\n",
        "pprint.pprint(reuters_corpus[:3], compact=True, width=100)"
      ]
    },
    {
      "cell_type": "markdown",
      "metadata": {
        "id": "bNKy6j3as7xJ"
      },
      "source": [
        "### Question 2.1: Implement distinct_words [code] (2 points)"
      ]
    },
    {
      "cell_type": "markdown",
      "metadata": {
        "id": "BIgkQ47otdqZ"
      },
      "source": [
        "Write a method to work out the distinct words (word types) that occur in the corpus. You can do this with for loops, but it's more efficient to do it with Python list comprehensions. In particular, this may be useful to flatten a list of lists. If you're not familiar with Python list comprehensions in general, here's more information.\n",
        "\n",
        "Your returned corpus_words should be sorted. You can use python's sorted function for this.\n",
        "\n",
        "You may find it useful to use Python sets to remove duplicate words."
      ]
    },
    {
      "cell_type": "code",
      "execution_count": 51,
      "metadata": {
        "id": "VTIH5vFetgjD"
      },
      "outputs": [],
      "source": [
        "def distinct_words(corpus):\n",
        "    \"\"\" Determine a list of distinct words for the corpus.\n",
        "        Params:\n",
        "            corpus (list of list of strings): corpus of documents - eg [[\"hey\", \"I\", \"am\", \"toto\"], [\"hey\", \"I\", \"am\", \"tata\"]]\n",
        "        Return:\n",
        "            corpus_words (list of strings): sorted list of distinct words across the corpus\n",
        "            num_corpus_words (integer): number of distinct words across the corpus\n",
        "    \"\"\"\n",
        "    \n",
        "    # ------------------\n",
        "    # Write your implementation here.w\n",
        "    corpus_words = sorted(list(set([word for doc in corpus for word in doc])))\n",
        "    num_corpus_words = len(corpus_words)\n",
        "    # ------------------\n",
        "\n",
        "    return corpus_words, num_corpus_words"
      ]
    },
    {
      "cell_type": "code",
      "execution_count": 52,
      "metadata": {
        "colab": {
          "base_uri": "https://localhost:8080/"
        },
        "id": "DZX4dH8stmYN",
        "outputId": "68dcd3ab-fbd7-4109-aad5-1c8d9d02dc38"
      },
      "outputs": [
        {
          "output_type": "stream",
          "name": "stdout",
          "text": [
            "--------------------------------------------------------------------------------\n",
            "Passed All Tests!\n",
            "--------------------------------------------------------------------------------\n"
          ]
        }
      ],
      "source": [
        "# ---------------------\n",
        "# Run this sanity check\n",
        "# Note that this not an exhaustive check for correctness.\n",
        "# ---------------------\n",
        "\n",
        "# Define toy corpus\n",
        "test_corpus = [\"{} All that glitters isn't gold {}\".format(START_TOKEN, END_TOKEN).split(\" \"), \"{} All's well that ends well {}\".format(START_TOKEN, END_TOKEN).split(\" \")]\n",
        "test_corpus_words, num_corpus_words = distinct_words(test_corpus)\n",
        "\n",
        "# Correct answers\n",
        "ans_test_corpus_words = sorted([START_TOKEN, \"All\", \"ends\", \"that\", \"gold\", \"All's\", \"glitters\", \"isn't\", \"well\", END_TOKEN])\n",
        "ans_num_corpus_words = len(ans_test_corpus_words)\n",
        "\n",
        "# Test correct number of words\n",
        "assert(num_corpus_words == ans_num_corpus_words), \"Incorrect number of distinct words. Correct: {}. Yours: {}\".format(ans_num_corpus_words, num_corpus_words)\n",
        "\n",
        "# Test correct words\n",
        "assert (test_corpus_words == ans_test_corpus_words), \"Incorrect corpus_words.\\nCorrect: {}\\nYours:   {}\".format(str(ans_test_corpus_words), str(test_corpus_words))\n",
        "\n",
        "# Print Success\n",
        "print (\"-\" * 80)\n",
        "print(\"Passed All Tests!\")\n",
        "print (\"-\" * 80)"
      ]
    },
    {
      "cell_type": "markdown",
      "metadata": {
        "id": "86fD2hYr3fw8"
      },
      "source": [
        "### Question 2.2: Implement compute_co_occurrence_matrix [code] (3 points)"
      ]
    },
    {
      "cell_type": "markdown",
      "metadata": {
        "id": "SE4MLCIa3lKw"
      },
      "source": [
        "Write a method that constructs a co-occurrence matrix for a certain window-size  n  (with a default of 4), considering words  n  before and  n  after the word in the center of the window. Here, we start to use numpy (np) to represent vectors, matrices, and tensors"
      ]
    },
    {
      "cell_type": "code",
      "execution_count": 63,
      "metadata": {
        "id": "zz5vrGb43lbA"
      },
      "outputs": [],
      "source": [
        "from collections import defaultdict\n",
        "from collections import Counter \n",
        "\n",
        "def compute_co_occurrence_matrix(corpus, window_size=4):\n",
        "    \"\"\" Compute co-occurrence matrix for the given corpus and window_size (default of 4).\n",
        "    \n",
        "        Note: Each word in a document should be at the center of a window. Words near edges will have a smaller\n",
        "              number of co-occurring words.\n",
        "              \n",
        "              For example, if we take the document \"<START> All that glitters is not gold <END>\" with window size of 4,\n",
        "              \"All\" will co-occur with \"<START>\", \"that\", \"glitters\", \"is\", and \"not\".\n",
        "    \n",
        "        Params:\n",
        "            corpus (list of list of strings): corpus of documents\n",
        "            window_size (int): size of context window\n",
        "        Return:\n",
        "            M (a symmetric numpy matrix of shape (number of unique words in the corpus , number of unique words in the corpus)): \n",
        "                Co-occurence matrix of word counts. \n",
        "                The ordering of the words in the rows/columns should be the same as the ordering of the words given by the distinct_words function.\n",
        "            word2ind (dict): dictionary that maps word to index (i.e. row/column number) for matrix M.\n",
        "    \"\"\"\n",
        "    words, num_words = distinct_words(corpus)\n",
        "    \n",
        "    # ------------------\n",
        "    # Write your implementation here.\n",
        "    \n",
        "    word2ind = {word: i for i, word in enumerate(words)}\n",
        "    M = np.zeros((num_words, num_words))\n",
        "    for doc in corpus:\n",
        "        for i, word in enumerate(doc):\n",
        "            for j in range(max(0, i - window_size), min(len(doc), i + window_size + 1)):\n",
        "                if i != j:\n",
        "                    M[word2ind[word], word2ind[doc[j]]] = 1\n",
        "                    M[word2ind[doc[j]], word2ind[word]] = 1\n",
        "    # ------------------\n",
        "\n",
        "    return M, word2ind"
      ]
    },
    {
      "cell_type": "code",
      "execution_count": 64,
      "metadata": {
        "colab": {
          "base_uri": "https://localhost:8080/"
        },
        "id": "guUdCsM2BUuC",
        "outputId": "d6049761-db23-4f59-8a4c-4798c51702bb"
      },
      "outputs": [
        {
          "output_type": "stream",
          "name": "stdout",
          "text": [
            "--------------------------------------------------------------------------------\n",
            "Passed All Tests!\n",
            "--------------------------------------------------------------------------------\n"
          ]
        }
      ],
      "source": [
        "# ---------------------\n",
        "# Run this sanity check\n",
        "# Note that this is not an exhaustive check for correctness.\n",
        "# ---------------------\n",
        "\n",
        "# Define toy corpus and get student's co-occurrence matrix\n",
        "test_corpus = [\"{} All that glitters isn't gold {}\".format(START_TOKEN, END_TOKEN).split(\" \"), \"{} All's well that ends well {}\".format(START_TOKEN, END_TOKEN).split(\" \")]\n",
        "M_test, word2ind_test = compute_co_occurrence_matrix(test_corpus, window_size=1)\n",
        "\n",
        "# Correct M and word2ind\n",
        "M_test_ans = np.array( \n",
        "    [[0., 0., 0., 0., 0., 0., 1., 0., 0., 1.,],\n",
        "     [0., 0., 1., 1., 0., 0., 0., 0., 0., 0.,],\n",
        "     [0., 1., 0., 0., 0., 0., 0., 0., 1., 0.,],\n",
        "     [0., 1., 0., 0., 0., 0., 0., 0., 0., 1.,],\n",
        "     [0., 0., 0., 0., 0., 0., 0., 0., 1., 1.,],\n",
        "     [0., 0., 0., 0., 0., 0., 0., 1., 1., 0.,],\n",
        "     [1., 0., 0., 0., 0., 0., 0., 1., 0., 0.,],\n",
        "     [0., 0., 0., 0., 0., 1., 1., 0., 0., 0.,],\n",
        "     [0., 0., 1., 0., 1., 1., 0., 0., 0., 1.,],\n",
        "     [1., 0., 0., 1., 1., 0., 0., 0., 1., 0.,]]\n",
        ")\n",
        "ans_test_corpus_words = sorted([START_TOKEN, \"All\", \"ends\", \"that\", \"gold\", \"All's\", \"glitters\", \"isn't\", \"well\", END_TOKEN])\n",
        "word2ind_ans = dict(zip(ans_test_corpus_words, range(len(ans_test_corpus_words))))\n",
        "\n",
        "# Test correct word2ind\n",
        "assert (word2ind_ans == word2ind_test), \"Your word2ind is incorrect:\\nCorrect: {}\\nYours: {}\".format(word2ind_ans, word2ind_test)\n",
        "\n",
        "# Test correct M shape\n",
        "assert (M_test.shape == M_test_ans.shape), \"M matrix has incorrect shape.\\nCorrect: {}\\nYours: {}\".format(M_test.shape, M_test_ans.shape)\n",
        "\n",
        "# Test correct M values\n",
        "for w1 in word2ind_ans.keys():\n",
        "    idx1 = word2ind_ans[w1]\n",
        "    for w2 in word2ind_ans.keys():\n",
        "        idx2 = word2ind_ans[w2]\n",
        "        student = M_test[idx1, idx2]\n",
        "        correct = M_test_ans[idx1, idx2]\n",
        "        if student != correct:\n",
        "            print(\"Correct M:\")\n",
        "            print(M_test_ans)\n",
        "            print(\"Your M: \")\n",
        "            print(M_test)\n",
        "            raise AssertionError(\"Incorrect count at index ({}, {})=({}, {}) in matrix M. Yours has {} but should have {}.\".format(idx1, idx2, w1, w2, student, correct))\n",
        "\n",
        "# Print Success\n",
        "print (\"-\" * 80)\n",
        "print(\"Passed All Tests!\")\n",
        "print (\"-\" * 80)"
      ]
    },
    {
      "cell_type": "markdown",
      "metadata": {
        "id": "yCC24T0WPyI2"
      },
      "source": [
        "### Question 2.3: Implement reduce_to_k_dim [code] (1 point)"
      ]
    },
    {
      "cell_type": "markdown",
      "metadata": {
        "id": "wJ9XXG-WP2dZ"
      },
      "source": [
        "Construct a method that performs dimensionality reduction on the matrix to produce k-dimensional embeddings. Use SVD to take the top k components and produce a new matrix of k-dimensional embeddings.\n",
        "\n",
        "Note: All of numpy, scipy, and scikit-learn (sklearn) provide some implementation of SVD, but only scipy and sklearn provide an implementation of Truncated SVD, and only sklearn provides an efficient randomized algorithm for calculating large-scale Truncated SVD. So please use sklearn.decomposition.TruncatedSVD."
      ]
    },
    {
      "cell_type": "code",
      "execution_count": 65,
      "metadata": {
        "id": "5jfqvOUOP8R6"
      },
      "outputs": [],
      "source": [
        "def reduce_to_k_dim(M, k=2):\n",
        "    \"\"\" Reduce a co-occurence count matrix of dimensionality (num_corpus_words, num_corpus_words)\n",
        "        to a matrix of dimensionality (num_corpus_words, k) using the following SVD function from Scikit-Learn:\n",
        "            - http://scikit-learn.org/stable/modules/generated/sklearn.decomposition.TruncatedSVD.html\n",
        "    \n",
        "        Params:\n",
        "            M (numpy matrix of shape (number of unique words in the corpus , number of unique words in the corpus)): co-occurence matrix of word counts\n",
        "            k (int): embedding size of each word after dimension reduction\n",
        "        Return:\n",
        "            M_reduced (numpy matrix of shape (number of corpus words, k)): matrix of k-dimensioal word embeddings.\n",
        "                    In terms of the SVD from math class, this actually returns U * S\n",
        "    \"\"\"    \n",
        "    n_iters = 10     # Use this parameter in your call to `TruncatedSVD`\n",
        "    M_reduced = None\n",
        "    print(\"Running Truncated SVD over %i words...\" % (M.shape[0]))\n",
        "    \n",
        "    # ------------------\n",
        "    # Write your implementation here.\n",
        "    svd = TruncatedSVD(n_components=k, n_iter=n_iters)\n",
        "    M_reduced = svd.fit_transform(M)\n",
        "    # ------------------\n",
        "\n",
        "    print(\"Done.\")\n",
        "    return M_reduced"
      ]
    },
    {
      "cell_type": "code",
      "execution_count": 66,
      "metadata": {
        "colab": {
          "base_uri": "https://localhost:8080/"
        },
        "id": "3rGeaWNuRAnJ",
        "outputId": "cea7a2b5-0f69-486a-e7e9-e82bc80df9c3"
      },
      "outputs": [
        {
          "output_type": "stream",
          "name": "stdout",
          "text": [
            "Running Truncated SVD over 10 words...\n",
            "Done.\n",
            "--------------------------------------------------------------------------------\n",
            "Passed All Tests!\n",
            "--------------------------------------------------------------------------------\n"
          ]
        }
      ],
      "source": [
        "# ---------------------\n",
        "# Run this sanity check\n",
        "# Note that this is not an exhaustive check for correctness \n",
        "# In fact we only check that your M_reduced has the right dimensions.\n",
        "# ---------------------\n",
        "\n",
        "# Define toy corpus and run student code\n",
        "test_corpus = [\"{} All that glitters isn't gold {}\".format(START_TOKEN, END_TOKEN).split(\" \"), \"{} All's well that ends well {}\".format(START_TOKEN, END_TOKEN).split(\" \")]\n",
        "M_test, word2ind_test = compute_co_occurrence_matrix(test_corpus, window_size=1)\n",
        "M_test_reduced = reduce_to_k_dim(M_test, k=2)\n",
        "\n",
        "# Test proper dimensions\n",
        "assert (M_test_reduced.shape[0] == 10), \"M_reduced has {} rows; should have {}\".format(M_test_reduced.shape[0], 10)\n",
        "assert (M_test_reduced.shape[1] == 2), \"M_reduced has {} columns; should have {}\".format(M_test_reduced.shape[1], 2)\n",
        "\n",
        "# Print Success\n",
        "print (\"-\" * 80)\n",
        "print(\"Passed All Tests!\")\n",
        "print (\"-\" * 80)"
      ]
    },
    {
      "cell_type": "markdown",
      "metadata": {
        "id": "8iTgMaquRQKB"
      },
      "source": [
        "### Question 2.4: Implement plot_embeddings [code] (1 point)"
      ]
    },
    {
      "cell_type": "markdown",
      "metadata": {
        "id": "H629WACPRTg2"
      },
      "source": [
        "Here you will write a function to plot a set of 2D vectors in 2D space. For graphs, we will use Matplotlib (plt).\n",
        "\n",
        "For this example, you may find it useful to adapt this code. In the future, a good way to make a plot is to look at the Matplotlib gallery, find a plot that looks somewhat like what you want, and adapt the code they give."
      ]
    },
    {
      "cell_type": "code",
      "execution_count": 67,
      "metadata": {
        "id": "lMfaxKfERT1P"
      },
      "outputs": [],
      "source": [
        "def plot_embeddings(M_reduced, word2ind, words):\n",
        "    \"\"\" Plot in a scatterplot the embeddings of the words specified in the list \"words\".\n",
        "        NOTE: do not plot all the words listed in M_reduced / word2ind.\n",
        "        Include a label next to each point.\n",
        "        \n",
        "        Params:\n",
        "            M_reduced (numpy matrix of shape (number of unique words in the corpus , 2)): matrix of 2-dimensioal word embeddings\n",
        "            word2ind (dict): dictionary that maps word to indices for matrix M\n",
        "            words (list of strings): words whose embeddings we want to visualize\n",
        "    \"\"\"\n",
        "\n",
        "    # ------------------\n",
        "    # Write your implementation here.\n",
        "    x = M_reduced[:, 0]\n",
        "    y = M_reduced[:, 1]\n",
        "    plt.scatter(x, y)\n",
        "    for word in words:\n",
        "        idx = word2ind[word]\n",
        "        plt.annotate(word, (x[idx], y[idx]))\n",
        "    plt.show()\n",
        "    # ------------------"
      ]
    },
    {
      "cell_type": "code",
      "execution_count": 68,
      "metadata": {
        "colab": {
          "base_uri": "https://localhost:8080/",
          "height": 374
        },
        "id": "bJ5sOXmXRYOa",
        "outputId": "45c0b612-93c7-4a3b-ce3b-7f241ae3bdff"
      },
      "outputs": [
        {
          "output_type": "stream",
          "name": "stdout",
          "text": [
            "--------------------------------------------------------------------------------\n",
            "Outputted Plot:\n"
          ]
        },
        {
          "output_type": "display_data",
          "data": {
            "text/plain": [
              "<Figure size 720x360 with 1 Axes>"
            ],
            "image/png": "[encoded data removed]"
          },
          "metadata": {
            "needs_background": "light"
          }
        },
        {
          "output_type": "stream",
          "name": "stdout",
          "text": [
            "--------------------------------------------------------------------------------\n"
          ]
        }
      ],
      "source": [
        "# ---------------------\n",
        "# Run this sanity check\n",
        "# Note that this is not an exhaustive check for correctness.\n",
        "# The plot produced should look like the \"test solution plot\" depicted below. \n",
        "# ---------------------\n",
        "\n",
        "print (\"-\" * 80)\n",
        "print (\"Outputted Plot:\")\n",
        "\n",
        "M_reduced_plot_test = np.array([[1, 1], [-1, -1], [1, -1], [-1, 1], [0, 0]])\n",
        "word2ind_plot_test = {'test1': 0, 'test2': 1, 'test3': 2, 'test4': 3, 'test5': 4}\n",
        "words = ['test1', 'test2', 'test3', 'test4', 'test5']\n",
        "plot_embeddings(M_reduced_plot_test, word2ind_plot_test, words)\n",
        "\n",
        "print (\"-\" * 80)"
      ]
    },
    {
      "cell_type": "markdown",
      "metadata": {
        "id": "wRb0HnWqVCDL"
      },
      "source": [
        "### Question 2.5: Co-Occurrence Plot Analysis [written] (3 points)"
      ]
    },
    {
      "cell_type": "markdown",
      "metadata": {
        "id": "wkfAWdLFVFx-"
      },
      "source": [
        "Now we will put together all the parts you have written! We will compute the co-occurrence matrix with fixed window of 4 (the default window size), over the Reuters \"crude\" (oil) corpus. Then we will use TruncatedSVD to compute 2-dimensional embeddings of each word. TruncatedSVD returns U*S, so we need to normalize the returned vectors, so that all the vectors will appear around the unit circle (therefore closeness is directional closeness). Note: The line of code below that does the normalizing uses the NumPy concept of broadcasting. If you don't know about broadcasting, check out Computation on Arrays: Broadcasting by Jake VanderPlas.\n",
        "\n",
        "Run the below cell to produce the plot. It'll probably take a few seconds to run. What clusters together in 2-dimensional embedding space? What doesn't cluster together that you might think should have? Note: \"bpd\" stands for \"barrels per day\" and is a commonly used abbreviation in crude oil topic articles."
      ]
    },
    {
      "cell_type": "code",
      "execution_count": 69,
      "metadata": {
        "id": "R3d0UK2iVFDM",
        "colab": {
          "base_uri": "https://localhost:8080/",
          "height": 356
        },
        "outputId": "68326029-8949-433f-c828-6c7c38f6f7aa"
      },
      "outputs": [
        {
          "output_type": "stream",
          "name": "stdout",
          "text": [
            "Running Truncated SVD over 8185 words...\n",
            "Done.\n"
          ]
        },
        {
          "output_type": "display_data",
          "data": {
            "text/plain": [
              "<Figure size 720x360 with 1 Axes>"
            ],
            "image/png": "[encoded data removed]"
          },
          "metadata": {
            "needs_background": "light"
          }
        }
      ],
      "source": [
        "# -----------------------------\n",
        "# Run This Cell to Produce Your Plot\n",
        "# ------------------------------\n",
        "reuters_corpus = read_corpus()\n",
        "M_co_occurrence, word2ind_co_occurrence = compute_co_occurrence_matrix(reuters_corpus)\n",
        "M_reduced_co_occurrence = reduce_to_k_dim(M_co_occurrence, k=2)\n",
        "\n",
        "# Rescale (normalize) the rows to make them each of unit-length\n",
        "M_lengths = np.linalg.norm(M_reduced_co_occurrence, axis=1)\n",
        "M_normalized = M_reduced_co_occurrence / M_lengths[:, np.newaxis] # broadcasting\n",
        "\n",
        "words = ['barrels', 'bpd', 'ecuador', 'energy', 'industry', 'kuwait', 'oil', 'output', 'petroleum', 'iraq']\n",
        "\n",
        "plot_embeddings(M_normalized, word2ind_co_occurrence, words)"
      ]
    },
    {
      "cell_type": "markdown",
      "metadata": {
        "id": "hQg7l284V0oa"
      },
      "source": [
        "# Part 3. Prediction-based word vectors (15 points)"
      ]
    },
    {
      "cell_type": "markdown",
      "metadata": {
        "id": "vSNq-K6UzzDP"
      },
      "source": [
        "As discussed in class, more recently prediction-based word vectors have demonstrated better performance, such as word2vec and GloVe (which also utilizes the benefit of counts). If you're feeling adventurous, challenge yourself and try reading GloVe's original paper.\n",
        "\n",
        "Then run the following cells to load the GloVe vectors into memory. Note: If this is your first time to run these cells, i.e. download the embedding model, it will take a couple minutes to run. If you've run these cells before, rerunning them will load the model without redownloading it, which will take about 1 to 2 minutes."
      ]
    },
    {
      "cell_type": "code",
      "execution_count": 70,
      "metadata": {
        "id": "kqq7A2IWz011"
      },
      "outputs": [],
      "source": [
        "def load_embedding_model():\n",
        "    \"\"\" Load GloVe Vectors\n",
        "        Return:\n",
        "            wv_from_bin: All 400000 embeddings, each lengh 200\n",
        "    \"\"\"\n",
        "    import gensim.downloader as api\n",
        "    wv_from_bin = api.load(\"glove-wiki-gigaword-200\")\n",
        "    print(\"Loaded vocab size %i\" % len(wv_from_bin.vocab.keys()))\n",
        "    return wv_from_bin"
      ]
    },
    {
      "cell_type": "code",
      "execution_count": 71,
      "metadata": {
        "colab": {
          "base_uri": "https://localhost:8080/"
        },
        "id": "cYbJ59Jiz7OA",
        "outputId": "e5c86650-b431-42ce-ca1a-e4283813bbee"
      },
      "outputs": [
        {
          "output_type": "stream",
          "name": "stdout",
          "text": [
            "[==================================================] 100.0% 252.1/252.1MB downloaded\n",
            "Loaded vocab size 400000\n"
          ]
        }
      ],
      "source": [
        "# -----------------------------------\n",
        "# Run Cell to Load Word Vectors\n",
        "# Note: This will take a couple minutes\n",
        "# -----------------------------------\n",
        "wv_from_bin = load_embedding_model()"
      ]
    },
    {
      "cell_type": "markdown",
      "metadata": {
        "id": "edzctdyh0rDm"
      },
      "source": [
        "#### Note: If you are receiving a \"reset by peer\" error, rerun the cell to restart the download."
      ]
    },
    {
      "cell_type": "markdown",
      "metadata": {
        "id": "qbGSRVPxjaT_"
      },
      "source": [
        "## Reducing dimensionality of Word Embeddings"
      ]
    },
    {
      "cell_type": "markdown",
      "metadata": {
        "id": "PXr1zGXSjddn"
      },
      "source": [
        "Let's directly compare the GloVe embeddings to those of the co-occurrence matrix. In order to avoid running out of memory, we will work with a sample of 10000 GloVe vectors instead. Run the following cells to:\n",
        "\n",
        "Put 10000 Glove vectors into a matrix M\n",
        "Run reduce_to_k_dim (your Truncated SVD function) to reduce the vectors from 200-dimensional to 2-dimensional."
      ]
    },
    {
      "cell_type": "code",
      "execution_count": 73,
      "metadata": {
        "id": "x_xj1ApzjfOr"
      },
      "outputs": [],
      "source": [
        "def get_matrix_of_vectors(wv_from_bin, required_words=['barrels', 'bpd', 'ecuador', 'energy', 'industry', 'kuwait', 'oil', 'output', 'petroleum', 'iraq']):\n",
        "    \"\"\" Put the GloVe vectors into a matrix M.\n",
        "        Param:\n",
        "            wv_from_bin: KeyedVectors object; the 400000 GloVe vectors loaded from file\n",
        "        Return:\n",
        "            M: numpy matrix shape (num words, 200) containing the vectors\n",
        "            word2ind: dictionary mapping each word to its row number in M\n",
        "    \"\"\"\n",
        "    import random\n",
        "    words = list(wv_from_bin.vocab.keys())\n",
        "    print(\"Shuffling words ...\")\n",
        "    random.seed(224)\n",
        "    random.shuffle(words)\n",
        "    words = words[:10000]\n",
        "    print(\"Putting %i words into word2ind and matrix M...\" % len(words))\n",
        "    word2ind = {}\n",
        "    M = []\n",
        "    curInd = 0\n",
        "    for w in words:\n",
        "        try:\n",
        "            M.append(wv_from_bin.word_vec(w))\n",
        "            word2ind[w] = curInd\n",
        "            curInd += 1\n",
        "        except KeyError:\n",
        "            continue\n",
        "    for w in required_words:\n",
        "        if w in words:\n",
        "            continue\n",
        "        try:\n",
        "            M.append(wv_from_bin.word_vec(w))\n",
        "            word2ind[w] = curInd\n",
        "            curInd += 1\n",
        "        except KeyError:\n",
        "            continue\n",
        "    M = np.stack(M)\n",
        "    print(\"Done.\")\n",
        "    return M, word2ind"
      ]
    },
    {
      "cell_type": "code",
      "execution_count": 74,
      "metadata": {
        "id": "fHVTZLiBjhN5",
        "colab": {
          "base_uri": "https://localhost:8080/"
        },
        "outputId": "6ef2c14a-79ae-4709-bc66-c697409881c9"
      },
      "outputs": [
        {
          "output_type": "stream",
          "name": "stdout",
          "text": [
            "Shuffling words ...\n",
            "Putting 10000 words into word2ind and matrix M...\n",
            "Done.\n",
            "Running Truncated SVD over 10010 words...\n",
            "Done.\n"
          ]
        }
      ],
      "source": [
        "# -----------------------------------------------------------------\n",
        "# Run Cell to Reduce 200-Dimensional Word Embeddings to k Dimensions\n",
        "# Note: This should be quick to run\n",
        "# -----------------------------------------------------------------\n",
        "M, word2ind = get_matrix_of_vectors(wv_from_bin)\n",
        "M_reduced = reduce_to_k_dim(M, k=2)\n",
        "\n",
        "# Rescale (normalize) the rows to make them each of unit-length\n",
        "M_lengths = np.linalg.norm(M_reduced, axis=1)\n",
        "M_reduced_normalized = M_reduced / M_lengths[:, np.newaxis] # broadcasting"
      ]
    },
    {
      "cell_type": "markdown",
      "metadata": {
        "id": "cdoZKWxijmHk"
      },
      "source": [
        "### Question 3.1: GloVe Plot Analysis [written] (3 points)"
      ]
    },
    {
      "cell_type": "markdown",
      "metadata": {
        "id": "eyDIugqjjo3R"
      },
      "source": [
        "Run the cell below to plot the 2D GloVe embeddings for ['barrels', 'bpd', 'ecuador', 'energy', 'industry', 'kuwait', 'oil', 'output', 'petroleum', 'iraq'].\n",
        "\n",
        "What clusters together in 2-dimensional embedding space? What doesn't cluster together that you think should have? How is the plot different from the one generated earlier from the co-occurrence matrix? What is a possible cause for the difference?"
      ]
    },
    {
      "cell_type": "code",
      "execution_count": 75,
      "metadata": {
        "id": "KK438bCgjm98",
        "colab": {
          "base_uri": "https://localhost:8080/",
          "height": 320
        },
        "outputId": "bc496412-8238-4317-a5af-0284c8636deb"
      },
      "outputs": [
        {
          "output_type": "display_data",
          "data": {
            "text/plain": [
              "<Figure size 720x360 with 1 Axes>"
            ],
            "image/png": "[encoded data removed]"
          },
          "metadata": {
            "needs_background": "light"
          }
        }
      ],
      "source": [
        "words = ['barrels', 'bpd', 'ecuador', 'energy', 'industry', 'kuwait', 'oil', 'output', 'petroleum', 'iraq']\n",
        "plot_embeddings(M_reduced_normalized, word2ind, words)"
      ]
    },
    {
      "cell_type": "markdown",
      "metadata": {
        "id": "39cCl0DQjuJN"
      },
      "source": [
        "Write your answer here."
      ]
    },
    {
      "cell_type": "markdown",
      "metadata": {
        "id": "toHZ2o-Ljwwm"
      },
      "source": [
        "## Cosine Similarity"
      ]
    },
    {
      "cell_type": "markdown",
      "metadata": {
        "id": "zBZbtLYzj1R_"
      },
      "source": [
        "Now that we have word vectors, we need a way to quantify the similarity between individual words, according to these vectors. One such metric is cosine-similarity. We will be using this to find words that are \"close\" and \"far\" from one another.\n",
        "\n",
        "We can think of n-dimensional vectors as points in n-dimensional space. If we take this perspective L1 and L2 Distances help quantify the amount of space \"we must travel\" to get between these two points. Another approach is to examine the angle between two vectors. From trigonometry we know that:"
      ]
    },
    {
      "cell_type": "markdown",
      "metadata": {
        "id": "mLE4DOTNj69N"
      },
      "source": [
        "### Question 3.2: Words with Multiple Meanings (1.5 points) [code + written]"
      ]
    },
    {
      "cell_type": "markdown",
      "metadata": {
        "id": "C0LT0bH4kolN"
      },
      "source": [
        "Polysemes and homonyms are words that have more than one meaning (see this wiki page to learn more about the difference between polysemes and homonyms ). Find a word with at least two different meanings such that the top-10 most similar words (according to cosine similarity) contain related words from both meanings. For example, \"leaves\" has both \"go_away\" and \"a_structure_of_a_plant\" meaning in the top 10, and \"scoop\" has both \"handed_waffle_cone\" and \"lowdown\". You will probably need to try several polysemous or homonymic words before you find one.\n",
        "\n",
        "Please state the word you discover and the multiple meanings that occur in the top 10. Why do you think many of the polysemous or homonymic words you tried didn't work (i.e. the top-10 most similar words only contain one of the meanings of the words)?\n",
        "\n",
        "Note: You should use the wv_from_bin.most_similar(word) function to get the top 10 similar words. This function ranks all other words in the vocabulary with respect to their cosine similarity to the given word. For further assistance, please check the GenSim documentation."
      ]
    },
    {
      "cell_type": "code",
      "execution_count": 85,
      "metadata": {
        "id": "JgoE4V3rj76o",
        "colab": {
          "base_uri": "https://localhost:8080/"
        },
        "outputId": "d104f605-648e-445c-f253-27e833005bc4"
      },
      "outputs": [
        {
          "output_type": "execute_result",
          "data": {
            "text/plain": [
              "[('leaving', 0.8048900961875916),\n",
              " ('right', 0.716508150100708),\n",
              " ('back', 0.7087967991828918),\n",
              " ('went', 0.6952050924301147),\n",
              " ('out', 0.6867293119430542),\n",
              " ('leave', 0.6815778017044067),\n",
              " ('when', 0.677730917930603),\n",
              " ('returned', 0.6693609952926636),\n",
              " ('came', 0.6677365899085999),\n",
              " ('but', 0.662541389465332)]"
            ]
          },
          "metadata": {},
          "execution_count": 85
        }
      ],
      "source": [
        "# ------------------\n",
        "# Write your implementation here.\n",
        "wv_from_bin.most_similar(\"left\")\n",
        "# ------------------"
      ]
    },
    {
      "cell_type": "markdown",
      "metadata": {
        "id": "Z90e-p_jktYD"
      },
      "source": [
        "Write your answer here."
      ]
    },
    {
      "cell_type": "markdown",
      "metadata": {
        "id": "wBt1A0Y8kyqx"
      },
      "source": [
        "### Question 3.3: Synonyms & Antonyms (2 points) [code + written]"
      ]
    },
    {
      "cell_type": "markdown",
      "metadata": {
        "id": "D2gWr_Cvk3Tu"
      },
      "source": [
        "When considering Cosine Similarity, it's often more convenient to think of Cosine Distance, which is simply 1 - Cosine Similarity.\n",
        "\n",
        "Find three words  (w1,w2,w3)  where  w1  and  w2  are synonyms and  w1  and  w3  are antonyms, but Cosine Distance  (w1,w3)<  Cosine Distance  (w1,w2) .\n",
        "\n",
        "As an example,  w1 =\"happy\" is closer to  w3 =\"sad\" than to  w2 =\"cheerful\". Please find a different example that satisfies the above. Once you have found your example, please give a possible explanation for why this counter-intuitive result may have happened.\n",
        "\n",
        "You should use the the wv_from_bin.distance(w1, w2) function here in order to compute the cosine distance between two words. Please see the GenSim documentation for further assistance."
      ]
    },
    {
      "cell_type": "code",
      "execution_count": 88,
      "metadata": {
        "id": "CRwHp4noktJF",
        "colab": {
          "base_uri": "https://localhost:8080/"
        },
        "outputId": "27d2dce9-ee8e-4863-bb7b-53d7cf49b3e7"
      },
      "outputs": [
        {
          "output_type": "stream",
          "name": "stdout",
          "text": [
            "Cosine distance between 'hot' and 'boiling' = 0.493536\n",
            "Cosine distance between 'hot' and 'cold' = 0.406219\n"
          ]
        }
      ],
      "source": [
        "# ------------------\n",
        "# Write your implementation here.\n",
        "w1 = \"hot\"\n",
        "w2 = \"boiling\"\n",
        "w3 = \"cold\"\n",
        "\n",
        "\n",
        "cos_sim = wv_from_bin.distance(w1, w2)\n",
        "print(\"Cosine distance between '%s' and '%s' = %f\" % (w1, w2, cos_sim))\n",
        "\n",
        "cos_sim = wv_from_bin.distance(w1, w3)\n",
        "print(\"Cosine distance between '%s' and '%s' = %f\" % (w1, w3, cos_sim))\n",
        "\n",
        "# ------------------"
      ]
    },
    {
      "cell_type": "markdown",
      "metadata": {
        "id": "4AD2asvrk7Y7"
      },
      "source": [
        "Write your answer here."
      ]
    },
    {
      "cell_type": "markdown",
      "metadata": {
        "id": "B0uNtlXZlAdy"
      },
      "source": [
        "### Question 3.4: Analogies with Word Vectors [written] (1.5 points)"
      ]
    },
    {
      "cell_type": "markdown",
      "metadata": {
        "id": "uqKCiSDhlEBf"
      },
      "source": [
        "Word vectors have been shown to sometimes exhibit the ability to solve analogies.\n",
        "\n",
        "As an example, for the analogy \"man : king :: woman : x\" (read: man is to king as woman is to x), what is x?\n",
        "\n",
        "In the cell below, we show you how to use word vectors to find x using the most_similar function from the GenSim documentation. The function finds words that are most similar to the words in the positive list and most dissimilar from the words in the negative list (while omitting the input words, which are often the most similar; see this paper). The answer to the analogy will have the highest cosine similarity (largest returned numerical value)."
      ]
    },
    {
      "cell_type": "code",
      "execution_count": 76,
      "metadata": {
        "id": "DHlsY4kolA6f",
        "colab": {
          "base_uri": "https://localhost:8080/"
        },
        "outputId": "d1be7cb0-c980-45ed-a860-9f9404558b70"
      },
      "outputs": [
        {
          "output_type": "stream",
          "name": "stdout",
          "text": [
            "[('queen', 0.6978678703308105),\n",
            " ('princess', 0.6081745028495789),\n",
            " ('monarch', 0.5889754891395569),\n",
            " ('throne', 0.5775108933448792),\n",
            " ('prince', 0.5750998854637146),\n",
            " ('elizabeth', 0.546359658241272),\n",
            " ('daughter', 0.5399125814437866),\n",
            " ('kingdom', 0.5318052768707275),\n",
            " ('mother', 0.5168544054031372),\n",
            " ('crown', 0.5164472460746765)]\n"
          ]
        }
      ],
      "source": [
        "# Run this cell to answer the analogy -- man : king :: woman : x\n",
        "pprint.pprint(wv_from_bin.most_similar(positive=['woman', 'king'], negative=['man']))"
      ]
    },
    {
      "cell_type": "markdown",
      "metadata": {
        "id": "nv1gqPl5nQ4H"
      },
      "source": [
        "Let  m ,  k ,  w , and  x  denote the word vectors for man, king, woman, and the answer, respectively. Using only vectors  m ,  k ,  w , and the vector arithmetic operators  +  and  −  in your answer, what is the expression in which we are maximizing cosine similarity with  x ?\n",
        "\n",
        "Hint: Recall that word vectors are simply multi-dimensional vectors that represent a word. It might help to draw out a 2D example using arbitrary locations of each vector. Where would man and woman lie in the coordinate plane relative to king and the answer?"
      ]
    },
    {
      "cell_type": "markdown",
      "metadata": {
        "id": "0zvj-YaOnTAY"
      },
      "source": [
        "Write your answer here."
      ]
    },
    {
      "cell_type": "markdown",
      "metadata": {
        "id": "aLyzhOOfnuql"
      },
      "source": [
        "### Question 3.5: Finding Analogies [code + written] (1.5 points)"
      ]
    },
    {
      "cell_type": "markdown",
      "metadata": {
        "id": "R5xFEsKVnzT0"
      },
      "source": [
        "Find an example of analogy that holds according to these vectors (i.e. the intended word is ranked top). In your solution please state the full analogy in the form x:y :: a:b. If you believe the analogy is complicated, explain why the analogy holds in one or two sentences.\n",
        "\n",
        "Note: You may have to try many analogies to find one that works!"
      ]
    },
    {
      "cell_type": "code",
      "execution_count": 94,
      "metadata": {
        "id": "zkrWfGGznRMH",
        "colab": {
          "base_uri": "https://localhost:8080/"
        },
        "outputId": "99b5b6d3-8a74-493a-acf4-72bbe1f613b0"
      },
      "outputs": [
        {
          "output_type": "stream",
          "name": "stdout",
          "text": [
            "[('red', 0.6134645938873291),\n",
            " ('pink', 0.5495004653930664),\n",
            " ('blue', 0.526612401008606),\n",
            " ('purple', 0.5073989629745483),\n",
            " ('bright', 0.4920310974121094),\n",
            " ('green', 0.45049354434013367),\n",
            " ('dark', 0.4447622299194336),\n",
            " ('orange', 0.4378970265388489),\n",
            " ('reddish', 0.43662285804748535),\n",
            " ('colored', 0.42322880029678345)]\n"
          ]
        }
      ],
      "source": [
        "# ------------------\n",
        "# Write your implementation here.\n",
        "\n",
        "# banana:yellow :: strawberry:red\n",
        "\n",
        "pprint.pprint(wv_from_bin.most_similar(positive=['strawberry', 'yellow'], negative=['banana']))\n",
        "# ------------------"
      ]
    },
    {
      "cell_type": "markdown",
      "metadata": {
        "id": "NygUqza7n8mn"
      },
      "source": [
        "Write your answer here."
      ]
    },
    {
      "cell_type": "markdown",
      "metadata": {
        "id": "QMbSmc52n-Ni"
      },
      "source": [
        "### Question 3.6: Incorrect Analogy [code + written] (1.5 points)"
      ]
    },
    {
      "cell_type": "markdown",
      "metadata": {
        "id": "rKhHs5uooAaD"
      },
      "source": [
        "Find an example of analogy that does not hold according to these vectors. In your solution, state the intended analogy in the form x:y :: a:b, and state the (incorrect) value of b according to the word vectors."
      ]
    },
    {
      "cell_type": "code",
      "execution_count": 95,
      "metadata": {
        "id": "ayAfn_MPnzrF",
        "colab": {
          "base_uri": "https://localhost:8080/"
        },
        "outputId": "68d644a2-5501-498f-8078-78204f5c01e6"
      },
      "outputs": [
        {
          "output_type": "stream",
          "name": "stdout",
          "text": [
            "[('handmade', 0.5114612579345703),\n",
            " ('shops', 0.4969492554664612),\n",
            " ('catalogs', 0.459977388381958),\n",
            " ('shop', 0.45556923747062683),\n",
            " ('restaurants', 0.4502986669540405),\n",
            " ('recipes', 0.4458943009376526),\n",
            " ('vendors', 0.44280576705932617),\n",
            " ('seller', 0.4425174593925476),\n",
            " ('groceries', 0.44083812832832336),\n",
            " ('selling', 0.4366971552371979)]\n"
          ]
        }
      ],
      "source": [
        "    # ------------------\n",
        "    # Write your implementation here.\n",
        "\n",
        "# librarian:books :: florist:flowers\n",
        "\n",
        "pprint.pprint(wv_from_bin.most_similar(positive=['florist', 'books'], negative=['librarian']))\n",
        "\n",
        "    # ------------------"
      ]
    },
    {
      "cell_type": "markdown",
      "metadata": {
        "id": "xsqq_EaXoDYl"
      },
      "source": [
        "Write your answer here."
      ]
    },
    {
      "cell_type": "markdown",
      "metadata": {
        "id": "1sBlWGAmoGCy"
      },
      "source": [
        "### Question 3.7: Guided Analysis of Bias in Word Vectors [written] (1 point)"
      ]
    },
    {
      "cell_type": "markdown",
      "metadata": {
        "id": "-_rVPQteoINq"
      },
      "source": [
        "It's important to be cognizant of the biases (gender, race, sexual orientation etc.) implicit in our word embeddings. Bias can be dangerous because it can reinforce stereotypes through applications that employ these models.\n",
        "\n",
        "Run the cell below, to examine (a) which terms are most similar to \"woman\" and \"worker\" and most dissimilar to \"man\", and (b) which terms are most similar to \"man\" and \"worker\" and most dissimilar to \"woman\". Point out the difference between the list of female-associated words and the list of male-associated words, and explain how it is reflecting gender bias."
      ]
    },
    {
      "cell_type": "code",
      "execution_count": 77,
      "metadata": {
        "id": "MDlvsts2oBsp",
        "colab": {
          "base_uri": "https://localhost:8080/"
        },
        "outputId": "54eada31-d2fc-4570-adc2-905165233e60"
      },
      "outputs": [
        {
          "output_type": "stream",
          "name": "stdout",
          "text": [
            "[('employee', 0.6375863552093506),\n",
            " ('workers', 0.6068919897079468),\n",
            " ('nurse', 0.5837947726249695),\n",
            " ('pregnant', 0.5363885164260864),\n",
            " ('mother', 0.5321309566497803),\n",
            " ('employer', 0.5127025842666626),\n",
            " ('teacher', 0.5099576711654663),\n",
            " ('child', 0.5096741914749146),\n",
            " ('homemaker', 0.5019454956054688),\n",
            " ('nurses', 0.4970572590827942)]\n",
            "\n",
            "[('workers', 0.6113258004188538),\n",
            " ('employee', 0.5983108282089233),\n",
            " ('working', 0.5615328550338745),\n",
            " ('laborer', 0.5442320108413696),\n",
            " ('unemployed', 0.5368517637252808),\n",
            " ('job', 0.5278826951980591),\n",
            " ('work', 0.5223963260650635),\n",
            " ('mechanic', 0.5088937282562256),\n",
            " ('worked', 0.505452036857605),\n",
            " ('factory', 0.4940453767776489)]\n"
          ]
        }
      ],
      "source": [
        "# Run this cell\n",
        "# Here `positive` indicates the list of words to be similar to and `negative` indicates the list of words to be\n",
        "# most dissimilar from.\n",
        "pprint.pprint(wv_from_bin.most_similar(positive=['woman', 'worker'], negative=['man']))\n",
        "print()\n",
        "pprint.pprint(wv_from_bin.most_similar(positive=['man', 'worker'], negative=['woman']))"
      ]
    },
    {
      "cell_type": "markdown",
      "metadata": {
        "id": "1BtOxfydoLZb"
      },
      "source": [
        "Write your answer here.¶"
      ]
    },
    {
      "cell_type": "markdown",
      "metadata": {
        "id": "EMsfYJyxoNWT"
      },
      "source": [
        "###  Question 3.8: Independent Analysis of Bias in Word Vectors [code + written] (1 point)"
      ]
    },
    {
      "cell_type": "markdown",
      "metadata": {
        "id": "h42ajQDcodeV"
      },
      "source": [
        "Use the most_similar function to find another case where some bias is exhibited by the vectors. Please briefly explain the example of bias that you discover."
      ]
    },
    {
      "cell_type": "code",
      "execution_count": 96,
      "metadata": {
        "id": "N9d5cbx3oJsf",
        "colab": {
          "base_uri": "https://localhost:8080/"
        },
        "outputId": "eab637af-419d-4766-8a53-35051f1c0f6c"
      },
      "outputs": [
        {
          "output_type": "stream",
          "name": "stdout",
          "text": [
            "[('nurses', 0.6442356705665588),\n",
            " ('pregnant', 0.6110885143280029),\n",
            " ('midwife', 0.591461181640625),\n",
            " ('mother', 0.5634386539459229),\n",
            " ('nursing', 0.5633082389831543),\n",
            " ('therapist', 0.554648220539093),\n",
            " ('anesthetists', 0.5426579713821411),\n",
            " ('anesthetist', 0.5350443720817566),\n",
            " ('pediatrician', 0.5249918699264526),\n",
            " ('dentist', 0.5185097455978394)]\n",
            "\n",
            "[('doctor', 0.5821741819381714),\n",
            " ('nurses', 0.5169836282730103),\n",
            " ('hospital', 0.5130800008773804),\n",
            " ('paramedic', 0.49569934606552124),\n",
            " ('physician', 0.4860960841178894),\n",
            " ('training', 0.4692404866218567),\n",
            " ('sergeant', 0.4691638648509979),\n",
            " ('care', 0.46671396493911743),\n",
            " ('trained', 0.4663393199443817),\n",
            " ('anesthetist', 0.4631572365760803)]\n"
          ]
        }
      ],
      "source": [
        "    # ------------------\n",
        "    # Write your implementation here.\n",
        "pprint.pprint(wv_from_bin.most_similar(positive=['woman', 'nurse'], negative=['man']))\n",
        "print()\n",
        "pprint.pprint(wv_from_bin.most_similar(positive=['man', 'nurse'], negative=['woman']))\n",
        "\n",
        "    # ------------------"
      ]
    },
    {
      "cell_type": "markdown",
      "metadata": {
        "id": "JDBxYCeEolk5"
      },
      "source": [
        "Write your answer here."
      ]
    },
    {
      "cell_type": "markdown",
      "metadata": {
        "id": "oNaetQ4donRi"
      },
      "source": [
        "### Question 3.9: Thinking About Bias [written] (2 points)"
      ]
    },
    {
      "cell_type": "markdown",
      "metadata": {
        "id": "1mktU3tdqtzp"
      },
      "source": [
        "Give one explanation of how bias gets into the word vectors. What is an experiment that you could do to test for or to measure this source of bias?\n",
        "\n",
        "Write your answer here."
      ]
    },
    {
      "cell_type": "markdown",
      "metadata": {
        "id": "hrXQ2d7OsmLl"
      },
      "source": [
        "# Part 4. Prediction-based sentence vectors (13 points)"
      ]
    },
    {
      "cell_type": "markdown",
      "metadata": {
        "id": "rOP9j0mV2rvU"
      },
      "source": [
        "Sentence embeddings are a more powerful representation than word embeddings. They allow you to have out-of-the-box sentence representation of sequences of tokens which is closer to what you would have in reality."
      ]
    },
    {
      "cell_type": "markdown",
      "metadata": {
        "id": "xQ3pVRQ8wE4P"
      },
      "source": [
        "### Question 4.1: How would you represent a sentence with Glove? What are the limits of your proposed implementation? [written] (3 points)"
      ]
    },
    {
      "cell_type": "markdown",
      "metadata": {
        "id": "T1w30iYj0YJn"
      },
      "source": [
        "Write your answer here."
      ]
    },
    {
      "cell_type": "markdown",
      "metadata": {
        "id": "b2n3vp8g3AEe"
      },
      "source": [
        "### Installation"
      ]
    },
    {
      "cell_type": "code",
      "execution_count": 78,
      "metadata": {
        "id": "s9F_tbMr3CZT"
      },
      "outputs": [],
      "source": [
        "%%capture\n",
        "!pip install -U sentence-transformers"
      ]
    },
    {
      "cell_type": "code",
      "execution_count": 79,
      "metadata": {
        "id": "nBTJnO606Tpc"
      },
      "outputs": [],
      "source": [
        "from sklearn.cluster import KMeans\n",
        "from sklearn.cluster import AgglomerativeClustering\n",
        "import numpy as np "
      ]
    },
    {
      "cell_type": "code",
      "execution_count": 80,
      "metadata": {
        "id": "NnidR9Gg2697"
      },
      "outputs": [],
      "source": [
        "def load_embedding_model():\n",
        "    \"\"\" Load SentenceBERT Vectors\n",
        "        Return:\n",
        "            embedder: sentence embedder \n",
        "    \"\"\"\n",
        "    from sentence_transformers import SentenceTransformer\n",
        "    \n",
        "    embedder = SentenceTransformer('all-MiniLM-L6-v2')\n",
        "    return embedder"
      ]
    },
    {
      "cell_type": "code",
      "execution_count": 81,
      "metadata": {
        "id": "1qzL9oBS4Zoc"
      },
      "outputs": [],
      "source": [
        "%%capture\n",
        "embedder = load_embedding_model()"
      ]
    },
    {
      "cell_type": "markdown",
      "metadata": {
        "id": "oKkFzRHe6bEm"
      },
      "source": [
        "Inspired by the above, choose the appropriate way to plot the below clusters. Do they make sense to you? What would you improve to get a meaningful plot?"
      ]
    },
    {
      "cell_type": "markdown",
      "metadata": {
        "id": "A-o3T8Wz-Feb"
      },
      "source": [
        "### Question 4.2. Evaluate clustering quality of SentenceBERT. What makes it good at clustering sentences? Which method of the two below would you go for? [written] (3 points)"
      ]
    },
    {
      "cell_type": "code",
      "execution_count": 82,
      "metadata": {
        "colab": {
          "base_uri": "https://localhost:8080/"
        },
        "id": "ZqHOmWtqyNo3",
        "outputId": "40b66a2f-ed23-47e0-83a1-92c1a8cda413"
      },
      "outputs": [
        {
          "output_type": "stream",
          "name": "stdout",
          "text": [
            "Cluster  1\n",
            "['The girl is carrying a baby.', 'The baby is carried by the woman']\n",
            "\n",
            "Cluster  2\n",
            "['A man is riding a horse.', 'A man is riding a white horse on an enclosed ground.']\n",
            "\n",
            "Cluster  3\n",
            "['A cheetah is running behind its prey.', 'A cheetah chases prey on across a field.']\n",
            "\n",
            "Cluster  4\n",
            "['A man is eating food.', 'A man is eating a piece of bread.', 'A man is eating pasta.']\n",
            "\n",
            "Cluster  5\n",
            "['A monkey is playing drums.', 'Someone in a gorilla costume is playing a set of drums.']\n",
            "\n"
          ]
        }
      ],
      "source": [
        "# Corpus with example sentences\n",
        "corpus = ['A man is eating food.',\n",
        "          'A man is eating a piece of bread.',\n",
        "          'A man is eating pasta.',\n",
        "          'The girl is carrying a baby.',\n",
        "          'The baby is carried by the woman',\n",
        "          'A man is riding a horse.',\n",
        "          'A man is riding a white horse on an enclosed ground.',\n",
        "          'A monkey is playing drums.',\n",
        "          'Someone in a gorilla costume is playing a set of drums.',\n",
        "          'A cheetah is running behind its prey.',\n",
        "          'A cheetah chases prey on across a field.'\n",
        "          ]\n",
        "corpus_embeddings = embedder.encode(corpus)\n",
        "\n",
        "# Perform kmean clustering\n",
        "num_clusters = 5\n",
        "clustering_model = KMeans(n_clusters=num_clusters)\n",
        "clustering_model.fit(corpus_embeddings)\n",
        "cluster_assignment = clustering_model.labels_\n",
        "\n",
        "clustered_sentences = [[] for i in range(num_clusters)]\n",
        "for sentence_id, cluster_id in enumerate(cluster_assignment):\n",
        "    clustered_sentences[cluster_id].append(corpus[sentence_id])\n",
        "\n",
        "for i, cluster in enumerate(clustered_sentences):\n",
        "    print(\"Cluster \", i+1)\n",
        "    print(cluster)\n",
        "    print(\"\")"
      ]
    },
    {
      "cell_type": "code",
      "execution_count": 83,
      "metadata": {
        "colab": {
          "base_uri": "https://localhost:8080/"
        },
        "id": "h4wF5uTy50Nt",
        "outputId": "077e696b-b014-407f-ef62-21af3b0819f8"
      },
      "outputs": [
        {
          "output_type": "stream",
          "name": "stdout",
          "text": [
            "Cluster  1\n",
            "['A man is eating food.', 'A man is eating a piece of bread.', 'A man is eating pasta.']\n",
            "\n",
            "Cluster  5\n",
            "['The girl is carrying a baby.', 'The baby is carried by the woman']\n",
            "\n",
            "Cluster  2\n",
            "['A man is riding a horse.', 'A man is riding a white horse on an enclosed ground.']\n",
            "\n",
            "Cluster  3\n",
            "['A monkey is playing drums.', 'Someone in a gorilla costume is playing a set of drums.']\n",
            "\n",
            "Cluster  4\n",
            "['A cheetah is running behind its prey.', 'A cheetah chases prey on across a field.']\n",
            "\n"
          ]
        }
      ],
      "source": [
        "# Corpus with example sentences\n",
        "corpus = ['A man is eating food.',\n",
        "          'A man is eating a piece of bread.',\n",
        "          'A man is eating pasta.',\n",
        "          'The girl is carrying a baby.',\n",
        "          'The baby is carried by the woman',\n",
        "          'A man is riding a horse.',\n",
        "          'A man is riding a white horse on an enclosed ground.',\n",
        "          'A monkey is playing drums.',\n",
        "          'Someone in a gorilla costume is playing a set of drums.',\n",
        "          'A cheetah is running behind its prey.',\n",
        "          'A cheetah chases prey on across a field.'\n",
        "          ]\n",
        "corpus_embeddings = embedder.encode(corpus)\n",
        "\n",
        "# Normalize the embeddings to unit length\n",
        "corpus_embeddings = corpus_embeddings /  np.linalg.norm(corpus_embeddings, axis=1, keepdims=True)\n",
        "\n",
        "# Perform kmean clustering\n",
        "clustering_model = AgglomerativeClustering(n_clusters=None, distance_threshold=1.5) #, affinity='cosine', linkage='average', distance_threshold=0.4)\n",
        "clustering_model.fit(corpus_embeddings)\n",
        "cluster_assignment = clustering_model.labels_\n",
        "\n",
        "clustered_sentences = {}\n",
        "for sentence_id, cluster_id in enumerate(cluster_assignment):\n",
        "    if cluster_id not in clustered_sentences:\n",
        "        clustered_sentences[cluster_id] = []\n",
        "\n",
        "    clustered_sentences[cluster_id].append(corpus[sentence_id])\n",
        "\n",
        "for i, cluster in clustered_sentences.items():\n",
        "    print(\"Cluster \", i+1)\n",
        "    print(cluster)\n",
        "    print(\"\")"
      ]
    },
    {
      "cell_type": "markdown",
      "metadata": {
        "id": "44mDLKmVyOUu"
      },
      "source": [
        "### Question 4.3: SentenceBERT Plot Analysis [written] (3 points)"
      ]
    },
    {
      "cell_type": "markdown",
      "metadata": {
        "id": "q_ykELvWt7ZX"
      },
      "source": [
        "Plot the above corpus with your favorite method in a 2-dimensional space. Comment on the output. "
      ]
    },
    {
      "cell_type": "markdown",
      "metadata": {
        "id": "cXqSyMyy-bm8"
      },
      "source": [
        "### Question 4.4: Independent Analysis of Bias in Word Vectors [code + written] (4 points) "
      ]
    },
    {
      "cell_type": "markdown",
      "metadata": {
        "id": "3ZynvZnq-nqk"
      },
      "source": [
        "Select a corpus of interest, or examples of interest and shed light on one source of bias from SentenceBERT."
      ]
    },
    {
      "cell_type": "code",
      "execution_count": 99,
      "metadata": {
        "id": "DQyOEVUWvEmI",
        "colab": {
          "base_uri": "https://localhost:8080/"
        },
        "outputId": "a12e8859-052e-48db-acb8-90586ed6d99a"
      },
      "outputs": [
        {
          "output_type": "stream",
          "name": "stderr",
          "text": [
            "[nltk_data] Downloading package brown to /root/nltk_data...\n",
            "[nltk_data]   Package brown is already up-to-date!\n"
          ]
        },
        {
          "output_type": "stream",
          "name": "stdout",
          "text": [
            "[\"The Fulton County Grand Jury said Friday an investigation of Atlanta's recent primary election produced `` no evidence '' that any irregularities took place .\", \"The jury further said in term-end presentments that the City Executive Committee , which had over-all charge of the election , `` deserves the praise and thanks of the City of Atlanta '' for the manner in which the election was conducted .\"]\n",
            "Cluster  89\n",
            "[\"The Fulton County Grand Jury said Friday an investigation of Atlanta's recent primary election produced `` no evidence '' that any irregularities took place .\", \"The jury further said in term-end presentments that the City Executive Committee , which had over-all charge of the election , `` deserves the praise and thanks of the City of Atlanta '' for the manner in which the election was conducted .\", \"The September-October term jury had been charged by Fulton Superior Court Judge Durwood Pye to investigate reports of possible `` irregularities '' in the hard-fought primary which was won by Mayor-nominate Ivan Allen Jr. .\", \"The jury said it did find that many of Georgia's registration and election laws `` are outmoded or inadequate and often ambiguous '' .\", \"The grand jury commented on a number of other topics , among them the Atlanta and Fulton County purchasing departments which it said `` are well operated and follow generally accepted practices which inure to the best interest of both governments '' .\", \"Implementation of Georgia's automobile title law was also recommended by the outgoing jury .\", \"The grand jury took a swipe at the State Welfare Department's handling of federal funds granted for child welfare services in foster homes .\", \"The jury also commented on the Fulton ordinary's court which has been under fire for its practices in the appointment of appraisers , guardians and administrators and the awarding of fees and compensation .\", \"The jury said it found the court `` has incorporated into its operating procedures the recommendations '' of two previous grand juries , the Atlanta Bar Association and an interim citizens committee .\", 'On other matters , the jury recommended that : ( 1 )', \"The jury praised the administration and operation of the Atlanta Police Department , the Fulton Tax Commissioner's Office , the Bellwood and Alpharetta prison farms , Grady Hospital and the Fulton Health Department .\", 'Issue jury subpoenas']\n",
            "\n",
            "Cluster  56\n",
            "[\"`` Only a relative handful of such reports was received '' , the jury said , `` considering the widespread interest in the election , the number of voters and the size of this city '' .\", \"I didn't smell a drop of liquor , and we didn't have a bit of trouble '' .\", \"`` There wasn't a bit of trouble '' .\", \"A number of scattered `` ayes '' and `` noes '' was heard .\", \"`` It didn't come from me .\"]\n",
            "\n",
            "Cluster  35\n",
            "[\"It recommended that Fulton legislators act `` to have these laws studied and revised to the end of modernizing and improving them '' .\", \"It urged that the next Legislature `` provide enabling funds and re-set the effective date so that an orderly implementation of the law may be effected '' .\", \"Fulton legislators `` work with city officials to pass enabling legislation that will permit the establishment of a fair and equitable '' pension plan for city employes .\", 'The Georgia Legislature will wind up its 1961 session Monday and head for home -- where some of the highway bond money it approved will follow shortly .', 'Before adjournment Monday afternoon , the Senate is expected to approve a study of the number of legislators allotted to rural and urban areas to determine what adjustments should be made .', \"The bond issue will go to the state courts for a friendly test suit to test the validity of the act , and then the sales will begin and contracts let for repair work on some of Georgia's most heavily traveled highways .\"]\n",
            "\n",
            "Cluster  99\n",
            "['Merger proposed', 'Attorneys for the mayor said that an amicable property settlement has been agreed upon .', 'Managing Director Donald C. Wagner has agreed to cooperate fully with Hemphill after a period of sharp disagreement on the matter .', 'Business relations between the companies and city have been under investigation by Hemphill and District Attorney James C. Crumlish , Jr. .']\n",
            "\n",
            "Cluster  1\n",
            "[\"However , the jury said it believes `` these two offices should be combined to achieve greater efficiency and reduce the cost of administration '' .\", \"Regarding Atlanta's new multi-million-dollar airport , the jury recommended `` that when the new management takes charge Jan. 1 the airport be operated in a manner that will eliminate political influences '' .\", \"The jury did not elaborate , but it added that `` there should be periodic surveillance of the pricing practices of the concessionaires for the purpose of keeping the prices reasonable '' .\", 'Enforce by demand', \"The small shops `` must be retained , for they provide essential service to the community '' , according to the resolution , which added that they `` also are the source of livelihood for thousands of our neighbors '' .\", \"They `` operate on a volume basis '' , it was contended , `` and are not essential to provide the more limited but vital shopping needs of the community '' .\", \"Mr. Reama told the Rotary Club of Providence at its luncheon at the Sheraton-Biltmore Hotel that about half of the people in the country want the `` welfare '' type of government and the other half want a free enterprise system .\", \"He said he favors wage increases for workers -- `` but manufacturers are caught in a profit squeeze '' -- and raises should only come when the public is conditioned to higher prices , he added .\", 'Private business is more effective than government aid , he explained , because individuals are able to work with the people themselves .']\n",
            "\n",
            "Cluster  9\n",
            "[\"The City Purchasing Department , the jury said , `` is lacking in experienced clerical personnel as a result of city personnel policies '' .\", 'Decries joblessness', '`` I find it hard to understand how anyone seeking a position in public life could demonstrate such poor judgment and bad taste .', '-- A wave of public resentment against corruption in government is rising in Massachusetts .', \"Corruption is hardly a recent development in the city and state that were widely identified as the locale of Edwin O'Connor's novel , `` The Last Hurrah '' .\", 'A reader of the Boston newspapers can hardly escape the impression that petty chicanery , or worse , is the norm in Massachusetts public life .']\n",
            "\n",
            "Cluster  44\n",
            "[\"It urged that the city `` take steps to remedy '' this problem .\", \"`` Must solve problem ''\", \"`` We must solve the problems which have forced these people to depend upon ADC for subsistence '' , Martin said .\", 'Constant problem', 'Patience needed', 'Individual help best']\n",
            "\n",
            "Cluster  154\n",
            "[\"`` This is one of the major items in the Fulton County general assistance program '' , the jury said , but the State Welfare Department `` has seen fit to distribute these funds through the welfare departments of all the counties in the state with the exception of Fulton County , which receives none of this money .\", \"The jurors said they realize `` a proportionate distribution of these funds might disable this program in our less populous counties '' .\", \"Nevertheless , `` we feel that in the future Fulton County should receive some portion of these available funds '' , the jurors said .\", \"`` Failure to do this will continue to place a disproportionate burden '' on Fulton taxpayers .\"]\n",
            "\n",
            "Cluster  7\n",
            "['Wards protected', \"`` These actions should serve to protect in fact and in effect the court's wards from undue costs and its appointed and elected servants from unmeritorious criticisms '' , the jury said .\", 'The disclosure by Charles Bellows , chief defense counsel , startled observers and was viewed as the prelude to a quarrel between the six attorneys representing the eight former policemen now on trial .', 'Bellows made the disclosure when he asked Judge Parsons to grant his client , Alan Clements , 30 , a separate trial .', 'Bellows made the request while the all-woman jury was out of the courtroom .', \"`` The statements may be highly prejudicial to my client '' , Bellows told the court .\", \"`` Yes , your honor '' , replied Bellows .\"]\n",
            "\n",
            "Cluster  23\n",
            "['Ask jail deputies', \"Four additional deputies be employed at the Fulton County Jail and `` a doctor , medical intern or extern be employed for night and weekend duty at the jail '' .\", 'Instead , retailers would sign a certificate of correctness , violation of which would carry a penalty of one to five years in prison , plus a $1,000 fine .', 'The White House is taking extraordinary steps to check the rapid growth of juvenile delinquency in the United States .', \"In an important assertion of national leadership in this field , he has issued an executive order establishing the President's committee on Juvenile Delinquency and Crime , to be supported and assisted by a Citizens Advisory Council of recognized authorities on juvenile problems .\", 'Offenses multiply', 'His sense of urgency in this matter stems from the fact that court cases and juvenile arrests have more than doubled since 1948 , each year showing an increase in offenders .', 'Among arrests reported by the Federal Bureau of Investigation in 1959 , about half for burglary and larceny involved persons under 18 years of age .', 'At present all offenses must be taken to Sixth District Court for disposition .']\n",
            "\n",
            "Cluster  104\n",
            "['( 2 )', '2', '3', '4', ')']\n",
            "\n",
            "Cluster  45\n",
            "['Mayor William B. Hartsfield filed suit for divorce from his wife , Pearl Williams Hartsfield , in Fulton Superior Court Friday .', 'Hartsfield has been mayor of Atlanta , with exception of one brief interlude , since 1937 .', 'His political career goes back to his election to city council in 1923 .', \"The mayor's present term of office expires Jan. 1 .\", 'He will be succeeded by Ivan Allen Jr. , who became a candidate in the Sept. 13 primary after Mayor Hartsfield announced that he would not run for reelection .', 'Super again elected']\n",
            "\n",
            "Cluster  2\n",
            "['His petition charged mental cruelty .', 'He also complained that not enough notice was given on the hearing , since the bill was introduced only last Monday .', 'The West Texan reported that he had finally gotten Chairman Bill Hollowell of the committee to set it for public hearing on Feb. 22 .', 'Mayer Goldberg , attorney for election judges in the 58th precinct of the 23d ward , argued this procedure constituted intimidation .', 'The cases involved judges in the 33d , 24th , and 42d precincts of the 31st ward , the 21st and 28th precincts of the 29th ward , the 18th precinct of the 4th ward , and the 9th precinct of the 23d ward .', 'The case of the judges in the 58th precinct of the 23d ward had been heard previously and taken under advisement by Karns .', 'Testifies at hearing']\n",
            "\n",
            "Cluster  50\n",
            "['The couple was married Aug. 2 , 1913 .', \"It listed his wife's age as 74 and place of birth as Opelika , Ala. .\", 'The petition said that the couple has not lived together as man and wife for more than a year .', 'He is married to the former Audrey Knecht and has a daughter , Karol , 13 .', 'He is married and the father of three children .']\n",
            "\n",
            "Cluster  39\n",
            "['They have a son , William Berry Jr. , and a daughter , Mrs. J. M. Cheshire of Griffin .', 'It was one of a series of recommendations by the Texas Research League .', \"They are James J. Delaney of Queens and Thomas P. O'Neill Jr. of Massachusetts .\", 'R. Sargent Shriver Jr. , director of the corps , is certain that they can .', 'Division two will include the representations of Massachusetts and Texas , the respective states of the President and of Vice-President L. B. Johnson .', 'Travelers Indemnity Co. and the Continental Casualty Co. .', 'The corporation was formed by the Reynolds Metal Co. and the Samuel A. and Henry A. Berger firm , a Philadelphia builder , for work in the project .', 'Seeking this two-year term are James Culbertson , Dwight M. Steeves , James C. Piersee , W.M. Sexton and Theodore W. Heitschmidt .']\n",
            "\n",
            "Cluster  88\n",
            "[\"The petition listed the mayor's occupation as `` attorney '' and his age as 71 .\", \"Henry L. Bowden was listed on the petition as the mayor's attorney .\", 'Council president Frank SanAntonio said yesterday he may ask the council to formally request Town Solicitor Michael A. Abatuno to draft the ordinance .', \"Goodis voiced his objection before City Council's Finance Committee .\"]\n",
            "\n",
            "Cluster  83\n",
            "['The Hartsfield home is at 637 E. Pelham Rd. Aj .', 'They reside at 4911 Miles Dr. .', 'Also the department of justice building is located where J. Edgar Hoover presides over the federal bureau of investigation .', 'The tract is bounded by Island Ave. , Dicks Ave. , 61st St. , and Eastwick Ave. .']\n",
            "\n",
            "Cluster  152\n",
            "[\"Georgia Republicans are getting strong encouragement to enter a candidate in the 1962 governor's race , a top official said Wednesday .\", 'Robert Snodgrass , state GOP chairman , said a meeting held Tuesday night in Blue Ridge brought enthusiastic responses from the audience .', 'State Party Chairman James W. Dorsey added that enthusiasm was picking up for a state rally to be held Sept. 8 in Savannah at which newly elected Texas Sen. John Tower will be the featured speaker .', \"He promised nearly 200 Democratic county committee members at the meeting in the Puddingstone Inn : `` When I come back here after the November election you'll think , ' You're my man -- you're the kind of governor we're glad we elected ' '' .\"]\n",
            "\n",
            "Cluster  114\n",
            "['In the Blue Ridge meeting , the audience was warned that entering a candidate for governor would force it to take petitions out into voting precincts to obtain the signatures of registered voters .', 'Five per cent of the voters in each county must sign petitions requesting that the Republicans be allowed to place names of candidates on the general election ballot , or 2', 'A petition bearing the signatures of more than 1,700 Johnston taxpayers was presented to the town council last night as what is hoped will be the first step in obtaining a home rule charter for the town .', 'The law which governs home rule charter petitions states that they must be referred to the chairman of the board of canvassers for verification of the signatures within 10 days and Mr. Martinelli happens to hold that post .', 'Mr. Martinelli explained that there should be more than enough signatures to assure the scheduling of a vote on the home rule charter and possible election of a nine member charter commission within 70 days .', 'He explained that by law the council must establish procedures for a vote on the issue within 60 days after the board of canvassers completes its work .', 'Several signers affixed their names , it was learned , after being told that no tax increase would be possible without consent of the General Assembly and that a provision could be included in the charter to have the town take over the Johnston Sanitary District sewer system .', 'The petitions will be presented in open court to President Judge William F. Dannehower , Davenport said .']\n",
            "\n",
            "Cluster  142\n",
            "['Despite the warning , there was a unanimous vote to enter a candidate , according to Republicans who attended .', 'When the crowd was asked whether it wanted to wait one more term to make the race , it voted no -- and there were no dissents .', \"Davis received 1,119 votes in Saturday's election , and Bush got 402 .\", 'The campaign leading to the election was not so quiet , however .', 'It was defeated in Congress last year .', 'It does not take a Gallup poll to find out that most Republicans in Congress feel this understates the situation as Republicans see it .', 'And there has been no effort since the election to pull it back together .', 'Election came on the nominating ballot .']\n",
            "\n",
            "Cluster  32\n",
            "['The largest hurdle the Republicans would have to face is a state law which says that before making a first race , one of two alternative courses must be taken : 1', 'The Republicans must hold a primary under the county unit system -- a system which the party opposes in its platform .', 'He suggested that without the Socialist Party ever gaining a national victory , most of its original program has come to pass under both major parties .', \"But we'll have a liberal , well planned , forward looking , honest platform .\", \"`` We'll take the truth to the people , and the people will like the truth and elect their candidate and party in November '' .\", 'Some anti-organization Democrats saw in the program an opportunity to end the bitter internal fight within the Democratic party that has been going on for the last three years .', \"In the House , the Southern-Republican coalition is expected to make another major stand in opposition to the Administration's housing bill , while more jockeying is expected in an attempt to advance the aid-to-education bill .\", 'The housing bill is expected to encounter strong opposition by the coalition of Southern Democrats and conservative Republicans .']\n",
            "\n",
            "Cluster  52\n",
            "[\"Sam Caldwell , State Highway Department public relations director , resigned Tuesday to work for Lt. Gov. Garland Byrd's campaign .\", \"Caldwell's resignation had been expected for some time .\", 'He will be succeeded by Rob Ledford of Gainesville , who has been an assistant more than three years .', 'When the gubernatorial campaign starts , Caldwell is expected to become a campaign coordinator for Byrd .', 'Ierulli will replace Desmond D. Connall who has been called to active military service but is expected back on the job by March 31 .']\n",
            "\n",
            "Cluster  61\n",
            "['Gov. Vandiver is expected to make the traditional visit to both chambers as they work toward adjournment .', 'He expects that if the present timetable is followed a vote will be scheduled during the last week in September .', '-- Congress starts another week tomorrow with sharply contrasting forecasts for the two chambers .', 'The odds favor a special session , more than likely early in the year .', 'Legislators always get restless for a special session ( whether for the companionship or the $22.50 per diem is not certain ) and if they start agitating .', 'The election will be Dec. 4 from 8 a.m. to 8 p.m. .']\n",
            "\n",
            "Cluster  16\n",
            "['Vandiver likely will mention the $100 million highway bond issue approved earlier in the session as his first priority item .', 'Construction bonds', 'Meanwhile , it was learned the State Highway Department is very near being ready to issue the first $30 million worth of highway reconstruction bonds .', 'A Highway Department source said there also is a plan there to issue some $3 million to $4 million worth of Rural Roads Authority bonds for rural road construction work .', 'A revolving fund', 'The department apparently intends to make the Rural Roads Authority a revolving fund under which new bonds would be issued every time a portion of the old ones are paid off by tax authorities .', 'Vandiver opened his race for governor in 1958 with a battle in the Legislature against the issuance of $50 million worth of additional rural roads bonds proposed by then Gov. Marvin Griffin .', 'The Highway Department source told The Constitution , however , that Vandiver has not been consulted yet about the plans to issue the new rural roads bonds .', '`` Dallas and Fort Worth can vote bonds .', 'He said legislation for a $60 million bond issue to underwrite the program is expected to be introduced Monday .', 'A bond issue which would have provided some $3.5 million for construction of the two 900-student schools was defeated by district voters in January .', 'Board members indicated Monday night this would be done by an advisory poll to be taken on Nov. 15 , the same date as a $581,000 bond election for the construction of three new elementary schools .']\n",
            "\n",
            "Cluster  111\n",
            "[\"Schley County Rep. B. D. Pelham will offer a resolution Monday in the House to rescind the body's action of Friday in voting itself a $10 per day increase in expense allowances .\", \"Pelham said Sunday night there was research being done on whether the `` quickie '' vote on the increase can be repealed outright or whether notice would have to first be given that reconsideration of the action would be sought .\", 'While emphasizing that technical details were not fully worked out , Pelham said his resolution would seek to set aside the privilege resolution which the House voted through 87-31 .', 'The resolution , which Barber tossed into the House hopper Friday , will be formally read Monday .', 'The resolution urges the governor to have a complete study of the Sunday sales laws made with an eye to their revision at the next session of the legislature .']\n",
            "\n",
            "Cluster  75\n",
            "['A similar resolution passed in the Senate by a vote of 29-5 .', \"Barber , who is in his 13th year as a legislator , said there `` are some members of our congressional delegation in Washington who would like to see it ( the resolution ) passed '' .\", \"The house passed finally , and sent to the Senate , a bill extending the State Health Department's authority to give planning assistance to cities .\", 'The senate quickly whipped through its meager fare of House bills approved by committees , passing the three on the calendar .', 'The proposal would have to receive final legislative approval , by two-thirds majorities , before March 1 to be printed on the April 4 ballot , Roberts said .', 'When the shouting ended , the bill passed , 114 to 4 , sending it to the Senate , where a similar proposal is being sponsored by Sen. George Parkhouse of Dallas .', 'Fifty-three of the 150 representatives immediately joined Grover as co-signers of the proposal .', 'In the Senate , several bills are expected to pass without any major conflict or opposition .', 'The housing bill is now in the House Rules Committee .', 'The $6,100,000,000 measure , which was passed last Monday by the Senate , provides for forty-year mortgages at low down-payments for moderate-income families .']\n",
            "\n",
            "Cluster  62\n",
            "['As of Sunday night , there was no word of a resolution being offered there to rescind the action .', \"But he added that none of Georgia's congressmen specifically asked him to offer the resolution .\", 'There was no debate as the Senate passed the bill on to the House .', 'Only 11 senators were on the floor and there was no record vote .', 'Customary Senate rules were ignored in order to speed approval of the Negro leader as administrator of the housing and home finance agency .', 'In the last eight years , all Presidential appointments , including those of cabinet rank , have been denied immediate action because of a Senate rule requiring at least a 24 hour delay after they are reported to the floor .', 'Nothing has been done yet to take advantage of the enabling legislation .']\n",
            "\n",
            "Cluster  24\n",
            "['Pelham pointed out that Georgia voters last November rejected a constitutional amendment to allow legislators to vote on pay raises for future Legislature sessions .', 'A veteran Jackson County legislator will ask the Georgia House Monday to back federal aid to education , something it has consistently opposed in the past .', \"Rep. Mac Barber of Commerce is asking the House in a privilege resolution to `` endorse increased federal support for public education , provided that such funds be received and expended '' as state funds .\", \"It says that `` in the event Congress does provide this increase in federal funds '' , the State Board of Education should be directed to `` give priority '' to teacher pay raises .\", 'The bill is designed to provide special schooling for more deaf students in the scholastic age at a reduced cost to the state .', 'Rep. Wesley Roberts of Seminole , sponsor of the poll idea , said that further delay in the committee can kill the bill .', 'The education bill appears to be temporarily stalled in the Rules Committee , where two Northern Democratic members who usually vote with the Administration are balking because of the religious controversy .', 'What could rescue the bill would be some quick progress on a bill amending the National Defense Education Act of 1958 .', \"Mr. Delaney and Mr. O'Neill are not willing to vote on the public-school measure until the defense education bill clears the House Education and Labor Committee .\"]\n",
            "\n",
            "Cluster  150\n",
            "['Colquitt', 'Plainfield', 'Boonton', 'Could be scramble']\n",
            "\n",
            "Cluster  63\n",
            "[\"-- After a long , hot controversy , Miller County has a new school superintendent , elected , as a policeman put it , in the `` coolest election I ever saw in this county '' .\", \"`` This was the coolest , calmest election I ever saw '' , Colquitt Policeman Tom Williams said .\", \"`` My experience as public safety commissioner '' , Roos said , `` has shown me that the office of sheriff is best filled by a man with law enforcement experience , and preferably one who is a lawyer .\", 'Commissioner replies']\n",
            "\n",
            "Cluster  80\n",
            "['The new school superintendent is Harry Davis , a veteran agriculture teacher , who defeated Felix Bush , a school principal and chairman of the Miller County Democratic Executive Committee .', 'The former county school superintendent , George P. Callan , shot himself to death March 18 , four days after he resigned his post in a dispute with the county school board .', \"-- The board of regents of Paris Junior College has named Dr. Clarence Charles Clark of Hays , Kan. as the school's new president .\", '-- Principals of the 13 schools in the Denton Independent School District have been re-elected for the 1961-62 session upon the recommendation of Supt. Chester O. Strickland .']\n",
            "\n",
            "Cluster  31\n",
            "['Ordinary Carey Williams , armed with a pistol , stood by at the polls to insure order .', 'It was marked by controversy , anonymous midnight phone calls and veiled threats of violence .', 'During the election campaign , both candidates , Davis and Bush , reportedly received anonymous telephone calls .', 'Ordinary Williams said he , too , was subjected to anonymous calls soon after he scheduled the election .', 'Many local citizens feared that there would be irregularities at the polls , and Williams got himself a permit to carry a gun and promised an orderly election .']\n",
            "\n",
            "Cluster  153\n",
            "['`` Being at the polls was just like being at church .', 'And then , some churchmen remarked , there is a more classical church-state problem :', 'Church loses pace', \"`` In 35 years we have opened 7,000 churches '' , the Rev. Mr. Brandt said , adding that the denomination had a national goal of one church for every 10,000 persons .\", '`` In this light we need 1,000 churches in Illinois , where we have 200 ; ;']\n",
            "\n",
            "Cluster  53\n",
            "['Sheriff Felix Tabb said the ordinary apparently made good his promise .', \"`` Everything went real smooth '' , the sheriff said .\", \"`` This is a poor boy's bill '' , said Chapman .\", \"House Speaker Sam Rayburn ( D. , Tex. ) called the Kennedy program `` a mighty fine thing '' , but made no prediction on its fate in the House .\", \"The panel's action depends on the return of Representative James W. Trimble , Democrat of Arkansas , who has been siding with Speaker Sam Rayburn's forces in the Rules Committee in moving bills to the floor .\"]\n",
            "\n",
            "Cluster  17\n",
            "['Austin , Texas', 'Austin , Texas', 'Austin , Texas', 'Austin , Texas', 'Austin , Texas', 'Paris , Texas ( sp. )', 'Denton , Texas ( sp. )', 'Baton Rouge , La.']\n",
            "\n",
            "Cluster  12\n",
            "[\"-- Committee approval of Gov. Price Daniel's `` abandoned property '' act seemed certain Thursday despite the adamant protests of Texas bankers .\", \"He told the committee the measure would merely provide means of enforcing the escheat law which has been on the books `` since Texas was a republic '' .\", 'The escheat law cannot be enforced now because it is almost impossible to locate such property , Daniel declared .', 'Natural gas public utility companies would be given the right of eminent domain , under a bill by Sen. Frank Owen 3 , of El Paso , to acquire sites for underground storage reservoirs for gas .', '-- State representatives decided Thursday against taking a poll on what kind of taxes Texans would prefer to pay .', 'An adverse vote of 81 to 65 kept in the State Affairs Committee a bill which would order the referendum on the April 4 ballot , when Texas votes on a U.S. senator .', \"Opponents generally argued that the ballot couldn't give enough information about tax proposals for the voters to make an intelligent choice .\"]\n",
            "\n",
            "Cluster  145\n",
            "['Daniel personally led the fight for the measure , which he had watered down considerably since its rejection by two previous Legislatures , in a public hearing before the House Committee on Revenue and Taxation .', 'The bill , which Daniel said he drafted personally , would force banks , insurance firms , pipeline companies and other corporations to report such property to the state treasurer .', \"Rep. Charles E. Hughes of Sherman , sponsor of the bill , said a failure to enact it would amount `` to making a gift out of the taxpayers' pockets to banks , insurance and pipeline companies '' .\", \"The bill's defenders were mostly small-town legislators like J. W. Buchanan of Dumas , Eligio ( Kika ) De La Garza of Mission , Sam F. Collins of Newton and Joe Chapman of Sulphur Springs .\", 'He could tell the Legislature they had provided the needed funds to carry on the battle .']\n",
            "\n",
            "Cluster  110\n",
            "['Under committee rules , it went automatically to a subcommittee for one week .', '-- Fifteen members of the Republican State Committee who are retiring -- voluntarily -- this year were honored yesterday by their colleagues .', 'The outgoing members , whose four-year terms will expire a week after the April 18 primary election , received carved wooden elephants , complete with ivory tusks , to remember the state committee by .', 'There may be other 1961 state committee retirements come April 18 , but they will be leaving by choice of the Republican voters .', 'A special presentation was made to Mrs. Geraldine Thompson of Red Bank , who is stepping down after 35 years on the committee .', 'She served one four-year term on the national committee .']\n",
            "\n",
            "Cluster  101\n",
            "['But questions with which committee members taunted bankers appearing as witnesses left little doubt that they will recommend passage of it .', 'A House committee which heard his local option proposal is expected to give it a favorable report , although the resolution faces hard sledding later .', 'Other recommendations made by the committee are :', 'Governor Notte said last night he plans to name a committee to make the study and come up with recommendations for possible changes in time for the next session of the General Assembly .', \"While the city council suggested that the Legislative Council might perform the review , Mr. Notte said that instead he will take up the matter with Atty. Gen. J. Joseph Nugent to get `` the benefit of his views '' .\", \"He will then appoint the study committee with Mr. Nugent's cooperation , the governor said .\", \"`` I would expect the proposed committee to hold public hearings '' , Mr. Notte said , `` to obtain the views of the general public and religious , labor and special-interest groups affected by these laws '' .\", 'The Advisory Committee on Administrative and Budgetary Questions is expected to receive the report this week .']\n",
            "\n",
            "Cluster  38\n",
            "[\"Daniel termed `` extremely conservative '' his estimate that it would produce 17 million dollars to help erase an anticipated deficit of 63 million dollars at the end of the current fiscal year next Aug. 31 .\", 'The bill would increase from $5,000,000 to $15,000,000 the maximum loan the state could make to a local water project .', 'Officials estimated the combined programs would cost 5.1 million dollars the first year and would go up to 21 millions by 1966 .', 'The plan will provide $45 million for purchase of open land by the state .', 'The other $15 million is to be alloted to municipalities on a matching fund basis .', 'In the $40,000,000 budget that has been submitted for Congressional approval , $26,000,000 would be spent through universities and private voluntary agencies .', 'The administration could not say why $28 million was needed for a grant-in-aid program .', 'It is difficult to be certain how the administration views that $28 million , since the views of one leader may not be the same as the views of another one .', 'But if the administration should find it does not need the $28 million for a grant-in-aid program , a not unlikely conclusion , it could very well seek a way to use the money for other purposes .', \"Estimates of the city's loss in the $344,000 job have ranged as high as $200,000 .\", 'Revenue estimated']\n",
            "\n",
            "Cluster  6\n",
            "['It permits the state to take over bank accounts , stocks and other personal property of persons missing for seven years or more .', 'There are a number of ways this could happen , the churchmen pointed out , and here is an example :', 'Then will come nine other states in the order of their admission to the union .', 'The year will probably start out with segregation still the most troublesome issue .', 'But it might give way shortly to another vexing issue -- that of finances in state government .', 'If it fails to pass , he can throw up his hands and say the Legislature would not support him in his efforts to prevent integration .', 'He could terminate special sessions of the Legislature .', 'This would be in perfect consonance with the underlying concern in the administration -- the shortage of cash .', 'It could become an acute problem in the coming fiscal year .']\n",
            "\n",
            "Cluster  5\n",
            "['Dewey Lawrence , a Tyler lawyer representing the Texas Bankers Association , sounded the opposition keynote when he said it would force banks to violate their contractual obligations with depositors and undermine the confidence of bank customers .', \"`` If you destroy confidence in banks , you do something to the economy '' , he said .\", \"Cox argued that the bill is `` probably unconstitutional '' since , he said , it would impair contracts .\", 'Wexler has denied repeatedly that coercion was used in questioning .', '`` That was before I studied law .', 'The lawyer with whom I studied law steered me off the Socialist track .', \"`` I am taking the position that the contract was clearly violated '' , Berger said .\"]\n",
            "\n",
            "Cluster  175\n",
            "[\"`` You take out of circulation many millions of dollars '' .\", \"`` The hand is out '' .\"]\n",
            "\n",
            "Cluster  151\n",
            "['His contention was denied by several bankers , including Scott Hudson of Sherman , Gaynor B. Jones of Houston , J. B. Brady of Harlingen and Howard Cox of Austin .', 'All Dallas members voted with Roberts , except Rep. Bill Jones , who was absent .', 'Mitchell was for using it , Jones against , and Sen. Wayne Dumont Jr. R-Warren did not mention it when the three Republican gubernatorial candidates spoke at staggered intervals before 100 persons at the Park Hotel .', 'Jones , unhappy that the candidates were limited to eight minutes for a speech and no audience questions , saved his barbs for Mitchell .']\n",
            "\n",
            "Cluster  176\n",
            "['-- Senators unanimously approved Thursday the bill of Sen. George Parkhouse of Dallas authorizing establishment of day schools for the deaf in Dallas and the four other largest counties .', 'It would authorize the Texas Education Agency to establish county-wide day schools for the deaf in counties of 300,000 or more population , require deaf children between 6 and 13 years of age to attend the day schools , permitting older ones to attend the residential Texas School for the Deaf here .', \"Operating budget for the day schools in the five counties of Dallas , Harris , Bexar , Tarrant and El Paso would be $451,500 , which would be a savings of $157,460 yearly after the first year's capital outlay of $88,000 was absorbed , Parkhouse told the Senate .\", 'The TEA estimated there would be 182 scholastics to attend the day school in Dallas County , saving them from coming to Austin to live in the state deaf school .', 'Without dissent , senators passed a bill by Sen. A. R. Schwartz of Galveston authorizing establishment in the future of a school for the mentally retarded in the Gulf Coast district .']\n",
            "\n",
            "Cluster  164\n",
            "['Dallas may get to hear a debate on horse race parimutuels soon between Reps. V. E. ( Red ) Berry and Joe Ratcliff .', \"`` We're getting more ' pro ' letters than ' con ' on horse race betting '' , said Ratcliff .\", 'Rep. Berry , an ex-gambler from San Antonio , got elected on his advocacy of betting on the ponies .']\n",
            "\n",
            "Cluster  59\n",
            "[\"While details are still to be worked out , Ratcliff said he expects to tell home folks in Dallas why he thinks Berry's proposed constitutional amendment should be rejected .\", \"Some opposition to the home rule movement started to be heard yesterday , with spokesmen for the town's insurgent Democratic leadership speaking out against the home rule charter in favor of the model municipal league charter .\", \"Misunderstanding of the real meaning of a home rule charter was cited as a factor which has caused the Citizens Group to obtain signatures under what were termed `` false pretenses '' .\", 'Although he pointed out that mandatory legislation impinging on home rule is basically distasteful , he added that the vital interest in election results transcended county lines .', 'The increase also was opposed by Leonard Kaplan , spokesman for the Home Builders Association of Philadelphia , on behalf of association members who operate apartment houses .']\n",
            "\n",
            "Cluster  25\n",
            "['`` But I believe if people were better informed on this question , most of them would oppose it also .', 'Research projects as soon as possible on the causes and prevention of dependency and illegitimacy .', 'But there are reasons for the current spotlight on the subject .', 'A succession of highly publicized scandals has aroused the public within the last year .', '`` Why do you worry ? ?', 'Underlying concern', 'It is one that most try to avoid , as long as they can see an alternative approach to the problem .']\n",
            "\n",
            "Cluster  4\n",
            "[\"I'm willing to stake my political career on it '' .\", \"But I shall campaign on the Meyner record to meet the needs of the years ahead '' .\", \"I'm not afraid to tangle with the Republican nominee '' .\", \"But as I have said before , if I announce my candidacy , I will have something definite to say about running mates '' .\", 'There is a tangible feeling in the air of revulsion toward politics .', \"A political scientist writes of the growth of `` alienated voters '' , who `` believe that voting is useless because politicians or those who influence politicians are corrupt , selfish and beyond popular control .\", \"These voters view the political process as a secret conspiracy , the object of which is to plunder them '' .\", \"Even for those who have been observing the political scene a long time , no script from the past is worth very much in gazing into the state's immediate political future .\"]\n",
            "\n",
            "Cluster  119\n",
            "['One validated acts of school districts .', \"This would help the little peanut districts '' .\", 'Districts issue', \"The issue which may make it necessary to have a session is the highly sensitive problem of cutting the state's congressional districts from six to five to eliminate one congressional seat .\", 'With eyes focused on the third congressional district , the historic Delta district , and Congressman Frank E. Smith as the one most likely to go , the redistricting battle will put to a test the longstanding power which lawmakers from the Delta have held in the Legislature .']\n",
            "\n",
            "Cluster  81\n",
            "['Another enlarged authority of the Beaumont Navigation District .', 'The third amended the enabling act for creation of the Lamar county Hospital District , for which a special constitutional amendment previously was adopted .', \"State and federal legislation against racial discrimination in employment was called for yesterday in a report of a `` blue ribbon '' citizens committee on the aid to dependent children program .\", 'The attorney general has advised local police that it is their duty to enforce the blue laws .', \"Action on a new ordinance permitting motorists who plead guilty to minor traffic offenses to pay fines at the local police station may be taken at Monday's special North Providence Town Council meeting .\", 'At the last session of the General Assembly , the town was authorized to adopt such an ordinance as a means of making enforcement of minor offenses more effective .']\n",
            "\n",
            "Cluster  3\n",
            "['Money for its construction will be sought later on but in the meantime the State Hospital board can accept gifts and donations of a site .', 'Matching funds also can be obtained for procurement of such items as radios , sirens and rescue trucks , he said .', 'Graft in the construction of highways and other public works has brought on state and Federal investigations .', 'The state Public Works Department is accused of having spent $8,555 to build a private beach for a state judge on his waterfront property .', 'The U. S. Government is paying for it .', \"The U. S. Government pays for all its overseas workers '' .\", 'The fire fighters association here offered a $5,000 reward for information leading to the arrest of the person or persons responsible for the bombing .', \"A $500 reward was offered by the association's local in Kansas City , Kas. .\"]\n",
            "\n",
            "Cluster  51\n",
            "['Two tax revision bills were passed .', 'One , by Sen. Louis Crump of San Saba , would aid more than 17,000 retailers who pay a group of miscellaneous excise taxes by eliminating the requirement that each return be notarized .', \"`` But I am not in favor of a sales or state income tax at this time '' , Mitchell said .\", 'The transition from segregation to finances might already be in progress , in the form of an administration proposal to hike the state sales tax from 2 per cent to 3 per cent .', 'The administration has said the sales tax proposal is merely part of the segregation strategy , since the revenues from the increase would be dedicated to a grant in aid program .', 'The effectiveness of the governor in clearing up some of the inconsistencies revolving about the sales tax bill may play a part in determining whether it can muster the required two-thirds vote .', 'The tax bill will be up for reconsideration Wednesday in the House when the Legislature reconvenes .', 'Davis may use the tax bill as a means to effect a transition from special sessions of the Legislature to normalcy .', 'Passage of the sales tax measure would also give Davis the means to effect a transition .', 'If the administration does not succeed in passing the sales tax bill , or any other tax bill , it could very well be faced this spring at the fiscal session of the Legislature with an interesting dilemma .', 'Since the constitution forbids introduction of a tax bill at a fiscal session , the administration will either have to cut down expenses or inflate its estimates of anticipated revenues .', 'This might be done to arouse those who have been squeezed out by the trims to exert pressure on the Legislature , so it would be more receptive to a tax proposal later in the year .']\n",
            "\n",
            "Cluster  117\n",
            "['The other bill , by Sen. A. M. Aikin Jr. of Paris , would relieve real estate brokers , who pay their own annual licensing fee , from the $12 annual occupation license on brokers in such as stocks and bonds .', 'His testimony came during a hearing on a bill raising fees for a wide variety of licenses , permits and city services .', 'Backs higher fees', 'City Finance Director Richard J. McConnell indorsed the higher fees , which , he said , had been under study for more than a year .', 'The new fee schedule also was supported by Commissioner of Licenses and Inspections Barnet Lieberman and Health Commissioner Eugene A. Gillis .']\n",
            "\n",
            "Cluster  137\n",
            "['Marshall Formby of Plainview , former chairman of the Texas Highway Commission , suggested a plan to fill by appointment future vacancies in the Legislature and Congress , eliminating the need for costly special elections .', \"Under Formby's plan , an appointee would be selected by a board composed of the governor , lieutenant governor , speaker of the House , attorney general and chief justice of the Texas Supreme Court .\", '-- Three positions on the Oak Lodge Water district board of directors have attracted 11 candidates .', 'Polls will be in the water office .', 'Five candidates seek the place vacated by Secretary Hugh G. Stout .']\n",
            "\n",
            "Cluster  174\n",
            "[\"-- Paradise lost to the alleged water needs of Texas' big cities Thursday .\", 'Rep. James Cotten of Weatherford insisted that a water development bill passed by the Texas House of Representatives was an effort by big cities like Dallas and Fort Worth to cover up places like Paradise , a Wise County hamlet of 250 people .', 'Cotten construed this as a veiled effort by Parkhouse to help Dallas and other large cities get money which Cotten felt could better be spent providing water for rural Texas .', \"Statements by other legislators that Dallas is paying for all its water program by local bonds , and that less populous places would benefit most by the pending bill , did not sway Cotten's attack .\"]\n",
            "\n",
            "Cluster  148\n",
            "['Most of the fire was directed by Cotten against Dallas and Sen. Parkhouse .', 'One of these men is former Fire Chief John A. Laughlin , he said .', '-- William J. Seidel , state fire warden in the Department of Conservation and Economic Development , has retired after 36 years of service .', 'A citation from Conservation Commissioner Salvatore A. Bontempo credits his supervision with a reduction in the number of forest fires in the state .', 'Seidel joined the department in 1925 as a division fire warden after graduation in 1921 from the University of Michigan with a degree in forestry and employment with private lumber companies .', 'In October 1944 , he was appointed state warden and chief of the Forest Fire Section .', 'Under his supervision , the state fire-fighting agency developed such techniques as plowing of fire lines and established a fleet of tractor plows and tractor units for fire fighting .', 'He introduced regular briefing sessions for district fire wardens and first aid training for section wardens .', 'He is credited with setting up an annual co-operative fire prevention program in co-operation with the Red Cross and State Department of Education .']\n",
            "\n",
            "Cluster  86\n",
            "[\"-- A Houston teacher , now serving in the Legislature , proposed Thursday a law reducing the time spent learning `` educational methods '' .\", \"Rep. Henry C. Grover , who teaches history in the Houston public schools , would reduce from 24 to 12 semester hours the so-called `` teaching methods '' courses required to obtain a junior or senior high school teaching certificate .\", \"A normal year's work in college is 30 semester hours .\", 'Grover also would require junior-senior high teachers to have at least 24 semester hours credit in the subject they are teaching .', 'The remainder of the 4-year college requirement would be in general subjects .', \"`` A person with a master's degree in physics , chemistry , math or English , yet who has not taken Education courses , is not permitted to teach in the public schools '' , said Grover .\", 'College teachers in Texas are not required to have the Education courses .']\n",
            "\n",
            "Cluster  102\n",
            "['Dr. Clark will succeed Dr. J. R. McLemore , who will retire at the close of the present school term .', 'Dr. Clark holds an earned Doctor of Education degree from the University of Oklahoma .', 'In addition , Dr. Clark has studied at Rhode Island State College and Massachusetts Institute of Technology .', 'During his college career , Dr. Clark was captain of his basketball team and was a football letterman .', 'Dr. Clark has served as teacher and principal in Oklahoma high schools , as teacher and athletic director at Raymondville , Texas , High School , as an instructor at the University of Oklahoma , and as an associate professor of education at Fort Hays , Kan. , State College .']\n",
            "\n",
            "Cluster  95\n",
            "['He also received a Master of Science degree from Texas A & I College and a Bachelor of Science degree from Southwestern State College , Weatherford , Okla. .', 'He has served as a border patrolman and was in the Signal Corps of the U.S. Army .', 'He is a native of New Orleans and attended Allen Elementary school , Fortier High school and Soule business college .', 'While in the service he attended radio school at Scott Field in Belleville , Ill. .', 'Ierulli , 29 , has been practicing in Portland since November , 1959 .', 'He is a graduate of Portland University and the Northwestern College of Law .', 'On Friday he will go to Portland for the swearing in of Dean Bryson as Multnomah County Circuit Judge .', 'His offices are in Springfield , Mo. .']\n",
            "\n",
            "Cluster  13\n",
            "['The report , culminating a year long study of the ADC program in Cook county by a New York City welfare consulting firm , listed 10 long range recommendations designed to reduce the soaring ADC case load .', \"The report called racial discrimination in employment `` one of the most serious causes of family breakdown , desertion , and ADC dependency '' .\", 'The monthly cost of ADC to more than 100,000 recipients in the county is 4.4 million dollars , said C. Virgil Martin , president of Carson Pirie Scott & Co. , committee chairman .', 'The volume of ADC cases will decrease , Martin reported , when the community is able to deal effectively with two problems : Relatively limited skills and discrimination in employment because of color .', \"These , he said , are `` two of the principal underlying causes for family breakups leading to ADC '' .\", 'Extension of the ADC program to all children in need living with any relatives , including both parents , as a means of preserving family unity .', \"He reported that the city's contributions for animal care included $67,000 to the Women's S.P.C.A. ; ;\"]\n",
            "\n",
            "Cluster  68\n",
            "['Calls for extension', 'Outlays would increase', 'Question raised', 'Would bar vehicles', 'New point added']\n",
            "\n",
            "Cluster  47\n",
            "['Several defendants in the Summerdale police burglary trial made statements indicating their guilt at the time of their arrest , Judge James B. Parsons was told in Criminal court yesterday .', '`` Some of the defendants strongly indicated they knew they were receiving stolen property .', \"Judge Parsons leaned over the bench and inquired , `` You mean some of the defendants made statements admitting this '' ? ?\", \"He said evidence was obtained `` in violation of the legal rights of citizens '' .\", \"He said this constituted a `` very serious misuse '' of the Criminal court processes .\", \"`` Actually , the abuse of the process may have constituted a contempt of the Criminal court of Cook county , altho vindication of the authority of that court is not the function of this court '' , said Karns , who is a City judge in East St. Louis sitting in Cook County court .\", 'Should there be evidence they are shirking , he has said , the state police will step into the situation .']\n",
            "\n",
            "Cluster  97\n",
            "['Fears prejudicial aspects', \"`` We must persuade them to enjoy a way of life which , if not identical , is congenial with ours '' , he said but adding that if they do not develop the kind of society they themselves want it will lack ritiuality and loyalty .\", \"`` We have no reason to fear failure , but we must be extraordinarily patient '' , the assistant secretary said .\", \"Mrs. Molvar , who kept reiterating her request that they `` please take a stand '' , said , `` We must have faith in somebody -- on the local level , and it wouldn't be possible for everyone to rush to a school to get their children '' .\"]\n",
            "\n",
            "Cluster  144\n",
            "[\"It is impossible to get a fair trial when some of the defendants made statements involving themselves and others '' .\", \"There is a conflict among the defendants '' .\", \"In the two other cases he ruled that the state had been `` unable to make a case '' .\", 'Faced seven cases', 'Two other cases also were under advisement .', 'Claims precedent lacking', 'Local police have hesitated to prosecute them because of the heavy court costs involved even for the simplest offense .', \"`` How can a man with any degree of common decency charge this '' ? ?\", 'Intervenes in case']\n",
            "\n",
            "Cluster  69\n",
            "['`` What this amounts to , if true , is that there will be a free-for-all fight in this case .', 'But with the months moving on -- and the immediate confrontations with the Communists showing no gain for the free world -- the question arises :', 'Increasing opposition can be expected in coming weeks , it was indicated .', 'Opposition reported']\n",
            "\n",
            "Cluster  113\n",
            "['Washington , July 24', 'Washington , Feb. 9', 'Washington , Feb. 9', 'Boston , June 16', 'Washington , June 18', 'Moscow , June 18', 'United Nations , N. Y. , June 18', 'Geneva , June 18', 'Kansas City , Mo. , Feb. 9 ( UPI )', 'Ankara , Turkey , Oct. 24 ( AP )']\n",
            "\n",
            "Cluster  29\n",
            "['-- President Kennedy today pushed aside other White House business to devote all his time and attention to working on the Berlin crisis address he will deliver tomorrow night to the American people over nationwide television and radio .', 'This is another of the modifications of policy on Laos that the Kennedy administration has felt compelled to make .', 'How effective have Kennedy administration first foreign policy decisions been in dealing with Communist aggression ? ?', \"He was critical of what he feels is President Kennedy's tendency to be too conciliatory .\", \"One Republican senator told this correspondent that he was constantly being asked why he didn't attack the Kennedy administration on this score .\", 'The Republicans some weeks ago served notice through Senator Thruston B. Morton ( R ) of Kentucky , chairman of the Republican National Committee , that the Kennedy administration would be held responsible if the outcome in Laos was a coalition government susceptible of Communist domination .', 'Kennedy administration policies also have been assailed now from another direction by 70 Harvard , Boston University , Brandeis , and Massachusetts Institute of Technology educators .', 'Until the Cuban fiasco and the Communist military victories in Laos , almost any observer would have said that President Kennedy had blended a program that respected , generally , the opinions voiced both by Mr. Nixon and the professors .', \"He urged New Jersey to `` become a full partner in the courageous actions of President Kennedy '' .\", 'And the election of President Kennedy has attracted new attention to the ethical climate of his home state .']\n",
            "\n",
            "Cluster  49\n",
            "['The President spent much of the week-end at his summer home on Cape Cod writing the first drafts of portions of the address with the help of White House aids in Washington with whom he talked by telephone .', \"Shortly after the Chief Executive returned to Washington in midmorning from Hyannis Port , Mass. , a White House spokesman said the address text still had `` quite a way to go '' toward completion .\", \"Asked to elaborate , Pierre Salinger , White House press secretary , replied , `` I would say it's got to go thru several more drafts '' .\", \"Salinger said the work President Kennedy , advisers , and members of his staff were doing on the address involved composition and wording , rather than last minute decisions on administration plans to meet the latest Berlin crisis precipitated by Russia's demands and proposals for the city .\", \"-- Acting hastily under White House pressure , the Senate tonight confirmed Robert C. Weaver as the nation's federal housing chief .\", \"The Rev. R. L. Brandt , national secretary of the home missions department , stressed the need for the first two years' work .\"]\n",
            "\n",
            "Cluster  36\n",
            "['Decisions are made', 'This has been a working session of an organization that , by its very nature , can only proceed along its route step by step and without dramatic changes .', 'Policies modified', 'Policies on nuclear test ban negotiations were reviewed and changed .', 'Other steps would be developed after information drifts down to the local level from the federal government .', 'Interviews with several church leaders have disclosed that this development has raised the question whether the Peace Corps will be able to prevent confusion for church and state over methods , means and goals .', 'To deal with principles', 'The meetings in Zurich , the statement said , would deal only with principles that would guide the three factors in their search for a coalition Government .']\n",
            "\n",
            "Cluster  118\n",
            "[\"The last 10 cases in the investigation of the Nov. 8 election were dismissed yesterday by Acting Judge John M. Karns , who charged that the prosecution obtained evidence `` by unfair and fundamentally illegal means '' .\", \"Karns said that the cases involved a matter `` of even greater significance than the guilt or innocence '' of the 50 persons .\", \"Karns' ruling pertained to eight of the 10 cases .\", 'Karns had been scheduled this week to hear seven cases involving 35 persons .', 'After reading his statement discharging the 23d ward case , Karns told Wexler that if the seven cases scheduled for trial also involved persons who had been subpenaed , he would dismiss them .']\n",
            "\n",
            "Cluster  129\n",
            "['Contempt proceedings originally had been brought against 677 persons in 133 precincts by Morris J. Wexler , special prosecutor .', 'Wexler admitted in earlier court hearings that he issued grand jury subpenas to about 200 persons involved in the election investigation , questioned the individuals in the Criminal courts building , but did not take them before the grand jury .', \"Karns said it was a `` wrongful act '' for Wexler to take statements `` privately and outside of the grand jury room '' .\", \"Wexler had charged the precinct judges in these cases with `` complementary '' miscount of the vote , in which votes would be taken from one candidate and given to another .\"]\n",
            "\n",
            "Cluster  109\n",
            "['-- President Kennedy today proposed a mammoth new medical care program whereby social security taxes on 70 million American workers would be raised to pay the hospital and some other medical bills of 14.2 million Americans over 65 who are covered by social security or railroad retirement programs .', 'It would be financed by boosting the social security payroll tax by as much as $37 a year for each of the workers now paying such taxes .', 'The social security payroll tax is now 6 per cent -- 3 per cent on each worker and employer -- on the first $4,800 of pay per year .', 'The Kennedy plan alone would boost the base to $5,000 a year and the payroll tax to 6.5 per cent -- 3.25 per cent each .', 'Similar payroll tax boosts would be imposed on those under the railroad retirement system .', 'The payroll tax would actually rise to 7.5 per cent starting Jan. 1 , 1963 , if the plan is approved , because the levy is already scheduled to go up by 1 per cent on that date to pay for other social security costs .', 'Officials estimated the annual tax boost for the medical plan would amount to 1.5 billion dollars and that medical benefits paid out would run 1 billion or more in the first year , 1963 .', 'These would be paid for out of general , not payroll , taxes .']\n",
            "\n",
            "Cluster  158\n",
            "['The President , in a special message to Congress , tied in with his aged care plan requests for large federal grants to finance medical and dental scholarships , build 20 new medical and 20 new dental schools , and expand child health care and general medical research .', 'The President noted that Congress last year passed a law providing grants to states to help pay medical bills of the needy aged .', \"Apart from the aged care plan the President's most ambitious and costly proposals were for federal scholarships , and grants to build or enlarge medical and dental schools .\", \"In the child health field , the President said he will recommend later an increase in funds for programs under the children's bureau .\", 'He also asked Congress to approve establishment of a national child health institute .', 'The President said he will ask Congress to increase grants to states for vocational rehabilitation .', 'The President asks the support and cooperation of Congress in his efforts through the enactment of legislation to provide federal grants to states for specified efforts in combating this disturbing crime trend .']\n",
            "\n",
            "Cluster  105\n",
            "['The aged care plan , similar to one the President sponsored last year as a senator , a fight on Capitol hill .', 'The aged care plan carries these benefits for persons over 65 who are under the social security and railroad retirement systems : 1', \"Legislators who last year opposed placing aged-care under the social security system criticized the President's plan .\"]\n",
            "\n",
            "Cluster  161\n",
            "['Cost up to $37 a year', 'Hospital outpatient clinic diagnostic service for all costs in excess of $20 a patient .', 'The cost of a license now is $2 , with an annual renewal fee of $1 .']\n",
            "\n",
            "Cluster  71\n",
            "['Both figures would go higher in later years .', 'But the tardiness of the administration in making the dedication has caused legislators to suspect the tax bill was related more directly to an over-all shortage of cash than to segregation .', \"Indeed , the administration's curious position on the sales tax was a major factor in contributing to its defeat .\", 'Then he could tell them to go home , while the administration continued to wage the battle with the $28 million in extra revenues the sales tax measure would bring in over an eight months period .', 'In either case , it could call a special session of the Legislature later in 1961 to make another stab at raising additional revenues through a tax raiser .', 'Any tax bill also will revive allegations that some of his followers have been using their administration affiliations imprudently to profit themselves .', 'The new fees are expected to raise an additional $740,000 in the remainder of 1961 and $2,330,000 more a year after that .']\n",
            "\n",
            "Cluster  165\n",
            "['Other parts of the Kennedy health plan would entail federal grants of 750 million to 1 billion dollars over the next 10 years .', \"The President recommended federal `` matching grants '' totaling 700 million dollars in 10 years for constructing new medical and dental schools or enlarging the capacity of existing ones .\", \"In the area of `` community health services '' , the President called for doubling the present 10 million dollar a year federal grants for nursing home construction .\", \"He asked for another 10 million dollar `` initial '' appropriation for `` stimulatory grants '' to states to improve nursing homes .\", 'He further proposed grants of an unspecified sum for experimental hospitals .', 'Asks research funds', 'For medical research he asked a 20 million dollar a year increase , from 30 to 50 millions , in matching grants for building research facilities .', 'The President said he will also propose increasing , by an unspecified amount , the 540 million dollars in the 1961-62 budget for direct government research in medicine .']\n",
            "\n",
            "Cluster  90\n",
            "['Nursing home care', 'Full payment of hospital bills for stays up to 90 days for each illness , except that the patient would pay $10 a day of the cost for the first nine days .', 'Full payment of nursing home bills for up to 180 days following discharge from a hospital .', \"A patient could receive up to 300 days paid-for nursing home care under a `` unit formula '' allowing more of such care for those who use none or only part of the hospital-care credit .\", 'Community visiting nurse services at home for up to 240 days an illness .', 'More for nursing homes']\n",
            "\n",
            "Cluster  91\n",
            "['Calls proposal modest', \"He said his plan is designed to `` meet the needs of those millions who have no wish to receive care at the taxpayers' expense , but who are nevertheless staggered by the drain on their savings -- or those of their children -- caused by an extended hospital stay '' .\", \"`` This is a very modest proposal cut to meet absolutely essential needs '' , he said , `` and with sufficient ' deductible ' requirements to discourage any malingering or unnecessary overcrowding of our hospitals .\", 'It is a program of prepayment of health costs with absolute freedom of choice guaranteed .', \"The President said his proposals combine the `` indispensable elements in a sound health program -- people , knowledge , services , facilities , and the means to pay for them '' .\", 'Senate Republican Leader Dirksen ( Ill. ) and House Republican Leader Charles Halleck ( Ind. ) said the message did not persuade them to change their opposition to compulsory medical insurance .', 'Halleck said the voluntary care plan enacted last year should be given a fair trial first .']\n",
            "\n",
            "Cluster  57\n",
            "['`` This is not a program of socialized medicine .', 'The plan does not cover doctor bills .', \"The President said the nation's 92 medical and 47 dental schools cannot now handle the student load needed to meet the rising need for health care .\", \"Moreover , he said , many qualified young people are not going into medicine and dentistry because they can't afford the schooling costs .\", \"`` I don't work for the Government '' , the American said .\", 'The city is not adequately compensated for the services covered by the fees , he said .']\n",
            "\n",
            "Cluster  135\n",
            "[\"Every person will choose his own doctor and hospital '' .\", \"Wouldn't pay doctors\", 'They would still be paid by the patient .']\n",
            "\n",
            "Cluster  18\n",
            "['Contributions to schools', 'Aid plans revamped', 'Foreign aid programs were revamped to give greater emphasis to economic aid and to encourage political reform in recipient nations .', 'State aid to schools , the continuance of railroad passenger service , the proper uses of surplus funds of the Port of New York Authority , and making New Jersey attractive to new industry .', 'It also provides for funds to clear slums and help colleges build dormitories .', 'This would provide for long-term Federal loans for construction of parochial and other private-school facilities for teaching science , languages and mathematics .', 'They will be for teaching , agriculture and community development in Southeast Asia , Africa , the Middle East and Latin America .']\n",
            "\n",
            "Cluster  140\n",
            "['The scholarship plan would provide federal contributions to each medical and dental school equal to $1,500 a year for one-fourth of the first year students .', 'The schools could use the money to pay 4-year scholarships , based on need , of up to $2,000 a year per student .', \"In addition , the government would pay a $1,000 `` cost of education '' grant to the schools for each $1,500 in scholarship grants .\"]\n",
            "\n",
            "Cluster  28\n",
            "['He did not say by how much .', 'He is not interested in being named a full-time director .', 'He said that the group has no candidates for the charter commission in mind at present , but that it will undoubtedly endorse candidates when the time comes .', 'He said he would not be surprised if some of the more than 30 members of the group are interested in running on the required non-partisan ballot for posts on the charter commission .', \"The audience last night did not respond with either applause or boos to mention of Hughes' remark .\", 'Hughes would not comment on tax reforms or other issues in which the Republican candidates are involved .', 'As usual , he made no attempt to get in touch with Carmine G. De Sapio , the Manhattan leader .', \"This means that more than 100 million have no vital touch with the church or religious life '' , he told delegates Friday .\"]\n",
            "\n",
            "Cluster  14\n",
            "['Reaction as expected', 'GOP restrained', 'Regrets attack', 'Attacks Republicans', \"He said , `` You can see signs of the Republicans' feeble attack on the Meyner administration .\"]\n",
            "\n",
            "Cluster  73\n",
            "['Congressional reaction to the message was along expected lines .', 'Those who backed a similar plan last year hailed the message .', \"At the same time reaction among anti-organization Democratic leaders and in the Liberal party to the Mayor's reported plan was generally favorable .\", 'Their view is that last-minute changes the Mayor is proposing to make in the Democratic ticket only emphasize the weakness of his performance as Mayor .', 'The Mayor said :', 'Leadership is hopeful', 'The Democratic leadership , however , hopes to pass it sometime this week .']\n",
            "\n",
            "Cluster  22\n",
            "[\"The rule was enforced by demand of Sen. Wayne Morse ( D. , Ore. ) in connection with President Eisenhower's cabinet selections in 1953 and President Kennedy's in 1961 .\", \"But he hastened to add that , if United States policies were not always clear , despite Mr. Rusk's analysis of the various global danger points and setbacks for the West , this may merely mean the new administration has not yet firmly fixed its policy .\", 'It excuses these actions as being the chain reaction to basic errors made in the previous administration .', 'Former Vice-President Richard M. Nixon in Detroit called for a firmer and tougher policy toward the Soviet Union .', 'But he further said that it was better politics to let others question the wisdom of administration policies first .', 'Very early in his administration he informed the Kremlin through diplomatic channels , a high official source disclosed , that the new administration would react even tougher than the Eisenhower administration would during the formative period of the administration .', 'Some predict the administration will settle down during 1961 and iron out the rough edges which it has had thus far .', \"-- The Gov. Jimmie H. Davis administration appears to face a difficult year in 1961 , with the governor's theme of peace and harmony subjected to severe stresses .\"]\n",
            "\n",
            "Cluster  40\n",
            "['Oslo', 'The most positive element to emerge from the Oslo meeting of North Atlantic Treaty Organization Foreign Ministers has been the freer , franker , and wider discussions , animated by much better mutual understanding than in past meetings .', \"In Oslo , the ministers have met in a climate of candor , and made a genuine attempt to get information and understanding one another's problems .\", \"The impression has nevertheless been given during these three days , despite Mr. Rusk's personal popularity , that the United States delegation came to Oslo in a somewhat tentative and exploratory frame of mind , more ready to listen and learn than to enunciate firm policy on a global scale with detailed application to individual danger spots .\", 'The annual spring meeting has given an impetus in three main directions : more , deeper , and more timely political consultation within the alliance , the use of the Organization for Economic Cooperation and Development ( when ratified ) as a method of coordinating aid to the underdeveloped countries , and the need for strengthening conventional forces as well as the maintenance of the nuclear deterrent .', 'Defends Ike']\n",
            "\n",
            "Cluster  162\n",
            "[\"This atmosphere of understanding has been particularly noticeable where relations are concerned between the `` colonialist '' powers and those who have never , or not for a long time , had such problems .\", 'The nightmare of a clash between those in trouble in Africa , exacerbated by the difficulties , changes , and tragedies facing them , and other allies who intellectually and emotionally disapprove of the circumstances that have brought these troubles about , has been conspicuous by its absence .', 'In the case of Portugal , which a few weeks ago was rumored ready to walk out of the NATO Council should critics of its Angola policy prove harsh , there has been a noticeable relaxation of tension .', \"This increase in the `` threshold '' , as the conventional forces strengthening is called , will prove one of the alliance's most difficult problems in the months to come .\"]\n",
            "\n",
            "Cluster  85\n",
            "['Explosion avoided', '-- The president of the Kansas City local of the International Association of Fire Fighters was severly injured today when a bomb tore his car apart as he left home for work .', 'Ignition sets off blast', 'The younger boy said the blast knocked him out of bed and against the wall .', 'Police laboratory technicians said the explosive device , containing either TNT or nitroglycerine , was apparently placed under the left front wheel .', \"It was first believed the bomb was rigged to the car's starter .\"]\n",
            "\n",
            "Cluster  84\n",
            "['The general , remarkably courteous , explanation has left basic positions unchanged , but there has been no explosion in the council .', 'Strenuous efforts were made to remove pin pricking from administration statements .', \"He declared on March 25 that the United States had erred a year and a half ago by `` encouraging the removal '' of Prince Souvanna .\", 'Many changes involved minor editing and clarification ; ;']\n",
            "\n",
            "Cluster  37\n",
            "[\"There should even be no more bitter surprises in the UN General Assembly as to NATO members' votes , since a new ad hoc NATO committee has been set up so that in the future such topics as Angola will be discussed in advance .\", 'Canada alone has been somewhat out of step with the Oslo attempt to get all the allied cars back on the track behind the NATO locomotive .', 'Even Norway , despite daily but limited manifestations against atomic arms in the heart of this northernmost capital of the alliance , is today closer to the NATO line .', \"But where the core of NATO is concerned , the Secretary of State has not only reiterated the United States' profound attachment to the alliance , `` cornerstone '' of its foreign policy , but has announced that five nuclear submarines will eventually be at NATO's disposal in European waters .\", \"The secretary's greatest achievement is perhaps the rekindling of NATO realization that East-West friction , wherever it take place around the globe , is in essence the general conflict between two entirely different societies , and must be treated as such without regard to geographical distance or lack of apparent connection .\", 'They count on the aid of the neutral countries attending the Geneva conference to achieve this .', 'Tactics studied in Geneva']\n",
            "\n",
            "Cluster  121\n",
            "['On the negative side of the balance sheet must be set some disappointment that the United States leadership has not been as much in evidence as hoped for .', 'But thus far there has been no response in kind .', 'There certainly was not any more energy displayed after it was clear the United States would not back the pro-Western government to the hilt .', 'But no one was overly optimistic .', 'But from a historic viewpoint none can approach it .']\n",
            "\n",
            "Cluster  65\n",
            "[\"One diplomat described the tenor of Secretary of State Dean Rusk's speeches as `` inconclusive '' .\", 'The Secretary of State himself , in his first speech , gave some idea of the tremendous march of events inside and outside the United States that has preoccupied the new administration in the past four months .', \"His reference to ' discredited carcass ' or ' tattered remains ' of the president's leadership is an insult to the man who led our forces to victory in the greatest war in all history , to the man who was twice elected overwhelmingly by the American people as president of the United States , and who has been the symbol to the world of the peace-loving intentions of the free nations .\", '`` Such a vicious statement can only have its origin in the desire of a new political candidate to try to make his name known by condemning a man of world stature .', 'He is publicly on record as believing Mr. De Sapio should be replaced for the good of the party .', \"After his speech , reporters asked him about the report of his political intentions , published in yesterday's New York Times .\", 'This is not the sort of thing most politicos would care to acknowledge publicly .']\n",
            "\n",
            "Cluster  48\n",
            "['Exploratory mood', 'One of the first things he would do , he said , would be to organize classes in first aid .', \"They had a two-hour luncheon together in `` an atmosphere of cordial understanding and relaxation '' , she said .\", 'They would like to convey the notion something is being done , even though it is something they know to be ineffectual .']\n",
            "\n",
            "Cluster  103\n",
            "['A certain vagueness may also be caused by tactical appreciation of the fact that the present council meeting is a semipublic affair , with no fewer than six Soviet correspondents accredited .', 'One factor was the statement of Senator J. W. Fulbright ( D ) of Arkansas , chairman of the Senate Foreign Relations Committee .', \"-- A committee of experts has recommended that a country's population be considered in the distribution of professional posts at the United Nations .\", 'This was disclosed today by a responsible source amid intensified efforts by the Soviet Union to gain a greater role in the staff and operation of the United Nations .', 'The report was completed after nearly eighteen months of work on the question of the organization of the United Nations .', \"Each of the organization's ninety-nine members would get two professional posts , such as political affairs officer , a department head or an economist , to start .\", \"W. Averell Harriman of the United States , Malcolm MacDonald of Britain , Maurice Couve De Murville , France's Foreign Minister , and Howard C. Green , Canada's Minister of External Affairs , concluded , meanwhile , a round of consultations here on future tactics in the conference .\"]\n",
            "\n",
            "Cluster  87\n",
            "['The Secretary of State has also solemnly repeated a warning to the Soviet Union that the United States will not stand for another setback in Berlin , an affirmation once again taken up by the council as a whole .', 'Each ally will have to carry out obligations long since laid down , but never completely fulfilled .', 'Its spokesmen insist that there has not been time enough to institute reforms in military and economic aid policies in the critical areas .', 'The military also had demanded pledges that there would be no changes in the laws passed by the junta and no leaders of the Menderes regime now in prison would be pardoned .', \"He cited East Germany where after 15 years of Soviet rule it has become necessary to build a wall to keep the people in , and added , `` so long as people rebel , we must not give up '' .\"]\n",
            "\n",
            "Cluster  55\n",
            "['Conflict surveyed', 'Three groups to meet', 'The fire department here has been torn for months by dissension involving top personnel and the fight between the fire fighters association and the teamsters union .', 'Led fight on teamsters', 'Both have been active in the association .']\n",
            "\n",
            "Cluster  21\n",
            "['Washington', 'Washington', 'Trenton', 'Trenton', 'Washington']\n",
            "\n",
            "Cluster  168\n",
            "['The Kennedy administration moves haltingly toward a Geneva conference on Laos just as serious debate over its foreign policy erupts for the first time .', 'There is little optimism here that the Communists will be any more docile at the conference table than they were in military actions on the ground in Laos .', 'The United States , State Department officials explain , now is mainly interested in setting up an international inspection system which will prevent Laos from being used as a base for Communist attacks on neighboring Thailand and South Viet Nam .', 'The United States hopes that any future Lao Cabinet would not become Communist dominated .', 'The inclination here is to accept a de facto cease-fire in Laos , rather than continue to insist on a verification of the cease-fire by the international control commission before participating in the Geneva conference .', 'In Laos , the administration looked at the Eisenhower administration efforts to show determination by sailing a naval fleet into Southeast Asian waters as a useless gesture .', \"Again and again it asked the Communists to `` freeze '' the military situation in Laos .\", 'But the Communists aided the Pathet Lao at an even faster rate .', \"And after several correspondents went into Pathet Lao territory and exposed the huge build-up , administration spokesmen acclaimed them for performing a `` great service '' and laid the matter before the Southeast Asia Treaty Organization .\", 'But the Communists never gave sufficient provocation at any one time for the United States to want to risk a limited or an all-out war over Laos .', 'There was the further complication that the administration had very early concluded that Laos was ill suited to be an ally , unlike its more determined neighbors , Thailand and South Viet Nam .', 'The administration declared itself in favor of a neutralized Laos .', \"The pro-Western government , which the United States had helped in a revolt against the Souvanna Phouma `` neutralist '' government , never did appear to spark much fighting spirit in the Royal Lao Army .\"]\n",
            "\n",
            "Cluster  41\n",
            "['But it is apparent that no acceptable formula has been found to prevent such a possibility .', 'The new formula for filling staff positions in the Secretariat is one of a number of recommendations made by a panel of eight in a long and detailed report .', 'Formula is due this week', 'The jobs formula is understood to follow these lines :']\n",
            "\n",
            "Cluster  94\n",
            "[\"They can hardly restrain themselves from raising the question of whether Republicans , if they had been in power , would have made `` amateurish and monumental blunders '' in Cuba .\", 'Detente urged', \"This group pleads with the administration to `` give no further support for the invasion of Cuba by exile groups '' .\", 'It recommends that the United States `` seek instead to detach the Castro regime from the Communist bloc by working for a diplomatic detente and a resumption of trade relations ; ;', 'Mr. Nixon , for his part , would oppose intervention in Cuba without specific provocation .', 'But he did recommend that President Kennedy state clearly that if Communist countries shipped any further arms to Cuba that it would not be tolerated .']\n",
            "\n",
            "Cluster  43\n",
            "['His reply , he said , was that he agreed to the need for unity in the country now .', 'He asked .', \"The taxi driver taking the visitor from the airport remarks that politicians in the state are `` all the same '' .\", \"`` Same thing '' , he said .\", 'Insuring that the countries have a freedom of choice , he said , was the biggest detriment to the Soviet Union .']\n",
            "\n",
            "Cluster  159\n",
            "[\"and concentrate its constructive efforts on eliminating in other parts of Latin America the social conditions on which totalitarian nationalism feeds '' .\", \"The President is deeply concerned over this problem and its effect upon the `` vitality of the nation '' .\", 'One effect of the proposal , which puts a premium on population instead of economic strength , as in the past , would be to take jobs from European nations and give more to such countries as India .', 'India is the most populous United Nations member with more than 400,000,000 inhabitants .', \"`` The countries are trying to build in a decade the kind of society we took a century to build '' , he said .\"]\n",
            "\n",
            "Cluster  124\n",
            "['SEATO was steamed up and prepared contingency plans for coping with the military losses in Laos .', '( Some SEATO nations disagreed , however .', '-- The three leaders of Laos agreed today to begin negotiations tomorrow on forming a coalition government that would unite the war-ridden kingdom .', 'Their joint statement was welcomed by the Western delegations who will attend tomorrow the nineteenth plenary session of the fourteen-nation conference on the future of Laos .', 'The three Laotians agreed upon a six-point agenda for their talks , which are to last three days .']\n",
            "\n",
            "Cluster  126\n",
            "['If the administration ever had any ideas that it could find an acceptable alternative to Prince Souvanna Phouma , whom it felt was too trusting of Communists , it gradually had to relinquish them .', \"Prince Souvanna Phouma , leader of the nation's neutralists and recognized as Premier by the Communist bloc , and Prince Souphanouvong , head of the pro-Communist Pathet Lao forces .\", \"Princess Moune , Prince Souvanna Phouma's young daughter , read the Princes' statement .\"]\n",
            "\n",
            "Cluster  136\n",
            "['The President has also called upon the Attorney General , the Secretary of Health , Education and Welfare , and the Secretary of Labor to coordinate their efforts `` in the development of a program of federal leadership to assist states and local communities in their efforts to cope with the problem .', 'Simultaneously the President announced Thursday the appointment of David L. Hackett , a special assistant to the Attorney General , as executive director of the new Committee on Juvenile Delinquency and Youth Crime .', 'An assistant attorney general is directed to investigate .', 'Vincent G. Ierulli has been appointed temporary assistant district attorney , it was announced Monday by Charles E. Raymond , District Attorney .']\n",
            "\n",
            "Cluster  98\n",
            "['East Providence should organize its civil defense setup and begin by appointing a full-time director , Raymond H. Hawksley , the present city CD head , believes .', \"Mr. Hawksley , the state's general treasurer , has been a part-time CD director in the city for the last nine years .\", \"Noting that President Kennedy has handed the Defense Department the major responsibility for the nation's civil defense program , Mr. Hawksley said the federal government would pay half the salary of a full-time local director .\", 'He expressed the opinion the city could hire a CD director for about $3,500 a year and would only have to put up half that amount on a matching fund basis to defray the salary costs .', 'Mr. Hawksley said he believed there are a number of qualified city residents who would be willing to take the full-time CD job .', 'Along with a director , the city should provide a CD headquarters so that pertinent information about the local organization would be centralized .', 'If the city council fails to consider appointment of a full-time CD director , Mr. Hawksley said , then he plans to call a meeting early in September so that a civil defense organization will be developed locally .']\n",
            "\n",
            "Cluster  146\n",
            "[\"Mr. Hawksley said yesterday he would be willing to go before the city council `` or anyone else locally '' to outline his proposal at the earliest possible time .\", 'Mr. Hawksley said .', 'Speaking of the present status of civil defense in the city , Mr. Hawksley said he would be willing to bet that not more than one person in a hundred would know what to do or where to go in the event of an enemy attack .', 'Mr. Hawksley said he was not critical of city residents for not knowing what to do or where to assemble in case of an air attack .']\n",
            "\n",
            "Cluster  173\n",
            "['East Providence now has no civil defense program .', 'One advantage that would come to the city in having a full-time director , he said , is that East Providence would become eligible to apply to the federal government for financial aid in purchasing equipment needed for a sound civil defense program .']\n",
            "\n",
            "Cluster  58\n",
            "['Mr. Hawksley believes that East Providence could use two more rescue trucks , similar to the CD vehicle obtained several years ago and now detailed to the Central Fire Station .', 'He would assign one of the rescue trucks to the Riverside section of the city and the other to the Rumford area .', 'The Narragansett Race Track grounds is one assembly point , he said , and a drive-in theater in Seekonk would be another .', 'Riverside residents would go to the Seekonk assembly point .']\n",
            "\n",
            "Cluster  76\n",
            "['Such vital information , he said , has to be made available to the public frequently and at regular intervals for residents to know .', \"`` We want to find out who knew about it '' , Pratt said .\", \"`` Certain people must have known about it '' .\", '`` Surveys show that one out of three Americans has vital contact with the church .']\n",
            "\n",
            "Cluster  30\n",
            "['Rhode Island is going to examine its Sunday sales law with possible revisions in mind .', 'There has been more activity across the state line in Massachusetts than in Rhode Island in recent weeks toward enforcement of the Sunday sales laws .', 'The statutes , similar in both the Bay State and Rhode Island and dating back in some instances to colonial times , severely limit the types of merchandise that may be sold on the Sabbath .', 'The Central Falls City Council expressed concern especially that more foods be placed on the eligible list and that neighborhood grocery and variety stores be allowed to do business on Sunday .', \"The only day they `` have a chance to compete with large supermarkets is on Sunday '' , the council's resolution said .\", \"It declares that Sunday sales licenses provide `` great revenue '' to the local government .\", \"The council advised the governor that `` large supermarkets , factory outlets and department stores not be allowed to do business '' on Sunday .\"]\n",
            "\n",
            "Cluster  172\n",
            "[\"The governor's move into the so-called `` blue law '' controversy came in the form of a letter to Miss Mary R. Grant , deputy city clerk of Central Falls .\", 'Mr. Notte was responding to a resolution adopted by the Central Falls City Council on July 10 and sent to the state house by Miss Grant .', \"The governor wrote Miss Grant that he has been concerned for some time `` with the continuous problem which confronts our local and state law enforcement officers as a result of the laws regulating Sunday sales '' .\"]\n",
            "\n",
            "Cluster  139\n",
            "['A copy was released to the press .', 'Day after day some new episode is reported .', 'It is expected to be reported out Tuesday , but this is a little uncertain .']\n",
            "\n",
            "Cluster  67\n",
            "['Liberals and conservatives in both parties -- Democratic and Republican -- should divorce themselves and form two independent parties , George H. Reama , nationally known labor-management expert , said here yesterday .', \"Mr. Reama , who retired as vice president of the American Screw Co. in 1955 said , `` Both parties in the last election told us that we need a five per cent growth in the gross national product -- but neither told us how to achieve it '' .\", 'Mr. Reama , far from really being retired , is engaged in industrial relations counseling .', 'The latter two are half-brothers .']\n",
            "\n",
            "Cluster  11\n",
            "['He suggested that a regrouping of forces might allow the average voter a better pull at the right lever for him on election day .', \"Sunday he had added , `` We can love Eisenhower the man , even if we considered him a mediocre president but there is nothing left of the Republican Party without his leadership '' .\", \"The former secretary of labor said he was proud to be an Eisenhower Republican `` and proud to have absorbed his philosophy '' while working in his adminstration .\", \"Mitchell said the closeness of the outcome in last fall's Presidential election did not mean that Eisenhower Republicanism was a dead issue .\", \"`` He is wrong to inject Eisenhower into this campaign '' , he said , `` because the primary is being waged on state issues and I will not be forced into re-arguing an old national campaign '' .\", 'Dumont spoke on the merit of having an open primary .', 'He then launched into what the issues should be in the campaign .', \"He said , `` We Democrats must resolve our issues on the test of what is right and just , and not what is expedient at the time '' .\", 'He said no matter what stand he takes it would be misconstrued that he was sympathetic to one or the other of the Republicans .', \"`` After the primary '' , he promised , `` I'll be explicit on where I stand to bring you a strong , dynamic administration .\"]\n",
            "\n",
            "Cluster  15\n",
            "[\"He said he was `` confessing that I was a member of the Socialist Party in 1910 '' .\", 'Some of my fellow workers were grooming me for an office in the Socialist Party .', 'He said that when he was a Socialist in 1910 , the party called for government operation of all utilities and the pooling of all resources .', \"Indicating the way in which he has turned his back on his 1910 philosophy , Mr. Reama said : `` A Socialist is a person who believes in dividing everything he does not own '' .\", \"-- At a gay party in the Kremlin for President Sukarno of Indonesia , Premier Khrushchev pulled out his pockets and said , beaming : `` Look , he took everything I had '' ! !\", 'Mr. Khrushchev was jesting in the expansive mood of the successful banker .']\n",
            "\n",
            "Cluster  82\n",
            "['That , he added , was when he was `` a very young man , a machinist and toolmaker by trade .', \"He steered me to the right track -- the free enterprise track '' .\", 'He also expanded and modernized the radio system with a central control station .', 'He called for a greater attraction of industry and a stop to the piracy of industry by Southern states , and a strong fight against discrimination in business and industry .']\n",
            "\n",
            "Cluster  64\n",
            "['William A. Martinelli , chairman of the Citizens Group of Johnston , transferred the petitions from his left hand to his right hand after the council voted to accept them at the suggestion of Council President Raymond Fortin Sr. .', 'He assured Mr. Martinelli and the council that he would study the correct method and report back to the council as soon as possible .', 'Mr. Martinelli said yesterday that the Citizens Group of Johnston will meet again July 24 to plan further strategy in the charter movement .', \"Martin , who has been in office in Washington , D. C. , for 13 months spoke at the council's annual meeting at the Multnomah Hotel .\", 'Martin called for patience on the part of Americans .']\n",
            "\n",
            "Cluster  157\n",
            "['A difference of opinion arose between Mr. Martinelli and John P. Bourcier , town solicitor , over the exact manner in which the vote is handled .', 'Mr. Martinelli has , in recent weeks , been of the opinion that a special town meeting would be called for the vote , while Mr. Bourcier said that a special election might be called instead .', 'Mr. Bourcier said that he had consulted several Superior Court justices in the last week and received opinions favoring both procedures .', 'The decision was made in Zurich by Prince Boun Oum , Premier of the pro-Western royal Government ; ;']\n",
            "\n",
            "Cluster  133\n",
            "[\"`` After inspiring this , I think we should certainly follow through on it '' , he declared .\", \"`` It has become our responsibility and I hope that the Citizens Group will spearhead the movement '' .\", \"`` Our most immediate goal is to increase public awareness of the movement '' , he indicated , `` and to tell them what this will mean for the town '' .\", 'I think everybody is agreed that we need to hear some voice on the national level that would make some sense and in which we would have some confidence in following .']\n",
            "\n",
            "Cluster  42\n",
            "[\"-- James P. Mitchell and Sen. Walter H. Jones R-Bergen , last night disagreed on the value of using as a campaign issue a remark by Richard J. Hughes , Democratic gubernatorial candidate , that the GOP is `` Campaigning on the carcass of Eisenhower Republicanism '' .\", 'The controversial remark was first made Sunday by Hughes at a Westfield Young Democratic Club cocktail party at the Scotch Plains Country Club .', 'Hughes said Monday , `` It is the apparent intention of the Republican Party to campaign on the carcass of what they call Eisenhower Republicanism , but the heart stopped beating and the lifeblood congealed after Eisenhower retired .', 'Jones said he regretted Hughes had made a personal attack on a past president .', '`` I think that all Americans will resent deeply the statements made about President Eisenhower by Richard J. Hughes .', \"It can only rebound to Mr. Hughes' discredit '' .\", \"-- Richard J. Hughes made his Morris County debut in his bid for the Democratic gubernatorial nomination here last night with a pledge `` to carry the issues to every corner of the state '' .\", 'In his only attack on the Republicans , Hughes said , `` The three Republican candidates for governor are tripping over their feet for popular slogans to win the primary .', \"Calling the Democrats the `` party that lives , breathes and thinks for the good of the people '' , Hughes asked , `` a representative Democratic vote in the primary for a springboard toward victory in November '' .\"]\n",
            "\n",
            "Cluster  20\n",
            "[\"It was greeted with a chorus of boos by 500 women in Trenton Monday at a forum of the State Federation of Women's Clubs .\", 'Each member would get one post for each 10,000,000 people in its population up to 150,000,000 people or a maximum of fifteen posts .', 'Each member with a population above 150,000,000 would get one additional post for each additional 30,000,000 people up to an unspecified cut-off point .', 'In the early spring of 1913 a few hundred thousand persons turned out to watch 5000 women parade .']\n",
            "\n",
            "Cluster  108\n",
            "[\"Now he's gone , the Republican Party is not going to be able to sell the tattered remains to the people of the state '' .\", 'Noting that Plainfield last year had lost the Mack Truck Co. plant , he said industry will not come into this state until there is tax reform .', \"We'll not talk out of one side of our mouth in Morris County and out of the other side in Hudson .\", \"He said `` Morris County is rapidly changing and unless steps are taken to preserve the green areas , there will be no land left to preserve '' .\"]\n",
            "\n",
            "Cluster  128\n",
            "['Mitchell said the statement should become a major issue in the primary and the fall campaign .', \"Mitchell decried the high rate of unemployment in the state and said the Meyner administration and the Republican-controlled State Senate `` Must share the blame for this '' .\", 'He said Mitchell is against the centralization of government in Washington but looks to the Kennedy Administration for aid to meet New Jersey school and transportation crises .', \"The state is now faced with the immediate question of raising new taxes whether on utilities , real estate or motor vehicles , he said , `` and I challenge Mitchell to tell the people where he stands on the tax issue '' .\", 'Earlier , Mitchell said in a statement :', 'Sandman said : `` The announcement that Sen. Clifford Case Aj , has decided to spend all his available time campaigning for Mr. Mitchell is a dead giveaway .', '`` We have witnessed in this campaign the effort to project Mr. Mitchell as the image of a unity candidate from Washington .', \"`` We are now witnessing an effort to transfer to Mr. Mitchell some of the glow of Sen. Case's candidacy of last year .\"]\n",
            "\n",
            "Cluster  72\n",
            "[\"`` He calls for help while saying he is against centralization , but you can't have it both ways '' , Jones said .\", 'Sees Jones ahead', 'Sen. Charles W. Sandman , R-Cape May , said today Jones will run well ahead of his GOP opponents for the gubernatorial nomination .', 'Sandman , state campaign chairman for Jones , was addressing a meeting in the Military Park Hotel , Newark , of Essex County leaders and campaign managers for Jones .', \"Sandman told the gathering that reports from workers on a local level all over the state indicate that Jones will be chosen the Republican Party's nominee with the largest majority given a candidate in recent years .\"]\n",
            "\n",
            "Cluster  26\n",
            "[\"It is a desperate effort to prop up a sagging candidate who has proven he cannot answer any questions about New Jersey's problems .\", 'The candidacy of Mayor James J. Sheeran of West Orange , for the Republican nomination for sheriff of Essex County , was supported today by Edward W. Roos , West Orange public safety commissioner .', \"Sheeran , a lawyer and former FBI man is running against the Republican organization's candidate , Freeholder William MacDonald , for the vacancy left by the resignation of Neil Duffy , now a member of the State Board of Tax Appeals .\", 'Screvane and Beame hailed', 'The Mayor declined in two interviews with reporters yesterday to confirm or deny the reports that he had decided to run and wanted Mr. Screvane , who lives in Queens , to replace Abe Stark , the incumbent , as the candidate for President of the City Council and Mr. Beame , who lives in Brooklyn , to replace Mr. Gerosa as the candidate for Controller .', 'This is largely because of the unpredictability of the man who operates the helm of the state government and is the elected leader of its two million inhabitants -- Gov. Ross Barnett .', 'Incumbent Richard Salter seeks re-election and is opposed by Donald Huffman for the five-year term .', 'Incumbent William Brod is opposed in his re-election bid by Barbara Njust , Miles C. Bubenik and Frank Lee .']\n",
            "\n",
            "Cluster  170\n",
            "['That failed .', \"That , too , will fail '' .\"]\n",
            "\n",
            "Cluster  156\n",
            "['Sandman announced the appointment of Mrs. Harriet Copeland Greenfield of 330 Woodland Ave. , Westfield , as state chairman of the Republican Women for Jones Committee .', \"Mrs. Greenfield is president of the Westfield Women's Republican Club and is a Westfield county committeewoman .\", 'Mining is secretary-treasurer of the local and Shiflett is a member of its executive committee .']\n",
            "\n",
            "Cluster  107\n",
            "['County Supervisor Weldon R. Sheets , who is a candidate for the Democratic gubernatorial nomination , today called for an end to paper ballots in those counties in the state which still use them .', \"The proposal , Sheets said , represents part of his program for election reforms necessary to make democracy in New Jersey more than a `` lip service word '' .\", 'Sheets said that his proposed law would offer state financing aid for the purchase of voting machines , enabling counties to repay the loan over a 10-year period without interest or charge .', 'Sheets added that he would ask for exclusive use of voting machines in the state by January , 1964 .']\n",
            "\n",
            "Cluster  34\n",
            "[\"Jim Sheeran fits that description '' .\", \"`` It's ' See Joe , see Jim ' '' , he says .\", 'Missionary explains', \"`` I'm a missionary '' .\"]\n",
            "\n",
            "Cluster  74\n",
            "[\"`` We must keep the bloodstream of New Jersey clean '' , the former Superior Court judge said .\", 'Future clouded', 'Now , the picture is clouded , and even US Sens. James O. Eastland and John C. Stennis , who remained loyal to the ticket , are uncertain of their status .']\n",
            "\n",
            "Cluster  125\n",
            "[\"`` To prevent hoodlums from infiltrating the state as they did in the Republican administration in the early 1940s '' .\", 'Hood flies over house', 'The explosion sent the hood of the car flying over the roof of the house .']\n",
            "\n",
            "Cluster  149\n",
            "[\"Hughes supported Gov. Meyner's `` Green Acres '' plan for saving large tracts of open land from the onrush of urban development .\", 'Conservation plan', \"Hughes said , `` This is not a plan to conquer space -- but to conserve it '' , pointing out the state population has increased 125,000 each year since 1950 .\", 'Four parks planned', \"It is designated as Stage 1 Residential on the Redevelopment Authority's master plan and will feature row houses , garden apartments , four small parks , schools , churches , a shopping center and several small clusters of stores .\"]\n",
            "\n",
            "Cluster  147\n",
            "[\"She also was the original GOP national committeewoman from New Jersey in the early 1920s following adoption of the women's suffrage amendment .\", 'They were the suffragettes and they wanted to vote .', 'In the 1920 presidential election they had that right and many of them did vote for the first time .']\n",
            "\n",
            "Cluster  46\n",
            "['Resentment welled up yesterday among Democratic district leaders and some county leaders at reports that Mayor Wagner had decided to seek a third term with Paul R. Screvane and Abraham D. Beame as running mates .', \"The resentment among Democratic organization leaders to the reported Wagner plan was directed particularly at the Mayor's efforts to name his own running mates without consulting the leaders .\", 'Some viewed this attempt as evidence that Mr. Wagner regarded himself as bigger than the party .', 'Some Democratic district and county leaders are reported trying to induce State Controller Arthur Levitt of Brooklyn to oppose Mr. Wagner for the Mayoral nomination in the Sept. 7 Democratic primary .', 'These contend there is a serious question as to whether Mr. Wagner has the confidence of the Democratic rank and file in the city .', 'Wagner said the city paid only $37,500 to the Hughes company .', \"Wagner replied , `` Can't you just see the headline : ' City Hooked for $172,000 ' '' ? ?\"]\n",
            "\n",
            "Cluster  120\n",
            "['In an apparent effort to head off such a rival primary slate , Mr. Wagner talked by telephone yesterday with Representative Charles A. Buckley , the Bronx Democratic leader , and with Joseph T. Sharkey , the Brooklyn Democratic leader .', 'Mayor visits Buckley', \"Last night the Mayor visited Mr. Buckley at the Bronx leader's home for a discussion of the situation .\", \"Apparently he believes Mr. Buckley holds the key to the Democratic organization's acceptance of his choices for running mates without a struggle .\", \"In talks with Mr. Buckley last week in Washington , the Mayor apparently received the Bronx leader's assent to dropping Controller Lawrence E. Gerosa , who lives in the Bronx , from this year's ticket .\", \"But Mr. Buckley seems to have assumed he would be given the right to pick Mr. Gerosa's successor .\"]\n",
            "\n",
            "Cluster  19\n",
            "['The Mayor spoke yesterday at the United Irish Counties Feis on the Hunter College Campus in the Bronx .', 'In this historic square are several statues , but the one that stands out over the others is that of Gen. Andrew Jackson , hero of the Battle of New Orleans .', 'Jackson , Miss.', 'Salem ( AP )', 'Oak Grove ( special )']\n",
            "\n",
            "Cluster  143\n",
            "['Mr. Trimble has been in the hospital but is expected back Tuesday .', 'Victim of the accident was Robert Lee Stansbery , 39 .', 'He was in Baptist Memorial hospital .']\n",
            "\n",
            "Cluster  106\n",
            "['About half of all Peace Corps projects assigned to voluntary agencies will be carried out by religious groups , according to an official of the corps .', 'Can religious agencies use Government funds and Peace Corps personnel in their projects and still preserve the constitutional requirement on separation of church and state ? ?', 'No religious group , he declared in an interview , will receive Peace Corps funds unless it forswears all proselytizing on the project it proposes .']\n",
            "\n",
            "Cluster  10\n",
            "['Twelve projects proposed by private groups are at the contract-negotiation stage , Gordon Boyce , director of relations with the voluntary agencies , said in a Washington interview .', \"The Controller's charge of rigging was the latest development in an investigation which also brought these disclosures Tuesday :\", 'The contract violations mostly involve failure to perform rehabilitation work on expansion joints along the El track .', 'The contract called for overhauling of 102 joints .', 'Wide range in bids', 'Martin said the government has been working to establish firmer prices on primary products which may involve the total income of one country .']\n",
            "\n",
            "Cluster  79\n",
            "['Six of these were proposed by religious groups .', 'A stronger stand on their beliefs and a firmer grasp on their future were taken Friday by delegates to the 29th general council of the Assemblies of God , in session at the Memorial Coliseum .', \"The council revised , in an effort to strengthen , the denomination's 16 basic beliefs adopted in 1966 .\", 'The changes , unanimously adopted , were felt necessary in the face of modern trends away from the Bible .', 'The council agreed it should more firmly state its belief in and dependence on the Bible .', 'however , the first belief stood for entire revision with a new third point added to the list .', 'The first of 16 beliefs of the denomination , now reads :', \"`` The scriptures , both Old and New Testament , are verbally inspired of God and are the revelation of God to man , the infallible , authoritative rule of faith and conduct '' .\", 'The third belief , in six points , emphasizes the Diety of the Lord Jesus Christ , and :']\n",
            "\n",
            "Cluster  96\n",
            "['Last month in Ghana an American missionary discovered when he came to pay his hotel bill that the usual rate had been doubled .', 'Samuel D. Goodis , representing the Philadelphia Hotel Association , objected on Tuesday to a proposed boost by the city in licensing fees , saying that occupancy rates in major hotels here ranged from 48 to 74 percent last year .', 'For hotels with 1000 rooms , the increased license fee would mean an expense of $5000 a year , Goodis said .', 'The ordinance would increase the fee for rooming houses , hotels and multi-family dwellings to $5 a room .', 'Goodis said that single rooms account for 95 percent of the accomodations in some hotels .', 'The city expects the higher rooming house , hotel and apartment house fees to bring in an additional $457,000 a year .']\n",
            "\n",
            "Cluster  138\n",
            "['When he protested , the hotel owner said :', 'The hotel owner shrugged .']\n",
            "\n",
            "Cluster  166\n",
            "['Indonesia is one of the twenty under-developed countries of Asia , Africa and Latin America that are receiving Soviet aid .', 'The Soviet Union and other members of the Communist bloc are rapidly expanding their economic , technical and military assistance to the uncommitted nations .', 'The Communist countries allocated more than $1,000,000,000 in economic aid alone last year , according to Western estimates .', 'This was the biggest annual outlay since the Communist program for the under-developed countries made its modest beginning in 1954 .', 'In 1960 more than 6,000 Communist technicians were present in those countries .']\n",
            "\n",
            "Cluster  169\n",
            "['An agreement among the Princes on a coalition government would ease their task , diplomats conceded .', 'The Princess said it was too early to say what would be decided if no agreement was reached after three days .', \"An agreement between the leaders of four parties which contested indecisive elections on Oct. 15 was reached after almost 18 hours of political bargaining under the threat of an army coup d'etat .\", 'Party leaders came out of the final meeting apparently satisfied and stated that complete agreement had been reached on a solution to the crisis created by the elections which left no party with enough strength to form a government on its own .']\n",
            "\n",
            "Cluster  141\n",
            "['The pace of the talks has slowed with each passing week .', 'Legislators weary', 'Many legislators are already weary and frustrated over the so-far losing battle to block token integration .', \"Talking of the rapid population growth ( upwards of 12,000 babies born daily ) with an immigrant entering the United States every 1-1/2 minutes , he said `` our organization has not been keeping pace with this challenge '' .\"]\n",
            "\n",
            "Cluster  134\n",
            "['Appointment of William S. Pfaff Jr. , 41 , as promotion manager of The Times-Picayune Publishing Company was announced Saturday by John F. Tims , president of the company .', 'Pfaff succeeds Martin Burke , who resigned .', 'The new promotion manager has been employed by the company since January , 1946 , as a commercial artist in the advertising department .', 'From June , 1942 , until December , 1945 , Pfaff served in the Army Air Corps .', 'Before entering the service , Pfaff for five years did clerical work with a general merchandising and wholesale firm in New Orleans .']\n",
            "\n",
            "Cluster  54\n",
            "['-- Thousands of bleacher-type seats are being erected along Pennsylvania Avenue between the Capitol and the White House for the big inaugural parade on Jan. 20 .', 'Assuming the weather is halfway decent that day , hundreds of thousands of persons will mass along this thoroughfare as President John F. Kennedy and retiring President Dwight D. Eisenhower leave Capitol Hill following the oath-taking ceremonies and ride down this historic ceremonial route .', 'Pennsylvania Avenue , named for one of the original 13 states , perhaps is not the most impressive street in the District of Columbia from a commercial standpoint .', 'Many buildings', \"Within view of the avenue are some of the United States government's tremendous buildings , plus shrines and monuments .\", 'Of course , 1600 Pennsylvania , the White House , is the most famous address of the free world .', 'Within an easy walk from Capitol Hill where Pennsylvania Avenue comes together with Constitution Avenue , begins a series of great federal buildings , some a block long and all about seven-stories high .', 'Great chapters of history have been recorded along the avenue , now about 169 years old .', \"Along this avenue which saw marching soldiers from the War Between the States returning in 1865 is the National Archives building where hundreds of thousands of this country's most valuable records are kept .\", 'Street car tracks run down the center of Pennsylvania , powered with lines that are underground .']\n",
            "\n",
            "Cluster  130\n",
            "['Seats on square', 'Many spectators will be occupying seats and vantage points bordering Lafayette Square , opposite the White House .', 'Moving past the presidential viewing stand and Lafayette Square will be at least 40 marching units .']\n",
            "\n",
            "Cluster  70\n",
            "['About 16,000 military members of all branches of the armed forces will take part in the parade .', 'Division one of the parade will be the service academies .', 'Division three will be headed by the Marines followed by 12 states ; ;', 'division four will be headed by the Navy , followed by 11 states ; ;', 'division five , by the Air Force followed by 11 states .', 'Division six will be headed by the Coast Guard , followed by the reserve forces of all services , five states , Puerto Rico , the Virgin Islands , Guam , American Samoa , the trust territories and the Canal Zone .']\n",
            "\n",
            "Cluster  77\n",
            "['-- What does 1961 offer in political and governmental developments in Mississippi ? ?', \"Mississippi's relations with the national Democratic party will be at a crossroads during 1961 , with the first Democratic president in eight years in the White House .\", 'Split badly during the recent presidential election into almost equally divided camps of party loyalists and independents , the Democratic party in Mississippi is currently a wreck .', 'With a Democratic administration , party patronage would normally begin to flow to Mississippi if it had held its Democratic solidarity in the November election .', 'Reports are that it is more than probable that the four congressmen from Mississippi who did not support the party ticket will be stripped of the usual patronage which flows to congressmen .']\n",
            "\n",
            "Cluster  132\n",
            "['Barnett , who came into office with no previous experience in public administration , has surrounded himself with confusion which not only keeps his foes guessing but his friends as well .', 'Consequently , it is uncertain after nearly 12 months in office just which direction the Barnett administration will take in the coming year .', \"The builtin headache of the Barnett regime thus far has been the steady stream of job-seekers and others who feel they were given commitments by Barnett at some stage of his eight-year quest for the governor's office .\", 'There are many who predict that should Barnett decide to call the Legislature back into special session , it will really throw his administration into a scramble .', \"Certainly nobody will predict that the next time the lawmakers come back together Barnett will be able to enjoy a re-enactment of the strange but successful `` honeymoon '' he had in the 1960 legislative session .\", \"If Barnett doesn't call a special session in 1961 , it will be the first year in the last decade that the Legislature has not met in regular or special session .\", 'Barnett is not expected to be able to withstand the pressure .', 'Barnett , as the titular head of the Democratic party , apparently must make the move to reestablish relations with the national Democratic party or see a movement come from the loyalist ranks to completely bypass him as a party functionary .']\n",
            "\n",
            "Cluster  66\n",
            "['Actually , Davis would have to toss in the towel soon anyway .', 'The prospect of cutting back spending is an unpleasant one for any governor .', 'But if all alternatives should be clearly blocked off , it can be expected the Davis administration will take steps to trim spending at the spring session of the state Legislature .', 'A constant problem confronting Davis on any proposals for new taxes will be the charge by his foes that he has not tried to economize .', 'The new year might see some house-cleaning , either genuine or token , depending upon developments , to give Davis an opportunity to combat some of these criticisms .']\n",
            "\n",
            "Cluster  127\n",
            "[\"City Controller Alexander Hemphill charged Tuesday that the bids on the Frankford Elevated repair project were rigged to the advantage of a private contracting company which had `` an inside track '' with the city .\", \"Hemphill said that the Hughes Steel Erection Co. contracted to do the work at an impossibly low cost with a bid that was far less than the `` legitimate '' bids of competing contractors .\", 'The city paid for work on 75 , of which no more than 21 were repaired , Hemphill charged .', 'Hemphill said the Hughes concern contracted to do the repairs at a cost of $500 for each joint .', 'The bid from A. Belanger and Sons of Cambridge , Mass. , which listed the same officers as Hughes , was $600 per joint .', 'But , Hemphill added , bids from other contractors ranged from $2400 to $3100 per joint .']\n",
            "\n",
            "Cluster  116\n",
            "['Shortcuts unnoticed', \"The Hughes concern then took `` shortcuts '' on the project but got paid anyway , Hemphill said .\"]\n",
            "\n",
            "Cluster  93\n",
            "['The city has sued for the full amount of the $172,400 performance bond covering the contract .', 'The announcement that the city would sue for recovery on the performance bond was made by City Solicitor David Berger at a press conference following a meeting in the morning with Wagner and other officials of the city and the PTC as well as representatives of an engineering firm that was pulled off the El project before its completion in 1959 .', \"Berger's decision to sue for the full amount of the performance bond was questioned by Wagner in the morning press conference .\", \"`` We can claim on the maximum amount of the bond '' , Berger said .\"]\n",
            "\n",
            "Cluster  115\n",
            "['The Philadelphia Transportation Co. is investigating the part its organization played in reviewing the project .', 'Douglas M. Pratt , president of the PTC , who attended the meeting , said the transit company is reviewing the work on the El .', \"`` The PTC is investigating the whole matter '' , Pratt said .\"]\n",
            "\n",
            "Cluster  155\n",
            "['The signature of Harold V. Varani , former director of architecture and engineering in the Department of Public Property , appeared on payment vouchers certifying work on the project .', 'Varani has been fired on charges of accepting gifts from the contractor .']\n",
            "\n",
            "Cluster  131\n",
            "['Concern bankrupt', 'The Hughes company and the Consolidated Industries , Inc. , both of 3646 N. 2d St. , filed for reorganization under the Federal bankruptcy law .', 'On Monday , the Hughes concern was formally declared bankrupt after its directors indicated they could not draw up a plan for reorganization .', 'The suit was filed later in the day in Common Pleas Court 7 against the Hughes company and two bonding firms .', \"At Berger's direction , the city also intervened in the Hughes bankruptcy case in U. S. District Court in a move preliminary to filing a claim there .\"]\n",
            "\n",
            "Cluster  171\n",
            "[\"`` We won't know the full amount until we get a full report '' , Wagner said .\", \"' know enough to sue '\", \"Berger insisted that `` we know enough to sue for the full amount '' .\"]\n",
            "\n",
            "Cluster  92\n",
            "['A proposal to raise dog license fees drew an objection from Councilwoman Virginia Knauer , who formerly raised pedigreed dogs .', 'The ordinance would increase fees from $1 for males and $2 for females to a flat $5 a dog .', \"Mrs. Knauer said she did not think dog owners should be penalized for the city's services to animal care .\", 'In reply , Deputy Police Commissioner Howard R. Leary said that the city spends more than $115,000 annually to license and regulate dogs but collects only $43,000 in fees .', '$15,000 to pay six policemen assigned as dog catchers and $15,000 to investigate dog bites .']\n",
            "\n",
            "Cluster  112\n",
            "[\"Petitions asking for a jail term for Norristown attorney Julian W. Barnard will be presented to the Montgomery County Court Friday , it was disclosed Tuesday by Horace A. Davenport , counsel for the widow of the man killed last Nov. 1 by Barnard's hit-run car .\", \"Barnard , who pleaded no defense to manslaughter and hit-run charges , was fined $500 by Judge Warren K. Hess , and placed on two years' probation providing he does not drive during that time .\", 'His widow started the circulation of petitions after Barnard was reprimanded for violating the probation .']\n",
            "\n",
            "Cluster  167\n",
            "['He was caught driving the day after the sentence was pronounced and given a warning .', 'The battalion chief said he had just gotten into his 1958 model automobile to move it from the driveway of his home so that he could take his other car to work .', \"`` I'd just turned on the ignition when there was a big flash and I was lying on the driveway '' , he said .\", 'The left front wheel landed 100 feet away .']\n",
            "\n",
            "Cluster  122\n",
            "['The City Planning Commission on Tuesday approved agreements between two redevelopers and the Redevelopment Authority for the purchase of land in the $300,000,000 Eastwick Redevelopment Area project .', 'One of the agreements calls for the New Eastwick Corp. to purchase a 1311 acre tract for $12,192,865 .', 'The second agreement permits the authority to sell a 520-acre tract west of Stage 1 Residential to Philadelphia Builders Eastwick Corp. , a firm composed of 10 Philadelphia area builders , which is interested in developing part of the project .']\n",
            "\n",
            "Cluster  27\n",
            "['The commission also approved a novel plan that would eliminate traffic hazards for pedestrians in the project .', 'The plan for eliminating traffic hazards for pedestrians was developed by Dr. Constantinos A. Doxiadis , former Minister of Reconstruction in Greece and a consulting planner for the New Eastwick Corp. .', 'The plan calls for dividing the project into 16 sectors which would be barred to vehicular traffic .', 'It provides for a series of landscaped walkways and a central esplanade that would eventually run through the center of the entire two-and-a-half-mile length of the project .', 'The esplanade eliminates Grovers Ave. , which on original plans ran through the center of the development .', 'The esplanade would feature pedestrian bridges over roads in the project .']\n",
            "\n",
            "Cluster  160\n",
            "['Battalion Chief Stanton M. Gladden , 42 , the central figure in a representation dispute between the fire fighters association and the teamsters union , suffered multiple fractures of both ankles .', \"Gladden's wife and two of his sons , John , 17 , and Jim , 13 , were inside the house .\", 'Gladden had been the target of threatening telephone calls in recent months and reportedly received one last night .', \"Gladden has been an outspoken critic of the present city administration and led his union's battle against the teamsters , which began organizing city firemen in 1959 .\", \"The association said it would post 24 hour guards at Gladden's home and at those of James Mining and Eugene Shiflett .\"]\n",
            "\n",
            "Cluster  100\n",
            "['-- Turkish political leaders bowed today to military pressure and agreed to form an emergency national front government with Gen. Cemal Gursel as president .', 'By-passing the military junta which has ruled Turkey since the overthrow of Premier Adnan Menderes 17 months ago , the army general staff , led by Gen. Cedvet Sunay , had set a deadline for the parties to join in a national coalition government .', 'The army leaders threatened to form a new military government if the parties failed to sign an eight point protocol agreeing on Gen. Gursel as president .', 'Gen. Gursel has headed the military junta the last 17 months .']\n",
            "\n",
            "Cluster  60\n",
            "['Helping foreign countries to build a sound political structure is more important than aiding them economically , E. M. Martin , assistant secretary of state for economic affairs told members of the World Affairs Council Monday night .', \"He told some 350 persons that the United States' challenge was to help countries build their own societies their own ways , following their own paths .\", 'By leaving our doors open the United States gives other peoples the opportunity to see us and to compare , he said .', 'Economically , Martin said , the United States could best help foreign countries by helping them help themselves .', \"The United States must plan to absorb the exported goods of the country , at what he termed a `` social cost '' .\"]\n",
            "\n",
            "Cluster  33\n",
            "[\"The Portland school board was asked Monday to take a positive stand towards developing and coordinating with Portland's civil defense more plans for the city's schools in event of attack .\", 'But there seemed to be some difference of opinion as to how far the board should go , and whose advice it should follow .', 'The board members , after hearing the coordination plea from Mrs. Ralph H. Molvar , 1409 SW Maplecrest Dr. , said they thought they had already been cooperating .', 'Chairman C. Richard Mears pointed out that perhaps this was not strictly a school board problem , in case of atomic attack , but that the board would cooperate so far as possible to get the children to where the parents wanted them to go .', \"Dr. Melvin W. Barnes , superintendent , said he thought the schools were waiting for some leadership , perhaps on the national level , to make sure that whatever steps of planning they took would `` be more fruitful '' , and that he had found that other school districts were not as far along in their planning as this district .\", \"Mrs. Molvar asked again that the board join in taking a stand in keeping with Jack Lowe's program .\", 'The board said it thought it had gone as far as instructed so far and asked for more information to be brought at the next meeting .', 'It was generally agreed that the subject was important and the board should be informed on what was done , is going to be done and what it thought should be done .', 'Beaverton School District No. 48 board members examined blueprints and specifications for two proposed junior high schools at a Monday night workshop session .', 'Last week the board , by a 4 to 3 vote , decided to ask voters whether they prefer the 6-3-3 ( junior high school ) system or the 8-4 system .']\n",
            "\n",
            "Cluster  163\n",
            "[\"`` Los Angeles has said they would send the children to their homes in case of disaster '' , he said .\", '`` Nobody really expects to evacuate .', \"Dr. Barnes said that there seemed to be feeling that evacuation plans , even for a high school where there were lots of cars `` might not be realistic and would not work '' .\"]\n",
            "\n",
            "Cluster  8\n",
            "['-- The statewide meeting of war mothers Tuesday in Salem will hear a greeting from Gov. Mark Hatfield .', 'Hatfield also is scheduled to hold a public United Nations Day reception in the state capitol on Tuesday .', 'His schedule calls for a noon speech Monday in Eugene at the Emerald Empire Kiwanis Club .', 'He will speak to Willamette University Young Republicans Thursday night in Salem .', 'He will attend a meeting of the Republican State Central Committee Saturday in Portland and see the Washington-Oregon football game .', 'Secretary of Labor Arthur Goldberg will speak Sunday night at the Masonic Temple at a $25-a-plate dinner honoring Sen. Wayne L. Morse , Aj .', 'The dinner is sponsored by organized labor and is scheduled for 7 p.m. .', 'Secretary Goldberg and Sen. Morse will hold a joint press conference at the Roosevelt Hotel at 4:30 p.m. Sunday , Blaine Whipple , executive secretary of the Democratic Party of Oregon , reported Tuesday .', 'Other speakers for the fund-raising dinner include Reps. Edith Green and Al Ullman , Labor Commissioner Norman Nilsen and Mayor Terry Schrunk , all Democrats .']\n",
            "\n",
            "Cluster  78\n",
            "[\"At the adoption , the Rev. T. F. Zimmerman , general superintendent , commented , `` The Assemblies of God has been a bulwark for fundamentalism in these modern days and has , without compromise , stood for the great truths of the Bible for which men in the past have been willing to give their lives '' .\", 'Friday afternoon the Rev. T. F. Zimmerman was reelected for his second consecutive two-year term as general superintendent of Assemblies of God .', \"Friday night the delegates heard the need for their forthcoming program , `` Breakthrough '' scheduled to fill the churches for the next two years .\", \"In his opening address Wednesday the Rev. Mr. Zimmerman , urged the delegates to consider a 10-year expansion program , with `` Breakthrough '' the theme for the first two years .\"]\n",
            "\n",
            "Cluster  123\n",
            "['-- emphasizes the Virgin birth', '-- the sinless life of Christ', '-- His miracles', '-- His substitutionary work on the cross', '-- His bodily resurrection from the dead', '-- and His exaltation to the right hand of God .']\n",
            "\n"
          ]
        }
      ],
      "source": [
        "nltk.download('brown')\n",
        "from nltk.corpus import brown\n",
        "corpus = brown.sents(categories='news')[:1000]\n",
        "corpus = [' '.join(i) for i in corpus]\n",
        "print(corpus[:2])\n",
        "\n",
        "corpus_embeddings = embedder.encode(corpus)\n",
        "\n",
        "# Normalize the embeddings to unit length\n",
        "corpus_embeddings = corpus_embeddings /  np.linalg.norm(corpus_embeddings, axis=1, keepdims=True)\n",
        "\n",
        "# Perform kmean clustering\n",
        "clustering_model = AgglomerativeClustering(n_clusters=None, distance_threshold=1.5) #, affinity='cosine', linkage='average', distance_threshold=0.4)\n",
        "clustering_model.fit(corpus_embeddings)\n",
        "cluster_assignment = clustering_model.labels_\n",
        "\n",
        "clustered_sentences = {}\n",
        "for sentence_id, cluster_id in enumerate(cluster_assignment):\n",
        "    if cluster_id not in clustered_sentences:\n",
        "        clustered_sentences[cluster_id] = []\n",
        "\n",
        "    clustered_sentences[cluster_id].append(corpus[sentence_id])\n",
        "\n",
        "for i, cluster in clustered_sentences.items():\n",
        "    print(\"Cluster \", i+1)\n",
        "    print(cluster)\n",
        "    print(\"\")"
      ]
    },
    {
      "cell_type": "code",
      "source": [],
      "metadata": {
        "id": "PTr7gb4wulj3"
      },
      "execution_count": null,
      "outputs": []
    }
  ],
  "metadata": {
    "colab": {
      "collapsed_sections": [
        "rKtcL0CYn2n_",
        "C2IElpuJ76o0",
        "BHC9ShM-IX7E",
        "KK7YbNCyJaqk",
        "Wao4NivXGPIM",
        "A1wbWizrJ5CE",
        "x9hzsg0CUQZ_",
        "mhS_Y6qgqW4Z",
        "wRb0HnWqVCDL",
        "hQg7l284V0oa",
        "qbGSRVPxjaT_",
        "cdoZKWxijmHk",
        "toHZ2o-Ljwwm",
        "QMbSmc52n-Ni",
        "hrXQ2d7OsmLl"
      ],
      "name": "Lab1_EPITA.ipynb",
      "provenance": [],
      "toc_visible": true,
      "include_colab_link": true
    },
    "kernelspec": {
      "display_name": "Python 3",
      "language": "python",
      "name": "python3"
    },
    "language_info": {
      "codemirror_mode": {
        "name": "ipython",
        "version": 3
      },
      "file_extension": ".py",
      "mimetype": "text/x-python",
      "name": "python",
      "nbconvert_exporter": "python",
      "pygments_lexer": "ipython3",
      "version": "3.9.5"
    },
    "vscode": {
      "interpreter": {
        "hash": "aee8b7b246df8f9039afb4144a1f6fd8d2ca17a180786b69acc140d282b71a49"
      }
    },
    "accelerator": "GPU",
    "gpuClass": "standard"
  },
  "nbformat": 4,
  "nbformat_minor": 0
}