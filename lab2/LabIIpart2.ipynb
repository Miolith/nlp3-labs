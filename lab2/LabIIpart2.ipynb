{
  "nbformat": 4,
  "nbformat_minor": 0,
  "metadata": {
    "colab": {
      "provenance": [],
      "include_colab_link": true
    },
    "kernelspec": {
      "name": "python3",
      "display_name": "Python 3"
    },
    "language_info": {
      "name": "python"
    },
    "accelerator": "GPU",
    "gpuClass": "standard"
  },
  "cells": [
    {
      "cell_type": "markdown",
      "metadata": {
        "id": "view-in-github",
        "colab_type": "text"
      },
      "source": [
        "<a href=\"https://colab.research.google.com/github/Miolith/nlp3-labs/blob/master/lab2/LabIIpart2.ipynb\" target=\"_parent\"><img src=\"https://colab.research.google.com/assets/colab-badge.svg\" alt=\"Open In Colab\"/></a>"
      ]
    },
    {
      "cell_type": "markdown",
      "source": [
        "II. Rotate two semantic spaces (23 points) - Not guided coding"
      ],
      "metadata": {
        "id": "EzlJYEfBwufl"
      }
    },
    {
      "cell_type": "code",
      "source": [
        "# our own MUSE fork, it doesn't seem to work on Colab otherwise\n",
        "!git clone https://github.com/Miolith/MUSE.git"
      ],
      "metadata": {
        "colab": {
          "base_uri": "https://localhost:8080/"
        },
        "id": "wNIV3Yj0wrUR",
        "outputId": "17634fef-008b-43ab-8d30-080b0319d289"
      },
      "execution_count": 1,
      "outputs": [
        {
          "output_type": "stream",
          "name": "stdout",
          "text": [
            "Cloning into 'MUSE'...\n",
            "remote: Enumerating objects: 239, done.\u001b[K\n",
            "remote: Counting objects: 100% (6/6), done.\u001b[K\n",
            "remote: Compressing objects: 100% (6/6), done.\u001b[K\n",
            "remote: Total 239 (delta 0), reused 1 (delta 0), pack-reused 233\u001b[K\n",
            "Receiving objects: 100% (239/239), 222.07 KiB | 22.21 MiB/s, done.\n",
            "Resolving deltas: 100% (134/134), done.\n"
          ]
        }
      ]
    },
    {
      "cell_type": "code",
      "source": [
        "!pip install faiss-gpu"
      ],
      "metadata": {
        "colab": {
          "base_uri": "https://localhost:8080/"
        },
        "id": "-xWqDbJc648x",
        "outputId": "f10f1fc8-a0ff-4971-c62a-c78defc47b7a"
      },
      "execution_count": 4,
      "outputs": [
        {
          "output_type": "stream",
          "name": "stdout",
          "text": [
            "Looking in indexes: https://pypi.org/simple, https://us-python.pkg.dev/colab-wheels/public/simple/\n",
            "Requirement already satisfied: faiss-gpu in /usr/local/lib/python3.8/dist-packages (1.7.2)\n"
          ]
        }
      ]
    },
    {
      "cell_type": "code",
      "source": [
        "!cd MUSE"
      ],
      "metadata": {
        "id": "MyoNAgw8N3al"
      },
      "execution_count": null,
      "outputs": []
    },
    {
      "cell_type": "code",
      "source": [
        "# English fastText Wikipedia embeddings\n",
        "!curl -Lo data/wiki.en.vec https://dl.fbaipublicfiles.com/fasttext/vectors-wiki/wiki.en.vec\n",
        "# French fastText Wikipedia embeddings\n",
        "!curl -Lo data/wiki.fr.vec https://dl.fbaipublicfiles.com/fasttext/vectors-wiki/wiki.fr.vec"
      ],
      "metadata": {
        "colab": {
          "base_uri": "https://localhost:8080/"
        },
        "id": "k9WZomcD2d03",
        "outputId": "826d8cf2-fe05-4a81-ef25-d029ebcaec3f"
      },
      "execution_count": 7,
      "outputs": [
        {
          "output_type": "stream",
          "name": "stdout",
          "text": [
            "[Errno 2] No such file or directory: 'MUSE'\n",
            "/content/MUSE\n",
            "  % Total    % Received % Xferd  Average Speed   Time    Time     Time  Current\n",
            "                                 Dload  Upload   Total   Spent    Left  Speed\n",
            "100 6291M  100 6291M    0     0  10.0M      0  0:10:23  0:10:23 --:--:-- 9916k\n",
            "  % Total    % Received % Xferd  Average Speed   Time    Time     Time  Current\n",
            "                                 Dload  Upload   Total   Spent    Left  Speed\n",
            "100 2886M  100 2886M    0     0  12.7M      0  0:03:45  0:03:45 --:--:-- 11.2M\n"
          ]
        }
      ]
    },
    {
      "cell_type": "code",
      "source": [
        "!python unsupervised.py --src_lang fr --tgt_lang en --src_emb data/wiki.fr.vec --tgt_emb data/wiki.en.vec --n_epochs 1 --exp_name \"fr_to_en\" --exp_path \"./\" --export \"\""
      ],
      "metadata": {
        "colab": {
          "base_uri": "https://localhost:8080/"
        },
        "id": "19JlxeBiD20o",
        "outputId": "34bb4b84-caf8-4b3b-f89d-bbc1f5eacb5c"
      },
      "execution_count": 8,
      "outputs": [
        {
          "output_type": "stream",
          "name": "stdout",
          "text": [
            "INFO - 01/10/23 14:49:01 - 0:00:00 - ============ Initialized logger ============\n",
            "INFO - 01/10/23 14:49:01 - 0:00:00 - adversarial: True\n",
            "                                     batch_size: 32\n",
            "                                     cuda: True\n",
            "                                     dico_build: S2T\n",
            "                                     dico_eval: default\n",
            "                                     dico_max_rank: 15000\n",
            "                                     dico_max_size: 0\n",
            "                                     dico_method: csls_knn_10\n",
            "                                     dico_min_size: 0\n",
            "                                     dico_threshold: 0\n",
            "                                     dis_clip_weights: 0\n",
            "                                     dis_dropout: 0.0\n",
            "                                     dis_hid_dim: 2048\n",
            "                                     dis_input_dropout: 0.1\n",
            "                                     dis_lambda: 1\n",
            "                                     dis_layers: 2\n",
            "                                     dis_most_frequent: 75000\n",
            "                                     dis_optimizer: sgd,lr=0.1\n",
            "                                     dis_smooth: 0.1\n",
            "                                     dis_steps: 5\n",
            "                                     emb_dim: 300\n",
            "                                     epoch_size: 1000000\n",
            "                                     exp_id: \n",
            "                                     exp_name: fr_to_en\n",
            "                                     exp_path: ./fr_to_en/owoqmmzp8s\n",
            "                                     export: \n",
            "                                     lr_decay: 0.98\n",
            "                                     lr_shrink: 0.5\n",
            "                                     map_beta: 0.001\n",
            "                                     map_id_init: True\n",
            "                                     map_optimizer: sgd,lr=0.1\n",
            "                                     max_vocab: 200000\n",
            "                                     min_lr: 1e-06\n",
            "                                     n_epochs: 1\n",
            "                                     n_refinement: 5\n",
            "                                     normalize_embeddings: \n",
            "                                     seed: -1\n",
            "                                     src_emb: data/wiki.fr.vec\n",
            "                                     src_lang: fr\n",
            "                                     tgt_emb: data/wiki.en.vec\n",
            "                                     tgt_lang: en\n",
            "                                     verbose: 2\n",
            "INFO - 01/10/23 14:49:01 - 0:00:00 - The experiment will be stored in ./fr_to_en/owoqmmzp8s\n",
            "INFO - 01/10/23 14:49:13 - 0:00:12 - Loaded 200000 pre-trained word embeddings.\n",
            "INFO - 01/10/23 14:49:30 - 0:00:28 - Loaded 200000 pre-trained word embeddings.\n",
            "INFO - 01/10/23 14:49:31 - 0:00:30 - ----> ADVERSARIAL TRAINING <----\n",
            "                                     \n",
            "                                     \n",
            "INFO - 01/10/23 14:49:31 - 0:00:30 - Starting adversarial training epoch 0...\n",
            "/content/MUSE/src/trainer.py:69: UserWarning: volatile was removed and now has no effect. Use `with torch.no_grad():` instead.\n",
            "  src_emb = self.src_emb(Variable(src_ids, volatile=True))\n",
            "/content/MUSE/src/trainer.py:70: UserWarning: volatile was removed and now has no effect. Use `with torch.no_grad():` instead.\n",
            "  tgt_emb = self.tgt_emb(Variable(tgt_ids, volatile=True))\n",
            "/content/MUSE/src/trainer.py:71: UserWarning: volatile was removed and now has no effect. Use `with torch.no_grad():` instead.\n",
            "  src_emb = self.mapping(Variable(src_emb.data, volatile=volatile))\n",
            "/content/MUSE/src/trainer.py:72: UserWarning: volatile was removed and now has no effect. Use `with torch.no_grad():` instead.\n",
            "  tgt_emb = Variable(tgt_emb.data, volatile=volatile)\n",
            "INFO - 01/10/23 14:49:34 - 0:00:33 - 000000 - Discriminator loss: 0.6843 - 23 samples/s\n",
            "INFO - 01/10/23 14:49:36 - 0:00:34 - 004000 - Discriminator loss: 0.6133 - 5394 samples/s\n",
            "INFO - 01/10/23 14:49:37 - 0:00:36 - 008000 - Discriminator loss: 0.5132 - 5620 samples/s\n",
            "INFO - 01/10/23 14:49:38 - 0:00:37 - 012000 - Discriminator loss: 0.5492 - 5461 samples/s\n",
            "INFO - 01/10/23 14:49:40 - 0:00:38 - 016000 - Discriminator loss: 0.5558 - 5622 samples/s\n",
            "INFO - 01/10/23 14:49:41 - 0:00:40 - 020000 - Discriminator loss: 0.5515 - 5553 samples/s\n",
            "INFO - 01/10/23 14:49:43 - 0:00:41 - 024000 - Discriminator loss: 0.5408 - 5517 samples/s\n",
            "INFO - 01/10/23 14:49:44 - 0:00:43 - 028000 - Discriminator loss: 0.5195 - 5554 samples/s\n",
            "INFO - 01/10/23 14:49:46 - 0:00:44 - 032000 - Discriminator loss: 0.5083 - 5476 samples/s\n",
            "INFO - 01/10/23 14:49:47 - 0:00:46 - 036000 - Discriminator loss: 0.4929 - 5572 samples/s\n",
            "INFO - 01/10/23 14:49:49 - 0:00:47 - 040000 - Discriminator loss: 0.4906 - 5451 samples/s\n",
            "INFO - 01/10/23 14:49:50 - 0:00:49 - 044000 - Discriminator loss: 0.4821 - 5636 samples/s\n",
            "INFO - 01/10/23 14:49:51 - 0:00:50 - 048000 - Discriminator loss: 0.4788 - 5550 samples/s\n",
            "INFO - 01/10/23 14:49:53 - 0:00:51 - 052000 - Discriminator loss: 0.4729 - 5585 samples/s\n",
            "INFO - 01/10/23 14:49:54 - 0:00:53 - 056000 - Discriminator loss: 0.4685 - 5611 samples/s\n",
            "INFO - 01/10/23 14:49:56 - 0:00:54 - 060000 - Discriminator loss: 0.4686 - 5545 samples/s\n",
            "INFO - 01/10/23 14:49:57 - 0:00:56 - 064000 - Discriminator loss: 0.4592 - 5641 samples/s\n",
            "INFO - 01/10/23 14:49:59 - 0:00:57 - 068000 - Discriminator loss: 0.4597 - 5598 samples/s\n",
            "INFO - 01/10/23 14:50:00 - 0:00:59 - 072000 - Discriminator loss: 0.4548 - 5645 samples/s\n",
            "INFO - 01/10/23 14:50:01 - 0:01:00 - 076000 - Discriminator loss: 0.4477 - 5589 samples/s\n",
            "INFO - 01/10/23 14:50:03 - 0:01:01 - 080000 - Discriminator loss: 0.4482 - 5533 samples/s\n",
            "INFO - 01/10/23 14:50:04 - 0:01:03 - 084000 - Discriminator loss: 0.4456 - 5598 samples/s\n",
            "INFO - 01/10/23 14:50:06 - 0:01:04 - 088000 - Discriminator loss: 0.4466 - 5573 samples/s\n",
            "INFO - 01/10/23 14:50:07 - 0:01:06 - 092000 - Discriminator loss: 0.4420 - 5611 samples/s\n",
            "INFO - 01/10/23 14:50:09 - 0:01:07 - 096000 - Discriminator loss: 0.4427 - 5552 samples/s\n",
            "INFO - 01/10/23 14:50:10 - 0:01:09 - 100000 - Discriminator loss: 0.4387 - 5639 samples/s\n",
            "INFO - 01/10/23 14:50:11 - 0:01:10 - 104000 - Discriminator loss: 0.4402 - 5605 samples/s\n",
            "INFO - 01/10/23 14:50:13 - 0:01:11 - 108000 - Discriminator loss: 0.4388 - 5601 samples/s\n",
            "INFO - 01/10/23 14:50:14 - 0:01:13 - 112000 - Discriminator loss: 0.4342 - 5540 samples/s\n",
            "INFO - 01/10/23 14:50:16 - 0:01:14 - 116000 - Discriminator loss: 0.4361 - 5541 samples/s\n",
            "INFO - 01/10/23 14:50:17 - 0:01:16 - 120000 - Discriminator loss: 0.4330 - 5554 samples/s\n",
            "INFO - 01/10/23 14:50:19 - 0:01:17 - 124000 - Discriminator loss: 0.4345 - 5511 samples/s\n",
            "INFO - 01/10/23 14:50:20 - 0:01:19 - 128000 - Discriminator loss: 0.4299 - 5567 samples/s\n",
            "INFO - 01/10/23 14:50:22 - 0:01:20 - 132000 - Discriminator loss: 0.4309 - 5497 samples/s\n",
            "INFO - 01/10/23 14:50:23 - 0:01:22 - 136000 - Discriminator loss: 0.4288 - 5585 samples/s\n",
            "INFO - 01/10/23 14:50:24 - 0:01:23 - 140000 - Discriminator loss: 0.4280 - 5534 samples/s\n",
            "INFO - 01/10/23 14:50:26 - 0:01:24 - 144000 - Discriminator loss: 0.4277 - 5557 samples/s\n",
            "INFO - 01/10/23 14:50:27 - 0:01:26 - 148000 - Discriminator loss: 0.4270 - 5576 samples/s\n",
            "INFO - 01/10/23 14:50:29 - 0:01:27 - 152000 - Discriminator loss: 0.4231 - 5557 samples/s\n",
            "INFO - 01/10/23 14:50:30 - 0:01:29 - 156000 - Discriminator loss: 0.4250 - 5556 samples/s\n",
            "INFO - 01/10/23 14:50:32 - 0:01:30 - 160000 - Discriminator loss: 0.4241 - 5535 samples/s\n",
            "INFO - 01/10/23 14:50:33 - 0:01:32 - 164000 - Discriminator loss: 0.4215 - 5550 samples/s\n",
            "INFO - 01/10/23 14:50:34 - 0:01:33 - 168000 - Discriminator loss: 0.4250 - 5565 samples/s\n",
            "INFO - 01/10/23 14:50:36 - 0:01:34 - 172000 - Discriminator loss: 0.4260 - 5548 samples/s\n",
            "INFO - 01/10/23 14:50:37 - 0:01:36 - 176000 - Discriminator loss: 0.4244 - 5581 samples/s\n",
            "INFO - 01/10/23 14:50:39 - 0:01:37 - 180000 - Discriminator loss: 0.4286 - 5559 samples/s\n",
            "INFO - 01/10/23 14:50:40 - 0:01:39 - 184000 - Discriminator loss: 0.4298 - 5605 samples/s\n",
            "INFO - 01/10/23 14:50:42 - 0:01:40 - 188000 - Discriminator loss: 0.4292 - 5520 samples/s\n",
            "INFO - 01/10/23 14:50:43 - 0:01:42 - 192000 - Discriminator loss: 0.4329 - 5566 samples/s\n",
            "INFO - 01/10/23 14:50:45 - 0:01:43 - 196000 - Discriminator loss: 0.4340 - 5536 samples/s\n",
            "INFO - 01/10/23 14:50:46 - 0:01:45 - 200000 - Discriminator loss: 0.4315 - 5409 samples/s\n",
            "INFO - 01/10/23 14:50:47 - 0:01:46 - 204000 - Discriminator loss: 0.4322 - 5572 samples/s\n",
            "INFO - 01/10/23 14:50:49 - 0:01:47 - 208000 - Discriminator loss: 0.4317 - 5572 samples/s\n",
            "INFO - 01/10/23 14:50:50 - 0:01:49 - 212000 - Discriminator loss: 0.4340 - 5601 samples/s\n",
            "INFO - 01/10/23 14:50:52 - 0:01:50 - 216000 - Discriminator loss: 0.4366 - 5608 samples/s\n",
            "INFO - 01/10/23 14:50:53 - 0:01:52 - 220000 - Discriminator loss: 0.4344 - 5580 samples/s\n",
            "INFO - 01/10/23 14:50:55 - 0:01:53 - 224000 - Discriminator loss: 0.4343 - 5584 samples/s\n",
            "INFO - 01/10/23 14:50:56 - 0:01:55 - 228000 - Discriminator loss: 0.4357 - 5542 samples/s\n",
            "INFO - 01/10/23 14:50:58 - 0:01:56 - 232000 - Discriminator loss: 0.4360 - 5586 samples/s\n",
            "INFO - 01/10/23 14:50:59 - 0:01:57 - 236000 - Discriminator loss: 0.4372 - 5530 samples/s\n",
            "INFO - 01/10/23 14:51:00 - 0:01:59 - 240000 - Discriminator loss: 0.4353 - 5699 samples/s\n",
            "INFO - 01/10/23 14:51:02 - 0:02:00 - 244000 - Discriminator loss: 0.4347 - 5598 samples/s\n",
            "INFO - 01/10/23 14:51:03 - 0:02:02 - 248000 - Discriminator loss: 0.4389 - 5563 samples/s\n",
            "INFO - 01/10/23 14:51:05 - 0:02:03 - 252000 - Discriminator loss: 0.4352 - 5550 samples/s\n",
            "INFO - 01/10/23 14:51:06 - 0:02:05 - 256000 - Discriminator loss: 0.4377 - 5518 samples/s\n",
            "INFO - 01/10/23 14:51:08 - 0:02:06 - 260000 - Discriminator loss: 0.4393 - 5499 samples/s\n",
            "INFO - 01/10/23 14:51:09 - 0:02:08 - 264000 - Discriminator loss: 0.4407 - 5628 samples/s\n",
            "INFO - 01/10/23 14:51:10 - 0:02:09 - 268000 - Discriminator loss: 0.4446 - 5534 samples/s\n",
            "INFO - 01/10/23 14:51:12 - 0:02:10 - 272000 - Discriminator loss: 0.4450 - 5448 samples/s\n",
            "INFO - 01/10/23 14:51:13 - 0:02:12 - 276000 - Discriminator loss: 0.4423 - 5551 samples/s\n",
            "INFO - 01/10/23 14:51:15 - 0:02:13 - 280000 - Discriminator loss: 0.4409 - 5472 samples/s\n",
            "INFO - 01/10/23 14:51:16 - 0:02:15 - 284000 - Discriminator loss: 0.4431 - 5471 samples/s\n",
            "INFO - 01/10/23 14:51:18 - 0:02:16 - 288000 - Discriminator loss: 0.4434 - 5558 samples/s\n",
            "INFO - 01/10/23 14:51:19 - 0:02:18 - 292000 - Discriminator loss: 0.4446 - 5503 samples/s\n",
            "INFO - 01/10/23 14:51:21 - 0:02:19 - 296000 - Discriminator loss: 0.4472 - 5570 samples/s\n",
            "INFO - 01/10/23 14:51:22 - 0:02:21 - 300000 - Discriminator loss: 0.4454 - 5538 samples/s\n",
            "INFO - 01/10/23 14:51:23 - 0:02:22 - 304000 - Discriminator loss: 0.4473 - 5529 samples/s\n",
            "INFO - 01/10/23 14:51:25 - 0:02:23 - 308000 - Discriminator loss: 0.4436 - 5604 samples/s\n",
            "INFO - 01/10/23 14:51:26 - 0:02:25 - 312000 - Discriminator loss: 0.4473 - 5564 samples/s\n",
            "INFO - 01/10/23 14:51:28 - 0:02:26 - 316000 - Discriminator loss: 0.4456 - 5526 samples/s\n",
            "INFO - 01/10/23 14:51:29 - 0:02:28 - 320000 - Discriminator loss: 0.4452 - 5606 samples/s\n",
            "INFO - 01/10/23 14:51:31 - 0:02:29 - 324000 - Discriminator loss: 0.4436 - 5535 samples/s\n",
            "INFO - 01/10/23 14:51:32 - 0:02:31 - 328000 - Discriminator loss: 0.4448 - 5527 samples/s\n",
            "INFO - 01/10/23 14:51:34 - 0:02:32 - 332000 - Discriminator loss: 0.4456 - 5492 samples/s\n",
            "INFO - 01/10/23 14:51:35 - 0:02:34 - 336000 - Discriminator loss: 0.4438 - 5573 samples/s\n",
            "INFO - 01/10/23 14:51:36 - 0:02:35 - 340000 - Discriminator loss: 0.4418 - 5564 samples/s\n",
            "INFO - 01/10/23 14:51:38 - 0:02:36 - 344000 - Discriminator loss: 0.4432 - 5511 samples/s\n",
            "INFO - 01/10/23 14:51:39 - 0:02:38 - 348000 - Discriminator loss: 0.4414 - 5551 samples/s\n",
            "INFO - 01/10/23 14:51:41 - 0:02:39 - 352000 - Discriminator loss: 0.4398 - 5639 samples/s\n",
            "INFO - 01/10/23 14:51:42 - 0:02:41 - 356000 - Discriminator loss: 0.4401 - 5613 samples/s\n",
            "INFO - 01/10/23 14:51:44 - 0:02:42 - 360000 - Discriminator loss: 0.4389 - 5586 samples/s\n",
            "INFO - 01/10/23 14:51:45 - 0:02:44 - 364000 - Discriminator loss: 0.4405 - 5606 samples/s\n",
            "INFO - 01/10/23 14:51:46 - 0:02:45 - 368000 - Discriminator loss: 0.4364 - 5554 samples/s\n",
            "INFO - 01/10/23 14:51:48 - 0:02:46 - 372000 - Discriminator loss: 0.4378 - 5589 samples/s\n",
            "INFO - 01/10/23 14:51:49 - 0:02:48 - 376000 - Discriminator loss: 0.4379 - 5617 samples/s\n",
            "INFO - 01/10/23 14:51:51 - 0:02:49 - 380000 - Discriminator loss: 0.4356 - 5537 samples/s\n",
            "INFO - 01/10/23 14:51:52 - 0:02:51 - 384000 - Discriminator loss: 0.4327 - 5520 samples/s\n",
            "INFO - 01/10/23 14:51:54 - 0:02:52 - 388000 - Discriminator loss: 0.4352 - 5587 samples/s\n",
            "INFO - 01/10/23 14:51:55 - 0:02:54 - 392000 - Discriminator loss: 0.4335 - 5547 samples/s\n",
            "INFO - 01/10/23 14:51:57 - 0:02:55 - 396000 - Discriminator loss: 0.4348 - 5579 samples/s\n",
            "INFO - 01/10/23 14:51:58 - 0:02:57 - 400000 - Discriminator loss: 0.4349 - 5568 samples/s\n",
            "INFO - 01/10/23 14:51:59 - 0:02:58 - 404000 - Discriminator loss: 0.4345 - 5513 samples/s\n",
            "INFO - 01/10/23 14:52:01 - 0:02:59 - 408000 - Discriminator loss: 0.4309 - 5614 samples/s\n",
            "INFO - 01/10/23 14:52:02 - 0:03:01 - 412000 - Discriminator loss: 0.4330 - 5630 samples/s\n",
            "INFO - 01/10/23 14:52:04 - 0:03:02 - 416000 - Discriminator loss: 0.4322 - 5593 samples/s\n",
            "INFO - 01/10/23 14:52:05 - 0:03:04 - 420000 - Discriminator loss: 0.4291 - 5638 samples/s\n",
            "INFO - 01/10/23 14:52:07 - 0:03:05 - 424000 - Discriminator loss: 0.4304 - 5573 samples/s\n",
            "INFO - 01/10/23 14:52:08 - 0:03:07 - 428000 - Discriminator loss: 0.4294 - 5556 samples/s\n",
            "INFO - 01/10/23 14:52:09 - 0:03:08 - 432000 - Discriminator loss: 0.4256 - 5608 samples/s\n",
            "INFO - 01/10/23 14:52:11 - 0:03:09 - 436000 - Discriminator loss: 0.4308 - 5589 samples/s\n",
            "INFO - 01/10/23 14:52:12 - 0:03:11 - 440000 - Discriminator loss: 0.4270 - 5548 samples/s\n",
            "INFO - 01/10/23 14:52:14 - 0:03:12 - 444000 - Discriminator loss: 0.4281 - 5543 samples/s\n",
            "INFO - 01/10/23 14:52:15 - 0:03:14 - 448000 - Discriminator loss: 0.4287 - 5565 samples/s\n",
            "INFO - 01/10/23 14:52:17 - 0:03:15 - 452000 - Discriminator loss: 0.4261 - 5517 samples/s\n",
            "INFO - 01/10/23 14:52:18 - 0:03:17 - 456000 - Discriminator loss: 0.4257 - 5563 samples/s\n",
            "INFO - 01/10/23 14:52:20 - 0:03:18 - 460000 - Discriminator loss: 0.4244 - 5574 samples/s\n",
            "INFO - 01/10/23 14:52:21 - 0:03:19 - 464000 - Discriminator loss: 0.4256 - 5593 samples/s\n",
            "INFO - 01/10/23 14:52:22 - 0:03:21 - 468000 - Discriminator loss: 0.4250 - 5506 samples/s\n",
            "INFO - 01/10/23 14:52:24 - 0:03:22 - 472000 - Discriminator loss: 0.4251 - 5525 samples/s\n",
            "INFO - 01/10/23 14:52:25 - 0:03:24 - 476000 - Discriminator loss: 0.4270 - 5552 samples/s\n",
            "INFO - 01/10/23 14:52:27 - 0:03:25 - 480000 - Discriminator loss: 0.4241 - 5473 samples/s\n",
            "INFO - 01/10/23 14:52:28 - 0:03:27 - 484000 - Discriminator loss: 0.4230 - 5550 samples/s\n",
            "INFO - 01/10/23 14:52:30 - 0:03:28 - 488000 - Discriminator loss: 0.4232 - 5466 samples/s\n",
            "INFO - 01/10/23 14:52:31 - 0:03:30 - 492000 - Discriminator loss: 0.4244 - 5523 samples/s\n",
            "INFO - 01/10/23 14:52:33 - 0:03:31 - 496000 - Discriminator loss: 0.4223 - 5606 samples/s\n",
            "INFO - 01/10/23 14:52:34 - 0:03:33 - 500000 - Discriminator loss: 0.4219 - 5516 samples/s\n",
            "INFO - 01/10/23 14:52:35 - 0:03:34 - 504000 - Discriminator loss: 0.4176 - 5538 samples/s\n",
            "INFO - 01/10/23 14:52:37 - 0:03:35 - 508000 - Discriminator loss: 0.4205 - 5551 samples/s\n",
            "INFO - 01/10/23 14:52:38 - 0:03:37 - 512000 - Discriminator loss: 0.4179 - 5664 samples/s\n",
            "INFO - 01/10/23 14:52:40 - 0:03:38 - 516000 - Discriminator loss: 0.4177 - 5574 samples/s\n",
            "INFO - 01/10/23 14:52:41 - 0:03:40 - 520000 - Discriminator loss: 0.4172 - 5522 samples/s\n",
            "INFO - 01/10/23 14:52:43 - 0:03:41 - 524000 - Discriminator loss: 0.4168 - 5606 samples/s\n",
            "INFO - 01/10/23 14:52:44 - 0:03:43 - 528000 - Discriminator loss: 0.4144 - 5537 samples/s\n",
            "INFO - 01/10/23 14:52:46 - 0:03:44 - 532000 - Discriminator loss: 0.4144 - 5408 samples/s\n",
            "INFO - 01/10/23 14:52:47 - 0:03:46 - 536000 - Discriminator loss: 0.4144 - 5460 samples/s\n",
            "INFO - 01/10/23 14:52:48 - 0:03:47 - 540000 - Discriminator loss: 0.4154 - 5552 samples/s\n",
            "INFO - 01/10/23 14:52:50 - 0:03:48 - 544000 - Discriminator loss: 0.4137 - 5559 samples/s\n",
            "INFO - 01/10/23 14:52:51 - 0:03:50 - 548000 - Discriminator loss: 0.4096 - 5614 samples/s\n",
            "INFO - 01/10/23 14:52:53 - 0:03:51 - 552000 - Discriminator loss: 0.4121 - 5640 samples/s\n",
            "INFO - 01/10/23 14:52:54 - 0:03:53 - 556000 - Discriminator loss: 0.4119 - 5572 samples/s\n",
            "INFO - 01/10/23 14:52:56 - 0:03:54 - 560000 - Discriminator loss: 0.4118 - 5535 samples/s\n",
            "INFO - 01/10/23 14:52:57 - 0:03:56 - 564000 - Discriminator loss: 0.4127 - 5561 samples/s\n",
            "INFO - 01/10/23 14:52:58 - 0:03:57 - 568000 - Discriminator loss: 0.4107 - 5586 samples/s\n",
            "INFO - 01/10/23 14:53:00 - 0:03:58 - 572000 - Discriminator loss: 0.4112 - 5641 samples/s\n",
            "INFO - 01/10/23 14:53:01 - 0:04:00 - 576000 - Discriminator loss: 0.4120 - 5549 samples/s\n",
            "INFO - 01/10/23 14:53:03 - 0:04:01 - 580000 - Discriminator loss: 0.4127 - 5580 samples/s\n",
            "INFO - 01/10/23 14:53:04 - 0:04:03 - 584000 - Discriminator loss: 0.4150 - 5615 samples/s\n",
            "INFO - 01/10/23 14:53:06 - 0:04:04 - 588000 - Discriminator loss: 0.4144 - 5515 samples/s\n",
            "INFO - 01/10/23 14:53:07 - 0:04:06 - 592000 - Discriminator loss: 0.4173 - 5602 samples/s\n",
            "INFO - 01/10/23 14:53:09 - 0:04:07 - 596000 - Discriminator loss: 0.4150 - 5534 samples/s\n",
            "INFO - 01/10/23 14:53:10 - 0:04:08 - 600000 - Discriminator loss: 0.4163 - 5620 samples/s\n",
            "INFO - 01/10/23 14:53:11 - 0:04:10 - 604000 - Discriminator loss: 0.4177 - 5524 samples/s\n",
            "INFO - 01/10/23 14:53:13 - 0:04:11 - 608000 - Discriminator loss: 0.4172 - 5612 samples/s\n",
            "INFO - 01/10/23 14:53:14 - 0:04:13 - 612000 - Discriminator loss: 0.4187 - 5534 samples/s\n",
            "INFO - 01/10/23 14:53:16 - 0:04:14 - 616000 - Discriminator loss: 0.4165 - 5590 samples/s\n",
            "INFO - 01/10/23 14:53:17 - 0:04:16 - 620000 - Discriminator loss: 0.4173 - 5520 samples/s\n",
            "INFO - 01/10/23 14:53:19 - 0:04:17 - 624000 - Discriminator loss: 0.4180 - 5385 samples/s\n",
            "INFO - 01/10/23 14:53:20 - 0:04:19 - 628000 - Discriminator loss: 0.4154 - 5560 samples/s\n",
            "INFO - 01/10/23 14:53:22 - 0:04:20 - 632000 - Discriminator loss: 0.4144 - 5495 samples/s\n",
            "INFO - 01/10/23 14:53:23 - 0:04:22 - 636000 - Discriminator loss: 0.4137 - 5484 samples/s\n",
            "INFO - 01/10/23 14:53:24 - 0:04:23 - 640000 - Discriminator loss: 0.4125 - 5640 samples/s\n",
            "INFO - 01/10/23 14:53:26 - 0:04:24 - 644000 - Discriminator loss: 0.4121 - 5564 samples/s\n",
            "INFO - 01/10/23 14:53:27 - 0:04:26 - 648000 - Discriminator loss: 0.4111 - 5572 samples/s\n",
            "INFO - 01/10/23 14:53:29 - 0:04:27 - 652000 - Discriminator loss: 0.4112 - 5512 samples/s\n",
            "INFO - 01/10/23 14:53:30 - 0:04:29 - 656000 - Discriminator loss: 0.4102 - 5568 samples/s\n",
            "INFO - 01/10/23 14:53:32 - 0:04:30 - 660000 - Discriminator loss: 0.4078 - 5401 samples/s\n",
            "INFO - 01/10/23 14:53:33 - 0:04:32 - 664000 - Discriminator loss: 0.4094 - 5604 samples/s\n",
            "INFO - 01/10/23 14:53:35 - 0:04:33 - 668000 - Discriminator loss: 0.4073 - 5529 samples/s\n",
            "INFO - 01/10/23 14:53:36 - 0:04:34 - 672000 - Discriminator loss: 0.4086 - 5583 samples/s\n",
            "INFO - 01/10/23 14:53:37 - 0:04:36 - 676000 - Discriminator loss: 0.4074 - 5560 samples/s\n",
            "INFO - 01/10/23 14:53:39 - 0:04:37 - 680000 - Discriminator loss: 0.4070 - 5526 samples/s\n",
            "INFO - 01/10/23 14:53:40 - 0:04:39 - 684000 - Discriminator loss: 0.4067 - 5583 samples/s\n",
            "INFO - 01/10/23 14:53:42 - 0:04:40 - 688000 - Discriminator loss: 0.4044 - 5592 samples/s\n",
            "INFO - 01/10/23 14:53:43 - 0:04:42 - 692000 - Discriminator loss: 0.4041 - 5545 samples/s\n",
            "INFO - 01/10/23 14:53:45 - 0:04:43 - 696000 - Discriminator loss: 0.4049 - 5566 samples/s\n",
            "INFO - 01/10/23 14:53:46 - 0:04:45 - 700000 - Discriminator loss: 0.4052 - 5533 samples/s\n",
            "INFO - 01/10/23 14:53:47 - 0:04:46 - 704000 - Discriminator loss: 0.4024 - 5487 samples/s\n",
            "INFO - 01/10/23 14:53:49 - 0:04:47 - 708000 - Discriminator loss: 0.4015 - 5506 samples/s\n",
            "INFO - 01/10/23 14:53:50 - 0:04:49 - 712000 - Discriminator loss: 0.4006 - 5488 samples/s\n",
            "INFO - 01/10/23 14:53:52 - 0:04:50 - 716000 - Discriminator loss: 0.4027 - 5588 samples/s\n",
            "INFO - 01/10/23 14:53:53 - 0:04:52 - 720000 - Discriminator loss: 0.4001 - 5589 samples/s\n",
            "INFO - 01/10/23 14:53:55 - 0:04:53 - 724000 - Discriminator loss: 0.4023 - 5524 samples/s\n",
            "INFO - 01/10/23 14:53:56 - 0:04:55 - 728000 - Discriminator loss: 0.3997 - 5583 samples/s\n",
            "INFO - 01/10/23 14:53:58 - 0:04:56 - 732000 - Discriminator loss: 0.3984 - 5599 samples/s\n",
            "INFO - 01/10/23 14:53:59 - 0:04:58 - 736000 - Discriminator loss: 0.3976 - 5543 samples/s\n",
            "INFO - 01/10/23 14:54:00 - 0:04:59 - 740000 - Discriminator loss: 0.3970 - 5497 samples/s\n",
            "INFO - 01/10/23 14:54:02 - 0:05:00 - 744000 - Discriminator loss: 0.3968 - 5566 samples/s\n",
            "INFO - 01/10/23 14:54:03 - 0:05:02 - 748000 - Discriminator loss: 0.3978 - 5596 samples/s\n",
            "INFO - 01/10/23 14:54:05 - 0:05:03 - 752000 - Discriminator loss: 0.3987 - 5528 samples/s\n",
            "INFO - 01/10/23 14:54:06 - 0:05:05 - 756000 - Discriminator loss: 0.3973 - 5548 samples/s\n",
            "INFO - 01/10/23 14:54:08 - 0:05:06 - 760000 - Discriminator loss: 0.3966 - 5513 samples/s\n",
            "INFO - 01/10/23 14:54:09 - 0:05:08 - 764000 - Discriminator loss: 0.3972 - 5657 samples/s\n",
            "INFO - 01/10/23 14:54:11 - 0:05:09 - 768000 - Discriminator loss: 0.3959 - 5575 samples/s\n",
            "INFO - 01/10/23 14:54:12 - 0:05:10 - 772000 - Discriminator loss: 0.3967 - 5569 samples/s\n",
            "INFO - 01/10/23 14:54:13 - 0:05:12 - 776000 - Discriminator loss: 0.3966 - 5530 samples/s\n",
            "INFO - 01/10/23 14:54:15 - 0:05:13 - 780000 - Discriminator loss: 0.3956 - 5562 samples/s\n",
            "INFO - 01/10/23 14:54:16 - 0:05:15 - 784000 - Discriminator loss: 0.3951 - 5600 samples/s\n",
            "INFO - 01/10/23 14:54:18 - 0:05:16 - 788000 - Discriminator loss: 0.3973 - 5550 samples/s\n",
            "INFO - 01/10/23 14:54:19 - 0:05:18 - 792000 - Discriminator loss: 0.3959 - 5500 samples/s\n",
            "INFO - 01/10/23 14:54:21 - 0:05:19 - 796000 - Discriminator loss: 0.3944 - 5553 samples/s\n",
            "INFO - 01/10/23 14:54:22 - 0:05:21 - 800000 - Discriminator loss: 0.3927 - 5475 samples/s\n",
            "INFO - 01/10/23 14:54:23 - 0:05:22 - 804000 - Discriminator loss: 0.3936 - 5588 samples/s\n",
            "INFO - 01/10/23 14:54:25 - 0:05:23 - 808000 - Discriminator loss: 0.3931 - 5568 samples/s\n",
            "INFO - 01/10/23 14:54:26 - 0:05:25 - 812000 - Discriminator loss: 0.3925 - 5542 samples/s\n",
            "INFO - 01/10/23 14:54:28 - 0:05:26 - 816000 - Discriminator loss: 0.3932 - 5545 samples/s\n",
            "INFO - 01/10/23 14:54:29 - 0:05:28 - 820000 - Discriminator loss: 0.3918 - 5617 samples/s\n",
            "INFO - 01/10/23 14:54:31 - 0:05:29 - 824000 - Discriminator loss: 0.3913 - 5540 samples/s\n",
            "INFO - 01/10/23 14:54:32 - 0:05:31 - 828000 - Discriminator loss: 0.3910 - 5474 samples/s\n",
            "INFO - 01/10/23 14:54:34 - 0:05:32 - 832000 - Discriminator loss: 0.3903 - 5566 samples/s\n",
            "INFO - 01/10/23 14:54:35 - 0:05:34 - 836000 - Discriminator loss: 0.3910 - 5535 samples/s\n",
            "INFO - 01/10/23 14:54:37 - 0:05:35 - 840000 - Discriminator loss: 0.3905 - 5265 samples/s\n",
            "INFO - 01/10/23 14:54:38 - 0:05:37 - 844000 - Discriminator loss: 0.3907 - 4246 samples/s\n",
            "INFO - 01/10/23 14:54:40 - 0:05:39 - 848000 - Discriminator loss: 0.3917 - 4274 samples/s\n",
            "INFO - 01/10/23 14:54:42 - 0:05:40 - 852000 - Discriminator loss: 0.3918 - 5146 samples/s\n",
            "INFO - 01/10/23 14:54:43 - 0:05:42 - 856000 - Discriminator loss: 0.3911 - 5502 samples/s\n",
            "INFO - 01/10/23 14:54:45 - 0:05:43 - 860000 - Discriminator loss: 0.3911 - 5625 samples/s\n",
            "INFO - 01/10/23 14:54:46 - 0:05:45 - 864000 - Discriminator loss: 0.3891 - 5486 samples/s\n",
            "INFO - 01/10/23 14:54:48 - 0:05:46 - 868000 - Discriminator loss: 0.3913 - 5558 samples/s\n",
            "INFO - 01/10/23 14:54:49 - 0:05:48 - 872000 - Discriminator loss: 0.3886 - 5621 samples/s\n",
            "INFO - 01/10/23 14:54:50 - 0:05:49 - 876000 - Discriminator loss: 0.3892 - 5553 samples/s\n",
            "INFO - 01/10/23 14:54:52 - 0:05:50 - 880000 - Discriminator loss: 0.3890 - 5474 samples/s\n",
            "INFO - 01/10/23 14:54:53 - 0:05:52 - 884000 - Discriminator loss: 0.3878 - 5571 samples/s\n",
            "INFO - 01/10/23 14:54:55 - 0:05:53 - 888000 - Discriminator loss: 0.3886 - 5621 samples/s\n",
            "INFO - 01/10/23 14:54:56 - 0:05:55 - 892000 - Discriminator loss: 0.3882 - 5587 samples/s\n",
            "INFO - 01/10/23 14:54:58 - 0:05:56 - 896000 - Discriminator loss: 0.3882 - 5588 samples/s\n",
            "INFO - 01/10/23 14:54:59 - 0:05:58 - 900000 - Discriminator loss: 0.3879 - 5618 samples/s\n",
            "INFO - 01/10/23 14:55:01 - 0:05:59 - 904000 - Discriminator loss: 0.3872 - 5638 samples/s\n",
            "INFO - 01/10/23 14:55:02 - 0:06:01 - 908000 - Discriminator loss: 0.3859 - 5511 samples/s\n",
            "INFO - 01/10/23 14:55:03 - 0:06:02 - 912000 - Discriminator loss: 0.3853 - 5537 samples/s\n",
            "INFO - 01/10/23 14:55:05 - 0:06:03 - 916000 - Discriminator loss: 0.3865 - 5559 samples/s\n",
            "INFO - 01/10/23 14:55:06 - 0:06:05 - 920000 - Discriminator loss: 0.3844 - 5581 samples/s\n",
            "INFO - 01/10/23 14:55:08 - 0:06:06 - 924000 - Discriminator loss: 0.3872 - 5541 samples/s\n",
            "INFO - 01/10/23 14:55:09 - 0:06:08 - 928000 - Discriminator loss: 0.3850 - 5509 samples/s\n",
            "INFO - 01/10/23 14:55:11 - 0:06:09 - 932000 - Discriminator loss: 0.3847 - 5589 samples/s\n",
            "INFO - 01/10/23 14:55:12 - 0:06:11 - 936000 - Discriminator loss: 0.3859 - 5513 samples/s\n",
            "INFO - 01/10/23 14:55:14 - 0:06:12 - 940000 - Discriminator loss: 0.3845 - 5591 samples/s\n",
            "INFO - 01/10/23 14:55:15 - 0:06:14 - 944000 - Discriminator loss: 0.3851 - 5391 samples/s\n",
            "INFO - 01/10/23 14:55:16 - 0:06:15 - 948000 - Discriminator loss: 0.3839 - 5575 samples/s\n",
            "INFO - 01/10/23 14:55:18 - 0:06:16 - 952000 - Discriminator loss: 0.3840 - 5539 samples/s\n",
            "INFO - 01/10/23 14:55:19 - 0:06:18 - 956000 - Discriminator loss: 0.3825 - 5617 samples/s\n",
            "INFO - 01/10/23 14:55:21 - 0:06:19 - 960000 - Discriminator loss: 0.3835 - 5588 samples/s\n",
            "INFO - 01/10/23 14:55:22 - 0:06:21 - 964000 - Discriminator loss: 0.3835 - 5528 samples/s\n",
            "INFO - 01/10/23 14:55:24 - 0:06:22 - 968000 - Discriminator loss: 0.3817 - 5606 samples/s\n",
            "INFO - 01/10/23 14:55:25 - 0:06:24 - 972000 - Discriminator loss: 0.3827 - 5590 samples/s\n",
            "INFO - 01/10/23 14:55:26 - 0:06:25 - 976000 - Discriminator loss: 0.3825 - 5588 samples/s\n",
            "INFO - 01/10/23 14:55:28 - 0:06:26 - 980000 - Discriminator loss: 0.3828 - 5588 samples/s\n",
            "INFO - 01/10/23 14:55:29 - 0:06:28 - 984000 - Discriminator loss: 0.3812 - 5590 samples/s\n",
            "INFO - 01/10/23 14:55:31 - 0:06:29 - 988000 - Discriminator loss: 0.3804 - 5577 samples/s\n",
            "INFO - 01/10/23 14:55:32 - 0:06:31 - 992000 - Discriminator loss: 0.3806 - 5549 samples/s\n",
            "INFO - 01/10/23 14:55:34 - 0:06:32 - 996000 - Discriminator loss: 0.3812 - 5586 samples/s\n",
            "INFO - 01/10/23 14:55:39 - 0:06:37 - Building the train dictionary ...\n",
            "INFO - 01/10/23 14:55:39 - 0:06:37 - New train dictionary of 6364 pairs.\n",
            "INFO - 01/10/23 14:55:39 - 0:06:37 - Mean cosine (nn method, S2T build, 10000 max size): 0.62289\n",
            "INFO - 01/10/23 14:56:20 - 0:07:19 - Building the train dictionary ...\n",
            "INFO - 01/10/23 14:56:20 - 0:07:19 - New train dictionary of 6855 pairs.\n",
            "INFO - 01/10/23 14:56:20 - 0:07:19 - Mean cosine (csls_knn_10 method, S2T build, 10000 max size): 0.61268\n",
            "/content/MUSE/src/evaluation/evaluator.py:232: UserWarning: volatile was removed and now has no effect. Use `with torch.no_grad():` instead.\n",
            "  emb = Variable(self.src_emb.weight[i:i + bs].data, volatile=True)\n",
            "/content/MUSE/src/evaluation/evaluator.py:237: UserWarning: volatile was removed and now has no effect. Use `with torch.no_grad():` instead.\n",
            "  emb = Variable(self.tgt_emb.weight[i:i + bs].data, volatile=True)\n",
            "INFO - 01/10/23 14:56:22 - 0:07:20 - Discriminator source / target predictions: 0.79676 / 0.22116\n",
            "INFO - 01/10/23 14:56:22 - 0:07:20 - Discriminator source / target / global accuracy: 0.95167 / 0.84825 / 0.89996\n",
            "INFO - 01/10/23 14:56:22 - 0:07:20 - __log__:{\"n_epoch\": 0, \"mean_cosine-nn-S2T-10000\": 0.6228894591331482, \"mean_cosine-csls_knn_10-S2T-10000\": 0.612677812576294, \"dis_accu\": 0.8999575, \"dis_src_pred\": 0.7967587454798352, \"dis_tgt_pred\": 0.2211566770229819}\n",
            "INFO - 01/10/23 14:56:22 - 0:07:20 - * Best value for \"mean_cosine-csls_knn_10-S2T-10000\": 0.61268\n",
            "INFO - 01/10/23 14:56:22 - 0:07:20 - * Saving the mapping to ./fr_to_en/owoqmmzp8s/best_mapping.pth ...\n",
            "INFO - 01/10/23 14:56:22 - 0:07:20 - End of epoch 0.\n",
            "                                     \n",
            "                                     \n",
            "INFO - 01/10/23 14:56:22 - 0:07:20 - Decreasing learning rate: 0.10000000 -> 0.09800000\n",
            "INFO - 01/10/23 14:56:22 - 0:07:20 - ----> ITERATIVE PROCRUSTES REFINEMENT <----\n",
            "                                     \n",
            "                                     \n",
            "INFO - 01/10/23 14:56:22 - 0:07:20 - * Reloading the best model from ./fr_to_en/owoqmmzp8s/best_mapping.pth ...\n",
            "INFO - 01/10/23 14:56:22 - 0:07:20 - Starting refinement iteration 0...\n",
            "INFO - 01/10/23 14:56:22 - 0:07:20 - Building the train dictionary ...\n",
            "INFO - 01/10/23 14:56:43 - 0:07:41 - New train dictionary of 10407 pairs.\n",
            "INFO - 01/10/23 14:56:46 - 0:07:45 - Building the train dictionary ...\n",
            "INFO - 01/10/23 14:56:46 - 0:07:45 - New train dictionary of 7459 pairs.\n",
            "INFO - 01/10/23 14:56:46 - 0:07:45 - Mean cosine (nn method, S2T build, 10000 max size): 0.70383\n",
            "INFO - 01/10/23 14:57:27 - 0:08:25 - Building the train dictionary ...\n",
            "INFO - 01/10/23 14:57:27 - 0:08:25 - New train dictionary of 7429 pairs.\n",
            "INFO - 01/10/23 14:57:27 - 0:08:25 - Mean cosine (csls_knn_10 method, S2T build, 10000 max size): 0.70172\n",
            "INFO - 01/10/23 14:57:27 - 0:08:25 - __log__:{\"n_iter\": 0, \"mean_cosine-nn-S2T-10000\": 0.7038267850875854, \"mean_cosine-csls_knn_10-S2T-10000\": 0.7017198801040649}\n",
            "INFO - 01/10/23 14:57:27 - 0:08:25 - * Best value for \"mean_cosine-csls_knn_10-S2T-10000\": 0.70172\n",
            "INFO - 01/10/23 14:57:27 - 0:08:25 - * Saving the mapping to ./fr_to_en/owoqmmzp8s/best_mapping.pth ...\n",
            "INFO - 01/10/23 14:57:27 - 0:08:25 - End of refinement iteration 0.\n",
            "                                     \n",
            "                                     \n",
            "INFO - 01/10/23 14:57:27 - 0:08:25 - Starting refinement iteration 1...\n",
            "INFO - 01/10/23 14:57:27 - 0:08:25 - Building the train dictionary ...\n",
            "INFO - 01/10/23 14:57:48 - 0:08:46 - New train dictionary of 11369 pairs.\n",
            "INFO - 01/10/23 14:57:51 - 0:08:50 - Building the train dictionary ...\n",
            "INFO - 01/10/23 14:57:51 - 0:08:50 - New train dictionary of 7524 pairs.\n",
            "INFO - 01/10/23 14:57:51 - 0:08:50 - Mean cosine (nn method, S2T build, 10000 max size): 0.70417\n",
            "INFO - 01/10/23 14:58:32 - 0:09:31 - Building the train dictionary ...\n",
            "INFO - 01/10/23 14:58:32 - 0:09:31 - New train dictionary of 7442 pairs.\n",
            "INFO - 01/10/23 14:58:32 - 0:09:31 - Mean cosine (csls_knn_10 method, S2T build, 10000 max size): 0.70398\n",
            "INFO - 01/10/23 14:58:32 - 0:09:31 - __log__:{\"n_iter\": 1, \"mean_cosine-nn-S2T-10000\": 0.7041659951210022, \"mean_cosine-csls_knn_10-S2T-10000\": 0.7039808034896851}\n",
            "INFO - 01/10/23 14:58:32 - 0:09:31 - * Best value for \"mean_cosine-csls_knn_10-S2T-10000\": 0.70398\n",
            "INFO - 01/10/23 14:58:32 - 0:09:31 - * Saving the mapping to ./fr_to_en/owoqmmzp8s/best_mapping.pth ...\n",
            "INFO - 01/10/23 14:58:32 - 0:09:31 - End of refinement iteration 1.\n",
            "                                     \n",
            "                                     \n",
            "INFO - 01/10/23 14:58:32 - 0:09:31 - Starting refinement iteration 2...\n",
            "INFO - 01/10/23 14:58:32 - 0:09:31 - Building the train dictionary ...\n",
            "INFO - 01/10/23 14:58:53 - 0:09:51 - New train dictionary of 11438 pairs.\n",
            "INFO - 01/10/23 14:58:57 - 0:09:55 - Building the train dictionary ...\n",
            "INFO - 01/10/23 14:58:57 - 0:09:55 - New train dictionary of 7504 pairs.\n",
            "INFO - 01/10/23 14:58:57 - 0:09:55 - Mean cosine (nn method, S2T build, 10000 max size): 0.70448\n",
            "INFO - 01/10/23 14:59:37 - 0:10:36 - Building the train dictionary ...\n",
            "INFO - 01/10/23 14:59:37 - 0:10:36 - New train dictionary of 7442 pairs.\n",
            "INFO - 01/10/23 14:59:37 - 0:10:36 - Mean cosine (csls_knn_10 method, S2T build, 10000 max size): 0.70406\n",
            "INFO - 01/10/23 14:59:37 - 0:10:36 - __log__:{\"n_iter\": 2, \"mean_cosine-nn-S2T-10000\": 0.704477071762085, \"mean_cosine-csls_knn_10-S2T-10000\": 0.7040591835975647}\n",
            "INFO - 01/10/23 14:59:37 - 0:10:36 - * Best value for \"mean_cosine-csls_knn_10-S2T-10000\": 0.70406\n",
            "INFO - 01/10/23 14:59:37 - 0:10:36 - * Saving the mapping to ./fr_to_en/owoqmmzp8s/best_mapping.pth ...\n",
            "INFO - 01/10/23 14:59:37 - 0:10:36 - End of refinement iteration 2.\n",
            "                                     \n",
            "                                     \n",
            "INFO - 01/10/23 14:59:37 - 0:10:36 - Starting refinement iteration 3...\n",
            "INFO - 01/10/23 14:59:37 - 0:10:36 - Building the train dictionary ...\n",
            "INFO - 01/10/23 14:59:58 - 0:10:57 - New train dictionary of 11442 pairs.\n",
            "INFO - 01/10/23 15:00:02 - 0:11:00 - Building the train dictionary ...\n",
            "INFO - 01/10/23 15:00:02 - 0:11:00 - New train dictionary of 7503 pairs.\n",
            "INFO - 01/10/23 15:00:02 - 0:11:00 - Mean cosine (nn method, S2T build, 10000 max size): 0.70450\n",
            "INFO - 01/10/23 15:00:42 - 0:11:41 - Building the train dictionary ...\n",
            "INFO - 01/10/23 15:00:42 - 0:11:41 - New train dictionary of 7455 pairs.\n",
            "INFO - 01/10/23 15:00:42 - 0:11:41 - Mean cosine (csls_knn_10 method, S2T build, 10000 max size): 0.70367\n",
            "INFO - 01/10/23 15:00:42 - 0:11:41 - __log__:{\"n_iter\": 3, \"mean_cosine-nn-S2T-10000\": 0.7044966220855713, \"mean_cosine-csls_knn_10-S2T-10000\": 0.7036715745925903}\n",
            "INFO - 01/10/23 15:00:42 - 0:11:41 - End of refinement iteration 3.\n",
            "                                     \n",
            "                                     \n",
            "INFO - 01/10/23 15:00:42 - 0:11:41 - Starting refinement iteration 4...\n",
            "INFO - 01/10/23 15:00:42 - 0:11:41 - Building the train dictionary ...\n",
            "INFO - 01/10/23 15:01:03 - 0:12:02 - New train dictionary of 11446 pairs.\n",
            "INFO - 01/10/23 15:01:07 - 0:12:05 - Building the train dictionary ...\n",
            "INFO - 01/10/23 15:01:07 - 0:12:05 - New train dictionary of 7483 pairs.\n",
            "INFO - 01/10/23 15:01:07 - 0:12:05 - Mean cosine (nn method, S2T build, 10000 max size): 0.70474\n",
            "INFO - 01/10/23 15:01:47 - 0:12:46 - Building the train dictionary ...\n",
            "INFO - 01/10/23 15:01:47 - 0:12:46 - New train dictionary of 7443 pairs.\n",
            "INFO - 01/10/23 15:01:47 - 0:12:46 - Mean cosine (csls_knn_10 method, S2T build, 10000 max size): 0.70392\n",
            "INFO - 01/10/23 15:01:47 - 0:12:46 - __log__:{\"n_iter\": 4, \"mean_cosine-nn-S2T-10000\": 0.7047392129898071, \"mean_cosine-csls_knn_10-S2T-10000\": 0.7039190530776978}\n",
            "INFO - 01/10/23 15:01:47 - 0:12:46 - End of refinement iteration 4.\n",
            "                                     \n",
            "                                     \n"
          ]
        }
      ]
    },
    {
      "cell_type": "code",
      "source": [
        "from glob import glob\n",
        "fr_eng_id = glob(\"fr_to_en/*\")[0]"
      ],
      "metadata": {
        "id": "p5UHQTK87IC0"
      },
      "execution_count": 15,
      "outputs": []
    },
    {
      "cell_type": "code",
      "source": [
        "fr_eng_id"
      ],
      "metadata": {
        "colab": {
          "base_uri": "https://localhost:8080/",
          "height": 36
        },
        "id": "bEwAlEPjCvng",
        "outputId": "605c7a89-eb5b-435d-a15b-276f33368c28"
      },
      "execution_count": 16,
      "outputs": [
        {
          "output_type": "execute_result",
          "data": {
            "text/plain": [
              "'fr_to_en/owoqmmzp8s'"
            ],
            "application/vnd.google.colaboratory.intrinsic+json": {
              "type": "string"
            }
          },
          "metadata": {},
          "execution_count": 16
        }
      ]
    },
    {
      "cell_type": "code",
      "source": [
        "import torch\n",
        "mapping = torch.nn.Linear(300,300, bias=False)\n",
        "mapping.weight.data = torch.tensor(torch.load(fr_eng_id + \"/best_mapping.pth\"))\n",
        "mapping"
      ],
      "metadata": {
        "id": "JZ2WGrLgDAAg",
        "colab": {
          "base_uri": "https://localhost:8080/"
        },
        "outputId": "6d414b73-8fb2-4ee0-99b2-f1cdb90b07b8"
      },
      "execution_count": 24,
      "outputs": [
        {
          "output_type": "execute_result",
          "data": {
            "text/plain": [
              "Linear(in_features=300, out_features=300, bias=False)"
            ]
          },
          "metadata": {},
          "execution_count": 24
        }
      ]
    },
    {
      "cell_type": "code",
      "source": [
        "import io\n",
        "import numpy as np\n",
        "\n",
        "def load_vec(emb_path, nmax=50000):\n",
        "    vectors = []\n",
        "    word2id = {}\n",
        "    with io.open(emb_path, 'r', encoding='utf-8', newline='\\n', errors='ignore') as f:\n",
        "        next(f)\n",
        "        for i, line in enumerate(f):\n",
        "            word, vect = line.rstrip().split(' ', 1)\n",
        "            vect = np.fromstring(vect, sep=' ')\n",
        "            assert word not in word2id, 'word found twice'\n",
        "            vectors.append(vect)\n",
        "            word2id[word] = len(word2id)\n",
        "            if len(word2id) == nmax:\n",
        "                break\n",
        "    id2word = {v: k for k, v in word2id.items()}\n",
        "    embeddings = np.vstack(vectors)\n",
        "    return embeddings, id2word, word2id\n",
        "\n",
        "src_embeddings, src_id2word, src_word2id = load_vec(\"data/wiki.fr.vec\")\n",
        "tgt_embeddings, tgt_id2word, tgt_word2id = load_vec(\"data/wiki.en.vec\")"
      ],
      "metadata": {
        "id": "ZiGmY-xuTJon"
      },
      "execution_count": 26,
      "outputs": []
    },
    {
      "cell_type": "code",
      "source": [
        "from sklearn.decomposition import PCA\n",
        "\n",
        "def reduce_dimension(src, tgt):\n",
        "    pca = PCA(n_components=2, whiten=True)\n",
        "    pca.fit(np.vstack([src, tgt]))\n",
        "    return pca\n"
      ],
      "metadata": {
        "id": "bmoi88gFacyc"
      },
      "execution_count": 55,
      "outputs": []
    },
    {
      "cell_type": "code",
      "source": [
        "import matplotlib.pyplot as plt\n",
        "\n",
        "\n",
        "def plot_similar_word(src_words, src_word2id, src_emb, tgt_words, tgt_word2id, tgt_emb, pca, title):\n",
        "\n",
        "    Y = []\n",
        "    word_labels = []\n",
        "    for sw in src_words:\n",
        "        Y.append(src_emb[src_word2id[sw]])\n",
        "        word_labels.append(sw)\n",
        "    for tw in tgt_words:\n",
        "        Y.append(tgt_emb[tgt_word2id[tw]])\n",
        "        word_labels.append(tw)\n",
        "\n",
        "    # find tsne coords for 2 dimensions\n",
        "    Y = pca.transform(Y)\n",
        "    x_coords = Y[:, 0]\n",
        "    y_coords = Y[:, 1]\n",
        "\n",
        "    # display scatter plot\n",
        "    plt.figure(figsize=(8, 6), dpi=80)\n",
        "    plt.scatter(x_coords, y_coords, marker='x')\n",
        "\n",
        "    for k, (label, x, y) in enumerate(zip(word_labels, x_coords, y_coords)):\n",
        "        color = 'blue' if k < len(src_words) else 'red'  # src words in blue / tgt words in red\n",
        "        plt.annotate(label, xy=(x, y), xytext=(4, 4), textcoords='offset points', fontsize=16,\n",
        "                     color=color)\n",
        "\n",
        "    plt.xlim(x_coords.min() - 0.2, x_coords.max() + 0.2)\n",
        "    plt.ylim(y_coords.min() - 0.2, y_coords.max() + 0.2)\n",
        "    plt.title(title)\n",
        "\n",
        "    plt.show()"
      ],
      "metadata": {
        "id": "Ieq1nPPSbLAw"
      },
      "execution_count": 64,
      "outputs": []
    },
    {
      "cell_type": "code",
      "source": [
        "src_words = [u'université', 'amour', 'histoire', u'conférence', 'chien']\n",
        "tgt_words = ['university', 'love', 'history', 'conference', 'dog']\n",
        "\n",
        "\n",
        "# assert words in dictionaries\n",
        "for sw in src_words:\n",
        "    assert sw in src_word2id, '\"%s\" not in source dictionary' % sw\n",
        "for tw in tgt_words:\n",
        "    assert tw in tgt_word2id, '\"%s\" not in target dictionary' % sw\n",
        "\n",
        "pca = reduce_dimension(src_embeddings, tgt_embeddings)\n",
        "plot_similar_word(src_words, src_word2id, src_embeddings,\n",
        "                  tgt_words, tgt_word2id, tgt_embeddings,\n",
        "                  pca,\n",
        "                  'Visualization of the word embedding space (before mapping)'\n",
        "                  )"
      ],
      "metadata": {
        "colab": {
          "base_uri": "https://localhost:8080/",
          "height": 429
        },
        "id": "sy0iINSmbTBL",
        "outputId": "c85cdc56-1b11-46c5-9bc3-7d61fe955393"
      },
      "execution_count": 65,
      "outputs": [
        {
          "output_type": "display_data",
          "data": {
            "text/plain": [
              "<Figure size 640x480 with 1 Axes>"
            ],
            "image/png": "[encoded data removed]"
          },
          "metadata": {
            "needs_background": "light"
          }
        }
      ]
    },
    {
      "cell_type": "code",
      "source": [
        "mapped_embed_src = [mapping(torch.tensor(e).float()).detach().numpy() for e in src_embeddings]"
      ],
      "metadata": {
        "id": "qAqJrAsCcSbU"
      },
      "execution_count": 66,
      "outputs": []
    },
    {
      "cell_type": "code",
      "source": [
        "pca_map = reduce_dimension(mapped_embed_src, tgt_embeddings)\n",
        "\n",
        "plot_similar_word(src_words, src_word2id, mapped_embed_src,\n",
        "                  tgt_words, tgt_word2id, tgt_embeddings,\n",
        "                  pca,\n",
        "                  'Visualization of the word embedding space (after mapping)'\n",
        "                  )"
      ],
      "metadata": {
        "id": "UoUC9ZRugcYq",
        "outputId": "552094a8-396e-4d8e-d75e-c67883a4c63f",
        "colab": {
          "base_uri": "https://localhost:8080/",
          "height": 429
        }
      },
      "execution_count": 68,
      "outputs": [
        {
          "output_type": "display_data",
          "data": {
            "text/plain": [
              "<Figure size 640x480 with 1 Axes>"
            ],
            "image/png": "[encoded data removed]"
          },
          "metadata": {
            "needs_background": "light"
          }
        }
      ]
    },
    {
      "cell_type": "code",
      "source": [],
      "metadata": {
        "id": "nyFz-qb8hptn"
      },
      "execution_count": null,
      "outputs": []
    }
  ]
}