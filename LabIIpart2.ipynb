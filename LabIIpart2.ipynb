{
  "nbformat": 4,
  "nbformat_minor": 0,
  "metadata": {
    "colab": {
      "provenance": [],
      "authorship_tag": "ABX9TyNRdwtaMqYICIIYhbXc/8aK",
      "include_colab_link": true
    },
    "kernelspec": {
      "name": "python3",
      "display_name": "Python 3"
    },
    "language_info": {
      "name": "python"
    },
    "accelerator": "GPU",
    "gpuClass": "standard"
  },
  "cells": [
    {
      "cell_type": "markdown",
      "metadata": {
        "id": "view-in-github",
        "colab_type": "text"
      },
      "source": [
        "<a href=\"https://colab.research.google.com/github/Miolith/nlp3-labs/blob/master/LabIIpart2.ipynb\" target=\"_parent\"><img src=\"https://colab.research.google.com/assets/colab-badge.svg\" alt=\"Open In Colab\"/></a>"
      ]
    },
    {
      "cell_type": "markdown",
      "source": [
        "II. Rotate two semantic spaces (23 points) - Not guided coding"
      ],
      "metadata": {
        "id": "EzlJYEfBwufl"
      }
    },
    {
      "cell_type": "code",
      "source": [
        "!git clone https://github.com/facebookresearch/MUSE.git"
      ],
      "metadata": {
        "colab": {
          "base_uri": "https://localhost:8080/"
        },
        "id": "wNIV3Yj0wrUR",
        "outputId": "598bfc14-e1ad-4d57-ed37-d40808c18880"
      },
      "execution_count": 1,
      "outputs": [
        {
          "output_type": "stream",
          "name": "stdout",
          "text": [
            "fatal: destination path 'MUSE' already exists and is not an empty directory.\n"
          ]
        }
      ]
    },
    {
      "cell_type": "code",
      "source": [
        "!pip install faiss-gpu"
      ],
      "metadata": {
        "colab": {
          "base_uri": "https://localhost:8080/"
        },
        "id": "-xWqDbJc648x",
        "outputId": "f944c92d-9827-413c-b52d-6c986827174e"
      },
      "execution_count": 2,
      "outputs": [
        {
          "output_type": "stream",
          "name": "stdout",
          "text": [
            "Looking in indexes: https://pypi.org/simple, https://us-python.pkg.dev/colab-wheels/public/simple/\n",
            "Requirement already satisfied: faiss-gpu in /usr/local/lib/python3.8/dist-packages (1.7.2)\n"
          ]
        }
      ]
    },
    {
      "cell_type": "code",
      "source": [
        "import os\n",
        "\n",
        "os.chdir(\"MUSE\")"
      ],
      "metadata": {
        "id": "gD-pUUKI2QWD"
      },
      "execution_count": 3,
      "outputs": []
    },
    {
      "cell_type": "code",
      "source": [
        "!cd data/\n",
        "!wget https://dl.fbaipublicfiles.com/arrival/vectors.tar.gz\n",
        "!wget https://dl.fbaipublicfiles.com/arrival/wordsim.tar.gz\n",
        "!wget https://dl.fbaipublicfiles.com/arrival/dictionaries.tar.gz"
      ],
      "metadata": {
        "colab": {
          "base_uri": "https://localhost:8080/"
        },
        "id": "E6S2ztXLAxiq",
        "outputId": "fa740c52-8f6c-4005-c95a-c84baaa784d1"
      },
      "execution_count": 4,
      "outputs": [
        {
          "output_type": "stream",
          "name": "stdout",
          "text": [
            "--2023-01-04 18:35:56--  https://dl.fbaipublicfiles.com/arrival/vectors.tar.gz\n",
            "Resolving dl.fbaipublicfiles.com (dl.fbaipublicfiles.com)... 172.67.9.4, 104.22.75.142, 104.22.74.142, ...\n",
            "Connecting to dl.fbaipublicfiles.com (dl.fbaipublicfiles.com)|172.67.9.4|:443... connected.\n",
            "HTTP request sent, awaiting response... 200 OK\n",
            "Length: 7010161506 (6.5G) [application/gzip]\n",
            "Saving to: ‘vectors.tar.gz’\n",
            "\n",
            "vectors.tar.gz      100%[===================>]   6.53G  42.6MB/s    in 23m 43s \n",
            "\n",
            "2023-01-04 18:59:41 (4.70 MB/s) - ‘vectors.tar.gz’ saved [7010161506/7010161506]\n",
            "\n",
            "--2023-01-04 18:59:41--  https://dl.fbaipublicfiles.com/arrival/wordsim.tar.gz\n",
            "Resolving dl.fbaipublicfiles.com (dl.fbaipublicfiles.com)... 104.22.75.142, 172.67.9.4, 104.22.74.142, ...\n",
            "Connecting to dl.fbaipublicfiles.com (dl.fbaipublicfiles.com)|104.22.75.142|:443... connected.\n",
            "HTTP request sent, awaiting response... 200 OK\n",
            "Length: 204540 (200K) [application/gzip]\n",
            "Saving to: ‘wordsim.tar.gz’\n",
            "\n",
            "wordsim.tar.gz      100%[===================>] 199.75K   649KB/s    in 0.3s    \n",
            "\n",
            "2023-01-04 18:59:42 (649 KB/s) - ‘wordsim.tar.gz’ saved [204540/204540]\n",
            "\n",
            "--2023-01-04 18:59:42--  https://dl.fbaipublicfiles.com/arrival/dictionaries.tar.gz\n",
            "Resolving dl.fbaipublicfiles.com (dl.fbaipublicfiles.com)... 104.22.75.142, 172.67.9.4, 104.22.74.142, ...\n",
            "Connecting to dl.fbaipublicfiles.com (dl.fbaipublicfiles.com)|104.22.75.142|:443... connected.\n",
            "HTTP request sent, awaiting response... 200 OK\n",
            "Length: 62097248 (59M) [application/gzip]\n",
            "Saving to: ‘dictionaries.tar.gz’\n",
            "\n",
            "dictionaries.tar.gz 100%[===================>]  59.22M  15.8MB/s    in 7.3s    \n",
            "\n",
            "2023-01-04 18:59:50 (8.14 MB/s) - ‘dictionaries.tar.gz’ saved [62097248/62097248]\n",
            "\n"
          ]
        }
      ]
    },
    {
      "cell_type": "code",
      "source": [
        "# English fastText Wikipedia embeddings\n",
        "!curl -Lo data/wiki.en.vec https://dl.fbaipublicfiles.com/fasttext/vectors-wiki/wiki.en.vec\n",
        "# French fastText Wikipedia embeddings\n",
        "!curl -Lo data/wiki.fr.vec https://dl.fbaipublicfiles.com/fasttext/vectors-wiki/wiki.fr.vec"
      ],
      "metadata": {
        "colab": {
          "base_uri": "https://localhost:8080/"
        },
        "id": "k9WZomcD2d03",
        "outputId": "2cf1ff47-3033-4e78-c2da-a654c2cb8e90"
      },
      "execution_count": 5,
      "outputs": [
        {
          "output_type": "stream",
          "name": "stdout",
          "text": [
            "  % Total    % Received % Xferd  Average Speed   Time    Time     Time  Current\n",
            "                                 Dload  Upload   Total   Spent    Left  Speed\n",
            "100 6291M  100 6291M    0     0  7440k      0  0:14:25  0:14:25 --:--:-- 37.7M\n",
            "  % Total    % Received % Xferd  Average Speed   Time    Time     Time  Current\n",
            "                                 Dload  Upload   Total   Spent    Left  Speed\n",
            "100 2886M  100 2886M    0     0  33.9M      0  0:01:25  0:01:25 --:--:-- 42.3M\n"
          ]
        }
      ]
    },
    {
      "cell_type": "code",
      "source": [
        "!python unsupervised.py --src_lang fr --tgt_lang en --src_emb data/wiki.fr.vec --tgt_emb data/wiki.en.vec --n_refinement 5"
      ],
      "metadata": {
        "colab": {
          "base_uri": "https://localhost:8080/"
        },
        "id": "19JlxeBiD20o",
        "outputId": "1212ee35-6e08-4f56-f47a-45b47f0c262a"
      },
      "execution_count": 6,
      "outputs": [
        {
          "output_type": "stream",
          "name": "stdout",
          "text": [
            "INFO - 01/04/23 19:15:44 - 0:00:00 - ============ Initialized logger ============\n",
            "INFO - 01/04/23 19:15:44 - 0:00:00 - adversarial: True\n",
            "                                     batch_size: 32\n",
            "                                     cuda: True\n",
            "                                     dico_build: S2T\n",
            "                                     dico_eval: default\n",
            "                                     dico_max_rank: 15000\n",
            "                                     dico_max_size: 0\n",
            "                                     dico_method: csls_knn_10\n",
            "                                     dico_min_size: 0\n",
            "                                     dico_threshold: 0\n",
            "                                     dis_clip_weights: 0\n",
            "                                     dis_dropout: 0.0\n",
            "                                     dis_hid_dim: 2048\n",
            "                                     dis_input_dropout: 0.1\n",
            "                                     dis_lambda: 1\n",
            "                                     dis_layers: 2\n",
            "                                     dis_most_frequent: 75000\n",
            "                                     dis_optimizer: sgd,lr=0.1\n",
            "                                     dis_smooth: 0.1\n",
            "                                     dis_steps: 5\n",
            "                                     emb_dim: 300\n",
            "                                     epoch_size: 1000000\n",
            "                                     exp_id: \n",
            "                                     exp_name: debug\n",
            "                                     exp_path: /content/MUSE/dumped/debug/0rfmiphzr9\n",
            "                                     export: txt\n",
            "                                     lr_decay: 0.98\n",
            "                                     lr_shrink: 0.5\n",
            "                                     map_beta: 0.001\n",
            "                                     map_id_init: True\n",
            "                                     map_optimizer: sgd,lr=0.1\n",
            "                                     max_vocab: 200000\n",
            "                                     min_lr: 1e-06\n",
            "                                     n_epochs: 5\n",
            "                                     n_refinement: 5\n",
            "                                     normalize_embeddings: \n",
            "                                     seed: -1\n",
            "                                     src_emb: data/wiki.fr.vec\n",
            "                                     src_lang: fr\n",
            "                                     tgt_emb: data/wiki.en.vec\n",
            "                                     tgt_lang: en\n",
            "                                     verbose: 2\n",
            "INFO - 01/04/23 19:15:44 - 0:00:00 - The experiment will be stored in /content/MUSE/dumped/debug/0rfmiphzr9\n",
            "INFO - 01/04/23 19:15:54 - 0:00:10 - Loaded 200000 pre-trained word embeddings.\n",
            "INFO - 01/04/23 19:16:08 - 0:00:24 - Loaded 200000 pre-trained word embeddings.\n",
            "Traceback (most recent call last):\n",
            "  File \"unsupervised.py\", line 96, in <module>\n",
            "    trainer = Trainer(src_emb, tgt_emb, mapping, discriminator, params)\n",
            "  File \"/content/MUSE/src/trainer.py\", line 41, in __init__\n",
            "    optim_fn, optim_params = get_optimizer(params.map_optimizer)\n",
            "  File \"/content/MUSE/src/utils.py\", line 218, in get_optimizer\n",
            "    expected_args = inspect.getargspec(optim_fn.__init__)[0]\n",
            "  File \"/usr/lib/python3.8/inspect.py\", line 1095, in getargspec\n",
            "    raise ValueError(\"Function has keyword-only parameters or annotations\"\n",
            "ValueError: Function has keyword-only parameters or annotations, use inspect.signature() API which can support them\n"
          ]
        }
      ]
    },
    {
      "cell_type": "code",
      "source": [
        "fr_eng_id = !ls fr_to_en\n",
        "fr_eng_id = fr_eng_id[0]"
      ],
      "metadata": {
        "id": "p5UHQTK87IC0"
      },
      "execution_count": 7,
      "outputs": []
    },
    {
      "cell_type": "code",
      "source": [
        "fr_eng_id"
      ],
      "metadata": {
        "colab": {
          "base_uri": "https://localhost:8080/",
          "height": 35
        },
        "id": "bEwAlEPjCvng",
        "outputId": "f6ccafa3-9cf4-4f82-de1c-bbfe58eefc64"
      },
      "execution_count": 8,
      "outputs": [
        {
          "output_type": "execute_result",
          "data": {
            "text/plain": [
              "'uxryb3ma17'"
            ],
            "application/vnd.google.colaboratory.intrinsic+json": {
              "type": "string"
            }
          },
          "metadata": {},
          "execution_count": 8
        }
      ]
    },
    {
      "cell_type": "code",
      "source": [],
      "metadata": {
        "id": "JZ2WGrLgDAAg"
      },
      "execution_count": 8,
      "outputs": []
    }
  ]
}