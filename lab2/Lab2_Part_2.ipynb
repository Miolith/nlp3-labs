{
  "nbformat": 4,
  "nbformat_minor": 0,
  "metadata": {
    "colab": {
      "provenance": [],
      "include_colab_link": true
    },
    "kernelspec": {
      "name": "python3",
      "display_name": "Python 3"
    },
    "language_info": {
      "name": "python"
    },
    "accelerator": "GPU",
    "gpuClass": "standard"
  },
  "cells": [
    {
      "cell_type": "markdown",
      "metadata": {
        "id": "view-in-github",
        "colab_type": "text"
      },
      "source": [
        "<a href=\"https://colab.research.google.com/github/Miolith/nlp3-labs/blob/master/lab2/Lab2_Part_2.ipynb\" target=\"_parent\"><img src=\"https://colab.research.google.com/assets/colab-badge.svg\" alt=\"Open In Colab\"/></a>"
      ]
    },
    {
      "cell_type": "markdown",
      "source": [
        "# II. Rotate two semantic spaces (23 points) - Not guided coding"
      ],
      "metadata": {
        "id": "EzlJYEfBwufl"
      }
    },
    {
      "cell_type": "code",
      "source": [
        "# our own fork of MUSE, the library doesn't\n",
        "# seem to work on Google Colab otherwise\n",
        "\n",
        "!git clone https://github.com/Miolith/MUSE.git"
      ],
      "metadata": {
        "colab": {
          "base_uri": "https://localhost:8080/"
        },
        "id": "wNIV3Yj0wrUR",
        "outputId": "3c10baef-b766-4063-891e-8595b1cde374"
      },
      "execution_count": 1,
      "outputs": [
        {
          "output_type": "stream",
          "name": "stdout",
          "text": [
            "Cloning into 'MUSE'...\n",
            "remote: Enumerating objects: 239, done.\u001b[K\n",
            "remote: Counting objects: 100% (6/6), done.\u001b[K\n",
            "remote: Compressing objects: 100% (6/6), done.\u001b[K\n",
            "remote: Total 239 (delta 0), reused 1 (delta 0), pack-reused 233\u001b[K\n",
            "Receiving objects: 100% (239/239), 222.07 KiB | 473.00 KiB/s, done.\n",
            "Resolving deltas: 100% (134/134), done.\n"
          ]
        }
      ]
    },
    {
      "cell_type": "code",
      "source": [
        "# Execute this if the previous git doesn't work\n",
        "# !git clone https://github.com/facebookresearch/MUSE"
      ],
      "metadata": {
        "id": "rsW3dPo77H0-"
      },
      "execution_count": 2,
      "outputs": []
    },
    {
      "cell_type": "code",
      "source": [
        "!pip install faiss-gpu"
      ],
      "metadata": {
        "colab": {
          "base_uri": "https://localhost:8080/"
        },
        "id": "-xWqDbJc648x",
        "outputId": "e8ea4a9c-ae25-407f-986a-77e000221f59"
      },
      "execution_count": 3,
      "outputs": [
        {
          "output_type": "stream",
          "name": "stdout",
          "text": [
            "Looking in indexes: https://pypi.org/simple, https://us-python.pkg.dev/colab-wheels/public/simple/\n",
            "Collecting faiss-gpu\n",
            "  Downloading faiss_gpu-1.7.2-cp38-cp38-manylinux_2_17_x86_64.manylinux2014_x86_64.whl (85.5 MB)\n",
            "\u001b[2K     \u001b[90m━━━━━━━━━━━━━━━━━━━━━━━━━━━━━━━━━━━━━━━━\u001b[0m \u001b[32m85.5/85.5 MB\u001b[0m \u001b[31m10.4 MB/s\u001b[0m eta \u001b[36m0:00:00\u001b[0m\n",
            "\u001b[?25hInstalling collected packages: faiss-gpu\n",
            "Successfully installed faiss-gpu-1.7.2\n"
          ]
        }
      ]
    },
    {
      "cell_type": "code",
      "source": [
        "%cd MUSE"
      ],
      "metadata": {
        "id": "MyoNAgw8N3al",
        "outputId": "810843a5-fccc-43dd-fee6-16ae0f85edf4",
        "colab": {
          "base_uri": "https://localhost:8080/"
        }
      },
      "execution_count": 4,
      "outputs": [
        {
          "output_type": "stream",
          "name": "stdout",
          "text": [
            "/content/MUSE\n"
          ]
        }
      ]
    },
    {
      "cell_type": "code",
      "source": [
        "# English fastText Wikipedia embeddings\n",
        "!curl -Lo data/wiki.en.vec https://dl.fbaipublicfiles.com/fasttext/vectors-wiki/wiki.en.vec\n",
        "# French fastText Wikipedia embeddings\n",
        "!curl -Lo data/wiki.fr.vec https://dl.fbaipublicfiles.com/fasttext/vectors-wiki/wiki.fr.vec"
      ],
      "metadata": {
        "colab": {
          "base_uri": "https://localhost:8080/"
        },
        "id": "k9WZomcD2d03",
        "outputId": "7821f430-438b-45b3-f202-755f0bbfce21"
      },
      "execution_count": 5,
      "outputs": [
        {
          "output_type": "stream",
          "name": "stdout",
          "text": [
            "  % Total    % Received % Xferd  Average Speed   Time    Time     Time  Current\n",
            "                                 Dload  Upload   Total   Spent    Left  Speed\n",
            "100 6291M  100 6291M    0     0  5574k      0  0:19:15  0:19:15 --:--:-- 3257k\n",
            "  % Total    % Received % Xferd  Average Speed   Time    Time     Time  Current\n",
            "                                 Dload  Upload   Total   Spent    Left  Speed\n",
            "100 2886M  100 2886M    0     0  6630k      0  0:07:25  0:07:25 --:--:-- 7709k\n"
          ]
        }
      ]
    },
    {
      "cell_type": "code",
      "source": [
        "%%capture\n",
        "!python unsupervised.py --src_lang fr --tgt_lang en --src_emb data/wiki.fr.vec --tgt_emb data/wiki.en.vec --n_epochs 1 --exp_name \"fr_to_en\" --exp_path \"./\" --export \"\""
      ],
      "metadata": {
        "id": "19JlxeBiD20o"
      },
      "execution_count": 6,
      "outputs": []
    },
    {
      "cell_type": "code",
      "source": [
        "from glob import glob\n",
        "fr_eng_id = glob(\"fr_to_en/*\")[0]"
      ],
      "metadata": {
        "id": "p5UHQTK87IC0"
      },
      "execution_count": 7,
      "outputs": []
    },
    {
      "cell_type": "code",
      "source": [
        "fr_eng_id"
      ],
      "metadata": {
        "colab": {
          "base_uri": "https://localhost:8080/",
          "height": 36
        },
        "id": "bEwAlEPjCvng",
        "outputId": "e9a63259-bc9d-4bcb-b7a0-d0f1d52c7e63"
      },
      "execution_count": 8,
      "outputs": [
        {
          "output_type": "execute_result",
          "data": {
            "text/plain": [
              "'fr_to_en/vk702sgak8'"
            ],
            "application/vnd.google.colaboratory.intrinsic+json": {
              "type": "string"
            }
          },
          "metadata": {},
          "execution_count": 8
        }
      ]
    },
    {
      "cell_type": "code",
      "source": [
        "import torch\n",
        "# We disabled the export of the embeddings to save RAM\n",
        "# We must then recreate the model with the saved weights\n",
        " \n",
        "mapping = torch.nn.Linear(300,300, bias=False)\n",
        "mapping.weight.data = torch.tensor(torch.load(fr_eng_id + \"/best_mapping.pth\"))\n",
        "mapping"
      ],
      "metadata": {
        "id": "JZ2WGrLgDAAg",
        "colab": {
          "base_uri": "https://localhost:8080/"
        },
        "outputId": "69253fbd-3483-4412-c0a1-505a9cbad152"
      },
      "execution_count": 9,
      "outputs": [
        {
          "output_type": "execute_result",
          "data": {
            "text/plain": [
              "Linear(in_features=300, out_features=300, bias=False)"
            ]
          },
          "metadata": {},
          "execution_count": 9
        }
      ]
    },
    {
      "cell_type": "code",
      "source": [
        "import io\n",
        "import numpy as np\n",
        "\n",
        "# Load the embeddings\n",
        "def load_vec(emb_path, nmax=50000):\n",
        "    vectors = []\n",
        "    word2id = {}\n",
        "    with io.open(emb_path, 'r', encoding='utf-8', newline='\\n', errors='ignore') as f:\n",
        "        next(f)\n",
        "        for i, line in enumerate(f):\n",
        "            word, vect = line.rstrip().split(' ', 1)\n",
        "            vect = np.fromstring(vect, sep=' ')\n",
        "            assert word not in word2id, 'word found twice'\n",
        "            vectors.append(vect)\n",
        "            word2id[word] = len(word2id)\n",
        "            if len(word2id) == nmax:\n",
        "                break\n",
        "    id2word = {v: k for k, v in word2id.items()}\n",
        "    embeddings = np.vstack(vectors)\n",
        "    return embeddings, id2word, word2id\n",
        "\n",
        "src_embeddings, src_id2word, src_word2id = load_vec(\"data/wiki.fr.vec\")\n",
        "tgt_embeddings, tgt_id2word, tgt_word2id = load_vec(\"data/wiki.en.vec\")"
      ],
      "metadata": {
        "id": "ZiGmY-xuTJon"
      },
      "execution_count": 10,
      "outputs": []
    },
    {
      "cell_type": "code",
      "source": [
        "from sklearn.decomposition import PCA\n",
        "\n",
        "def reduce_dimension(src, tgt):\n",
        "    pca = PCA(n_components=2, whiten=True)\n",
        "    pca.fit(np.vstack([src, tgt]))\n",
        "    return pca\n"
      ],
      "metadata": {
        "id": "bmoi88gFacyc"
      },
      "execution_count": 11,
      "outputs": []
    },
    {
      "cell_type": "code",
      "source": [
        "import matplotlib.pyplot as plt\n",
        "\n",
        "\n",
        "def plot_similar_word(src_words, src_word2id, src_emb, tgt_words, tgt_word2id, tgt_emb, pca, title):\n",
        "\n",
        "    Y = []\n",
        "    word_labels = []\n",
        "    for sw in src_words:\n",
        "        Y.append(src_emb[src_word2id[sw]])\n",
        "        word_labels.append(sw)\n",
        "    for tw in tgt_words:\n",
        "        Y.append(tgt_emb[tgt_word2id[tw]])\n",
        "        word_labels.append(tw)\n",
        "\n",
        "    # find pca coords for 2 dimensions\n",
        "    Y = pca.transform(Y)\n",
        "    x_coords = Y[:, 0]\n",
        "    y_coords = Y[:, 1]\n",
        "\n",
        "    # display scatter plot\n",
        "    plt.figure(figsize=(8, 6), dpi=80)\n",
        "    plt.scatter(x_coords, y_coords, marker='x')\n",
        "\n",
        "    for k, (label, x, y) in enumerate(zip(word_labels, x_coords, y_coords)):\n",
        "        color = 'blue' if k < len(src_words) else 'red'  # src words in blue / tgt words in red\n",
        "        plt.annotate(label, xy=(x, y), xytext=(4, 4), textcoords='offset points', fontsize=16,\n",
        "                     color=color)\n",
        "\n",
        "    plt.xlim(x_coords.min() - 0.2, x_coords.max() + 0.2)\n",
        "    plt.ylim(y_coords.min() - 0.2, y_coords.max() + 0.2)\n",
        "    plt.title(title, fontsize=16)\n",
        "\n",
        "    plt.show()"
      ],
      "metadata": {
        "id": "Ieq1nPPSbLAw"
      },
      "execution_count": 12,
      "outputs": []
    },
    {
      "cell_type": "code",
      "source": [
        "src_words = [u'université', 'amour', 'histoire', u'conférence', 'chien']\n",
        "tgt_words = ['university', 'love', 'history', 'conference', 'dog']\n",
        "\n",
        "\n",
        "# assert words in dictionaries\n",
        "for sw in src_words:\n",
        "    assert sw in src_word2id, '\"%s\" not in source dictionary' % sw\n",
        "for tw in tgt_words:\n",
        "    assert tw in tgt_word2id, '\"%s\" not in target dictionary' % sw\n",
        "\n",
        "pca = reduce_dimension(src_embeddings, tgt_embeddings)\n",
        "plot_similar_word(src_words, src_word2id, src_embeddings,\n",
        "                  tgt_words, tgt_word2id, tgt_embeddings,\n",
        "                  pca,\n",
        "                  'Visualization of the word embedding space (before mapping)'\n",
        "                  )"
      ],
      "metadata": {
        "colab": {
          "base_uri": "https://localhost:8080/",
          "height": 433
        },
        "id": "sy0iINSmbTBL",
        "outputId": "250f2a47-e58e-462c-98d4-3fc765826b7a"
      },
      "execution_count": 13,
      "outputs": [
        {
          "output_type": "display_data",
          "data": {
            "text/plain": [
              "<Figure size 640x480 with 1 Axes>"
            ],
            "image/png": "[encoded data removed]"
          },
          "metadata": {
            "needs_background": "light"
          }
        }
      ]
    },
    {
      "cell_type": "code",
      "source": [
        "# Map the embeddings of every word in the source language\n",
        "mapped_embed_src = [mapping(torch.from_numpy(e).float()).detach().numpy() for e in src_embeddings]"
      ],
      "metadata": {
        "id": "qAqJrAsCcSbU"
      },
      "execution_count": 14,
      "outputs": []
    },
    {
      "cell_type": "code",
      "source": [
        "pca_map = reduce_dimension(mapped_embed_src, tgt_embeddings)\n",
        "\n",
        "plot_similar_word(src_words, src_word2id, mapped_embed_src,\n",
        "                  tgt_words, tgt_word2id, tgt_embeddings,\n",
        "                  pca,\n",
        "                  'Visualization of the word embedding space (after mapping)'\n",
        "                  )"
      ],
      "metadata": {
        "colab": {
          "base_uri": "https://localhost:8080/",
          "height": 433
        },
        "id": "UoUC9ZRugcYq",
        "outputId": "2f6b7294-f26a-4e61-cdad-4ae2082f18fb"
      },
      "execution_count": 15,
      "outputs": [
        {
          "output_type": "display_data",
          "data": {
            "text/plain": [
              "<Figure size 640x480 with 1 Axes>"
            ],
            "image/png": "[encoded data removed]"
          },
          "metadata": {
            "needs_background": "light"
          }
        }
      ]
    },
    {
      "cell_type": "code",
      "source": [
        "# Get nearest neighbor\n",
        "def get_nn(word, src_emb, src_id2word, tgt_emb, tgt_id2word, K=5):\n",
        "    print(\"Nearest neighbors of \\\"%s\\\":\" % word)\n",
        "    word2id = {v: k for k, v in src_id2word.items()}\n",
        "    word_emb = src_emb[word2id[word]]\n",
        "    \n",
        "    # Cosine similarity \n",
        "    scores = (tgt_emb / np.linalg.norm(tgt_emb, 2, 1)[:, None]).dot(word_emb / np.linalg.norm(word_emb))\n",
        "    k_best = scores.argsort()[-K:][::-1]\n",
        "    for i, idx in enumerate(k_best):\n",
        "        print('%.4f - %s' % (scores[idx], tgt_id2word[idx]))\n",
        "\n",
        "def translate_fr_to_en(src_word):\n",
        "    get_nn(src_word, mapped_embed_src, src_id2word, tgt_embeddings, tgt_id2word, K=5)"
      ],
      "metadata": {
        "id": "nyFz-qb8hptn"
      },
      "execution_count": 18,
      "outputs": []
    },
    {
      "cell_type": "code",
      "source": [
        "for w in src_words:\n",
        "    translate_fr_to_en(w)\n",
        "    print()"
      ],
      "metadata": {
        "colab": {
          "base_uri": "https://localhost:8080/"
        },
        "id": "wZPU39zrtuIV",
        "outputId": "c6ebc508-9f93-4179-d9b2-f1ae6e7d15e6"
      },
      "execution_count": 19,
      "outputs": [
        {
          "output_type": "stream",
          "name": "stdout",
          "text": [
            "Nearest neighbors of \"université\":\n",
            "0.8858 - university\n",
            "0.7650 - faculty\n",
            "0.7090 - universityuniversity\n",
            "0.6790 - professor\n",
            "0.6725 - wisconsin–madison\n",
            "\n",
            "Nearest neighbors of \"amour\":\n",
            "0.7324 - love\n",
            "0.6498 - longing\n",
            "0.6463 - unrequited\n",
            "0.6080 - lover\n",
            "0.6023 - affection\n",
            "\n",
            "Nearest neighbors of \"histoire\":\n",
            "0.7191 - history\n",
            "0.5381 - histories\n",
            "0.5308 - prehistory\n",
            "0.5282 - historiography\n",
            "0.5233 - historical\n",
            "\n",
            "Nearest neighbors of \"conférence\":\n",
            "0.7360 - conference\n",
            "0.6378 - conferences\n",
            "0.5809 - meeting\n",
            "0.5586 - plenary\n",
            "0.5544 - convened\n",
            "\n",
            "Nearest neighbors of \"chien\":\n",
            "0.7580 - dog\n",
            "0.6293 - dogs\n",
            "0.5983 - poodle\n",
            "0.5832 - puppies\n",
            "0.5757 - puppy\n",
            "\n"
          ]
        }
      ]
    },
    {
      "cell_type": "code",
      "source": [],
      "metadata": {
        "id": "iBC7cLijwuC9"
      },
      "execution_count": null,
      "outputs": []
    }
  ]
}