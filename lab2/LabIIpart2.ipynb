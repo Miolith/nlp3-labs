{
  "nbformat": 4,
  "nbformat_minor": 0,
  "metadata": {
    "colab": {
      "provenance": [],
      "include_colab_link": true
    },
    "kernelspec": {
      "name": "python3",
      "display_name": "Python 3"
    },
    "language_info": {
      "name": "python"
    },
    "accelerator": "GPU",
    "gpuClass": "standard"
  },
  "cells": [
    {
      "cell_type": "markdown",
      "metadata": {
        "id": "view-in-github",
        "colab_type": "text"
      },
      "source": [
        "<a href=\"https://colab.research.google.com/github/Miolith/nlp3-labs/blob/master/lab2/LabIIpart2.ipynb\" target=\"_parent\"><img src=\"https://colab.research.google.com/assets/colab-badge.svg\" alt=\"Open In Colab\"/></a>"
      ]
    },
    {
      "cell_type": "markdown",
      "source": [
        "II. Rotate two semantic spaces (23 points) - Not guided coding"
      ],
      "metadata": {
        "id": "EzlJYEfBwufl"
      }
    },
    {
      "cell_type": "code",
      "source": [
        "# our own fork of MUSE, the library doesn't\n",
        "# seem to work on Google Colab otherwise\n",
        "!git clone https://github.com/Miolith/MUSE.git"
      ],
      "metadata": {
        "colab": {
          "base_uri": "https://localhost:8080/"
        },
        "id": "wNIV3Yj0wrUR",
        "outputId": "17634fef-008b-43ab-8d30-080b0319d289"
      },
      "execution_count": 1,
      "outputs": [
        {
          "output_type": "stream",
          "name": "stdout",
          "text": [
            "Cloning into 'MUSE'...\n",
            "remote: Enumerating objects: 239, done.\u001b[K\n",
            "remote: Counting objects: 100% (6/6), done.\u001b[K\n",
            "remote: Compressing objects: 100% (6/6), done.\u001b[K\n",
            "remote: Total 239 (delta 0), reused 1 (delta 0), pack-reused 233\u001b[K\n",
            "Receiving objects: 100% (239/239), 222.07 KiB | 22.21 MiB/s, done.\n",
            "Resolving deltas: 100% (134/134), done.\n"
          ]
        }
      ]
    },
    {
      "cell_type": "code",
      "source": [
        "!pip install faiss-gpu"
      ],
      "metadata": {
        "colab": {
          "base_uri": "https://localhost:8080/"
        },
        "id": "-xWqDbJc648x",
        "outputId": "f10f1fc8-a0ff-4971-c62a-c78defc47b7a"
      },
      "execution_count": 4,
      "outputs": [
        {
          "output_type": "stream",
          "name": "stdout",
          "text": [
            "Looking in indexes: https://pypi.org/simple, https://us-python.pkg.dev/colab-wheels/public/simple/\n",
            "Requirement already satisfied: faiss-gpu in /usr/local/lib/python3.8/dist-packages (1.7.2)\n"
          ]
        }
      ]
    },
    {
      "cell_type": "code",
      "source": [
        "!cd MUSE"
      ],
      "metadata": {
        "id": "MyoNAgw8N3al"
      },
      "execution_count": null,
      "outputs": []
    },
    {
      "cell_type": "code",
      "source": [
        "# English fastText Wikipedia embeddings\n",
        "!curl -Lo data/wiki.en.vec https://dl.fbaipublicfiles.com/fasttext/vectors-wiki/wiki.en.vec\n",
        "# French fastText Wikipedia embeddings\n",
        "!curl -Lo data/wiki.fr.vec https://dl.fbaipublicfiles.com/fasttext/vectors-wiki/wiki.fr.vec"
      ],
      "metadata": {
        "colab": {
          "base_uri": "https://localhost:8080/"
        },
        "id": "k9WZomcD2d03",
        "outputId": "826d8cf2-fe05-4a81-ef25-d029ebcaec3f"
      },
      "execution_count": 7,
      "outputs": [
        {
          "output_type": "stream",
          "name": "stdout",
          "text": [
            "[Errno 2] No such file or directory: 'MUSE'\n",
            "/content/MUSE\n",
            "  % Total    % Received % Xferd  Average Speed   Time    Time     Time  Current\n",
            "                                 Dload  Upload   Total   Spent    Left  Speed\n",
            "100 6291M  100 6291M    0     0  10.0M      0  0:10:23  0:10:23 --:--:-- 9916k\n",
            "  % Total    % Received % Xferd  Average Speed   Time    Time     Time  Current\n",
            "                                 Dload  Upload   Total   Spent    Left  Speed\n",
            "100 2886M  100 2886M    0     0  12.7M      0  0:03:45  0:03:45 --:--:-- 11.2M\n"
          ]
        }
      ]
    },
    {
      "cell_type": "code",
      "source": [
        "%%capture\n",
        "!python unsupervised.py --src_lang fr --tgt_lang en --src_emb data/wiki.fr.vec --tgt_emb data/wiki.en.vec --n_epochs 1 --exp_name \"fr_to_en\" --exp_path \"./\" --export \"\""
      ],
      "metadata": {
        "id": "19JlxeBiD20o"
      },
      "execution_count": null,
      "outputs": []
    },
    {
      "cell_type": "code",
      "source": [
        "from glob import glob\n",
        "fr_eng_id = glob(\"fr_to_en/*\")[0]"
      ],
      "metadata": {
        "id": "p5UHQTK87IC0"
      },
      "execution_count": 15,
      "outputs": []
    },
    {
      "cell_type": "code",
      "source": [
        "fr_eng_id"
      ],
      "metadata": {
        "colab": {
          "base_uri": "https://localhost:8080/",
          "height": 36
        },
        "id": "bEwAlEPjCvng",
        "outputId": "605c7a89-eb5b-435d-a15b-276f33368c28"
      },
      "execution_count": 16,
      "outputs": [
        {
          "output_type": "execute_result",
          "data": {
            "text/plain": [
              "'fr_to_en/owoqmmzp8s'"
            ],
            "application/vnd.google.colaboratory.intrinsic+json": {
              "type": "string"
            }
          },
          "metadata": {},
          "execution_count": 16
        }
      ]
    },
    {
      "cell_type": "code",
      "source": [
        "import torch\n",
        "mapping = torch.nn.Linear(300,300, bias=False)\n",
        "mapping.weight.data = torch.tensor(torch.load(fr_eng_id + \"/best_mapping.pth\"))\n",
        "mapping"
      ],
      "metadata": {
        "id": "JZ2WGrLgDAAg",
        "colab": {
          "base_uri": "https://localhost:8080/"
        },
        "outputId": "6d414b73-8fb2-4ee0-99b2-f1cdb90b07b8"
      },
      "execution_count": 24,
      "outputs": [
        {
          "output_type": "execute_result",
          "data": {
            "text/plain": [
              "Linear(in_features=300, out_features=300, bias=False)"
            ]
          },
          "metadata": {},
          "execution_count": 24
        }
      ]
    },
    {
      "cell_type": "code",
      "source": [
        "import io\n",
        "import numpy as np\n",
        "\n",
        "def load_vec(emb_path, nmax=50000):\n",
        "    vectors = []\n",
        "    word2id = {}\n",
        "    with io.open(emb_path, 'r', encoding='utf-8', newline='\\n', errors='ignore') as f:\n",
        "        next(f)\n",
        "        for i, line in enumerate(f):\n",
        "            word, vect = line.rstrip().split(' ', 1)\n",
        "            vect = np.fromstring(vect, sep=' ')\n",
        "            assert word not in word2id, 'word found twice'\n",
        "            vectors.append(vect)\n",
        "            word2id[word] = len(word2id)\n",
        "            if len(word2id) == nmax:\n",
        "                break\n",
        "    id2word = {v: k for k, v in word2id.items()}\n",
        "    embeddings = np.vstack(vectors)\n",
        "    return embeddings, id2word, word2id\n",
        "\n",
        "src_embeddings, src_id2word, src_word2id = load_vec(\"data/wiki.fr.vec\")\n",
        "tgt_embeddings, tgt_id2word, tgt_word2id = load_vec(\"data/wiki.en.vec\")"
      ],
      "metadata": {
        "id": "ZiGmY-xuTJon"
      },
      "execution_count": 26,
      "outputs": []
    },
    {
      "cell_type": "code",
      "source": [
        "from sklearn.decomposition import PCA\n",
        "\n",
        "def reduce_dimension(src, tgt):\n",
        "    pca = PCA(n_components=2, whiten=True)\n",
        "    pca.fit(np.vstack([src, tgt]))\n",
        "    return pca\n"
      ],
      "metadata": {
        "id": "bmoi88gFacyc"
      },
      "execution_count": 55,
      "outputs": []
    },
    {
      "cell_type": "code",
      "source": [
        "import matplotlib.pyplot as plt\n",
        "\n",
        "\n",
        "def plot_similar_word(src_words, src_word2id, src_emb, tgt_words, tgt_word2id, tgt_emb, pca, title):\n",
        "\n",
        "    Y = []\n",
        "    word_labels = []\n",
        "    for sw in src_words:\n",
        "        Y.append(src_emb[src_word2id[sw]])\n",
        "        word_labels.append(sw)\n",
        "    for tw in tgt_words:\n",
        "        Y.append(tgt_emb[tgt_word2id[tw]])\n",
        "        word_labels.append(tw)\n",
        "\n",
        "    # find pca coords for 2 dimensions\n",
        "    Y = pca.transform(Y)\n",
        "    x_coords = Y[:, 0]\n",
        "    y_coords = Y[:, 1]\n",
        "\n",
        "    # display scatter plot\n",
        "    plt.figure(figsize=(8, 6), dpi=80)\n",
        "    plt.scatter(x_coords, y_coords, marker='x')\n",
        "\n",
        "    for k, (label, x, y) in enumerate(zip(word_labels, x_coords, y_coords)):\n",
        "        color = 'blue' if k < len(src_words) else 'red'  # src words in blue / tgt words in red\n",
        "        plt.annotate(label, xy=(x, y), xytext=(4, 4), textcoords='offset points', fontsize=16,\n",
        "                     color=color)\n",
        "\n",
        "    plt.xlim(x_coords.min() - 0.2, x_coords.max() + 0.2)\n",
        "    plt.ylim(y_coords.min() - 0.2, y_coords.max() + 0.2)\n",
        "    plt.title(title, fontsize=16)\n",
        "\n",
        "    plt.show()"
      ],
      "metadata": {
        "id": "Ieq1nPPSbLAw"
      },
      "execution_count": 69,
      "outputs": []
    },
    {
      "cell_type": "code",
      "source": [
        "src_words = [u'université', 'amour', 'histoire', u'conférence', 'chien']\n",
        "tgt_words = ['university', 'love', 'history', 'conference', 'dog']\n",
        "\n",
        "\n",
        "# assert words in dictionaries\n",
        "for sw in src_words:\n",
        "    assert sw in src_word2id, '\"%s\" not in source dictionary' % sw\n",
        "for tw in tgt_words:\n",
        "    assert tw in tgt_word2id, '\"%s\" not in target dictionary' % sw\n",
        "\n",
        "pca = reduce_dimension(src_embeddings, tgt_embeddings)\n",
        "plot_similar_word(src_words, src_word2id, src_embeddings,\n",
        "                  tgt_words, tgt_word2id, tgt_embeddings,\n",
        "                  pca,\n",
        "                  'Visualization of the word embedding space (before mapping)'\n",
        "                  )"
      ],
      "metadata": {
        "colab": {
          "base_uri": "https://localhost:8080/",
          "height": 433
        },
        "id": "sy0iINSmbTBL",
        "outputId": "dd7bf2a2-d06c-4b0f-bcf4-b16e0a8a9465"
      },
      "execution_count": 70,
      "outputs": [
        {
          "output_type": "display_data",
          "data": {
            "text/plain": [
              "<Figure size 640x480 with 1 Axes>"
            ],
            "image/png": "[encoded data removed]"
          },
          "metadata": {
            "needs_background": "light"
          }
        }
      ]
    },
    {
      "cell_type": "code",
      "source": [
        "mapped_embed_src = [mapping(torch.from_numpy(e).float()).detach().numpy() for e in src_embeddings]"
      ],
      "metadata": {
        "id": "qAqJrAsCcSbU"
      },
      "execution_count": 71,
      "outputs": []
    },
    {
      "cell_type": "code",
      "source": [
        "pca_map = reduce_dimension(mapped_embed_src, tgt_embeddings)\n",
        "\n",
        "plot_similar_word(src_words, src_word2id, mapped_embed_src,\n",
        "                  tgt_words, tgt_word2id, tgt_embeddings,\n",
        "                  pca,\n",
        "                  'Visualization of the word embedding space (after mapping)'\n",
        "                  )"
      ],
      "metadata": {
        "colab": {
          "base_uri": "https://localhost:8080/",
          "height": 433
        },
        "id": "UoUC9ZRugcYq",
        "outputId": "959d4b37-9d89-4c1a-ce1c-4bc2efbbc38b"
      },
      "execution_count": 72,
      "outputs": [
        {
          "output_type": "display_data",
          "data": {
            "text/plain": [
              "<Figure size 640x480 with 1 Axes>"
            ],
            "image/png": "[encoded data removed]"
          },
          "metadata": {
            "needs_background": "light"
          }
        }
      ]
    },
    {
      "cell_type": "code",
      "source": [
        "def get_nn(word, src_emb, src_id2word, tgt_emb, tgt_id2word, K=5):\n",
        "    print(\"Nearest neighbors of \\\"%s\\\":\" % word)\n",
        "    word2id = {v: k for k, v in src_id2word.items()}\n",
        "    word_emb = src_emb[word2id[word]]\n",
        "    scores = (tgt_emb / np.linalg.norm(tgt_emb, 2, 1)[:, None]).dot(word_emb / np.linalg.norm(word_emb))\n",
        "    k_best = scores.argsort()[-K:][::-1]\n",
        "    for i, idx in enumerate(k_best):\n",
        "        print('%.4f - %s' % (scores[idx], tgt_id2word[idx]))\n",
        "\n",
        "def translate_fr_to_en(src_word):\n",
        "    get_nn(src_word, mapped_embed_src, src_id2word, tgt_embeddings, tgt_id2word, K=5)"
      ],
      "metadata": {
        "id": "nyFz-qb8hptn"
      },
      "execution_count": 75,
      "outputs": []
    },
    {
      "cell_type": "code",
      "source": [
        "for w in src_words:\n",
        "    translate_fr_to_en(w)\n",
        "    print()"
      ],
      "metadata": {
        "id": "wZPU39zrtuIV",
        "outputId": "f7926ea6-dda7-4a12-9f40-c1ea08574edb",
        "colab": {
          "base_uri": "https://localhost:8080/"
        }
      },
      "execution_count": 78,
      "outputs": [
        {
          "output_type": "stream",
          "name": "stdout",
          "text": [
            "Nearest neighbors of \"université\":\n",
            "0.8894 - university\n",
            "0.7790 - faculty\n",
            "0.7130 - universityuniversity\n",
            "0.6767 - professor\n",
            "0.6703 - wisconsin–madison\n",
            "\n",
            "Nearest neighbors of \"amour\":\n",
            "0.7338 - love\n",
            "0.6439 - unrequited\n",
            "0.6349 - longing\n",
            "0.6126 - lover\n",
            "0.6063 - affection\n",
            "\n",
            "Nearest neighbors of \"histoire\":\n",
            "0.7363 - history\n",
            "0.5442 - prehistory\n",
            "0.5373 - histories\n",
            "0.5295 - historiography\n",
            "0.5231 - historical\n",
            "\n",
            "Nearest neighbors of \"conférence\":\n",
            "0.7318 - conference\n",
            "0.6318 - conferences\n",
            "0.5806 - meeting\n",
            "0.5565 - plenary\n",
            "0.5462 - convened\n",
            "\n",
            "Nearest neighbors of \"chien\":\n",
            "0.7598 - dog\n",
            "0.6263 - dogs\n",
            "0.6057 - poodle\n",
            "0.5823 - puppies\n",
            "0.5797 - puppy\n",
            "\n"
          ]
        }
      ]
    },
    {
      "cell_type": "code",
      "source": [],
      "metadata": {
        "id": "iBC7cLijwuC9"
      },
      "execution_count": null,
      "outputs": []
    }
  ]
}